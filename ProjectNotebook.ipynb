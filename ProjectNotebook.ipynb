{
 "cells": [
  {
   "cell_type": "markdown",
   "metadata": {},
   "source": [
    "## Final Project Submission\n",
    "\n",
    "Please fill out:\n",
    "* Student name: \n",
    "* Student pace: self paced / part time / full time\n",
    "* Scheduled project review date/time: \n",
    "* Instructor name: \n",
    "* Blog post URL:\n"
   ]
  },
  {
   "cell_type": "code",
   "execution_count": 105,
   "metadata": {},
   "outputs": [],
   "source": [
    "import pandas as pd\n",
    "import numpy as np\n",
    "import matplotlib.pyplot as plt\n",
    "import seaborn as sns\n",
    "\n",
    "from itertools import combinations\n",
    "from sklearn.model_selection import train_test_split\n",
    "from sklearn.linear_model import LinearRegression\n",
    "from sklearn.model_selection import KFold\n",
    "from sklearn.metrics import r2_score\n",
    "from sklearn.metrics import mean_squared_error\n",
    "from sklearn.model_selection import cross_val_score\n",
    "from math import radians, cos, sin, asin, sqrt"
   ]
  },
  {
   "cell_type": "markdown",
   "metadata": {},
   "source": [
    "# Exploration"
   ]
  },
  {
   "cell_type": "code",
   "execution_count": 2,
   "metadata": {
    "scrolled": false
   },
   "outputs": [
    {
     "data": {
      "text/html": [
       "<div>\n",
       "<style scoped>\n",
       "    .dataframe tbody tr th:only-of-type {\n",
       "        vertical-align: middle;\n",
       "    }\n",
       "\n",
       "    .dataframe tbody tr th {\n",
       "        vertical-align: top;\n",
       "    }\n",
       "\n",
       "    .dataframe thead th {\n",
       "        text-align: right;\n",
       "    }\n",
       "</style>\n",
       "<table border=\"1\" class=\"dataframe\">\n",
       "  <thead>\n",
       "    <tr style=\"text-align: right;\">\n",
       "      <th></th>\n",
       "      <th>id</th>\n",
       "      <th>date</th>\n",
       "      <th>price</th>\n",
       "      <th>bedrooms</th>\n",
       "      <th>bathrooms</th>\n",
       "      <th>sqft_living</th>\n",
       "      <th>sqft_lot</th>\n",
       "      <th>floors</th>\n",
       "      <th>waterfront</th>\n",
       "      <th>view</th>\n",
       "      <th>...</th>\n",
       "      <th>grade</th>\n",
       "      <th>sqft_above</th>\n",
       "      <th>sqft_basement</th>\n",
       "      <th>yr_built</th>\n",
       "      <th>yr_renovated</th>\n",
       "      <th>zipcode</th>\n",
       "      <th>lat</th>\n",
       "      <th>long</th>\n",
       "      <th>sqft_living15</th>\n",
       "      <th>sqft_lot15</th>\n",
       "    </tr>\n",
       "  </thead>\n",
       "  <tbody>\n",
       "    <tr>\n",
       "      <td>0</td>\n",
       "      <td>7129300520</td>\n",
       "      <td>10/13/2014</td>\n",
       "      <td>221900.0</td>\n",
       "      <td>3</td>\n",
       "      <td>1.00</td>\n",
       "      <td>1180</td>\n",
       "      <td>5650</td>\n",
       "      <td>1.0</td>\n",
       "      <td>NaN</td>\n",
       "      <td>0.0</td>\n",
       "      <td>...</td>\n",
       "      <td>7</td>\n",
       "      <td>1180</td>\n",
       "      <td>0.0</td>\n",
       "      <td>1955</td>\n",
       "      <td>0.0</td>\n",
       "      <td>98178</td>\n",
       "      <td>47.5112</td>\n",
       "      <td>-122.257</td>\n",
       "      <td>1340</td>\n",
       "      <td>5650</td>\n",
       "    </tr>\n",
       "    <tr>\n",
       "      <td>1</td>\n",
       "      <td>6414100192</td>\n",
       "      <td>12/9/2014</td>\n",
       "      <td>538000.0</td>\n",
       "      <td>3</td>\n",
       "      <td>2.25</td>\n",
       "      <td>2570</td>\n",
       "      <td>7242</td>\n",
       "      <td>2.0</td>\n",
       "      <td>0.0</td>\n",
       "      <td>0.0</td>\n",
       "      <td>...</td>\n",
       "      <td>7</td>\n",
       "      <td>2170</td>\n",
       "      <td>400.0</td>\n",
       "      <td>1951</td>\n",
       "      <td>1991.0</td>\n",
       "      <td>98125</td>\n",
       "      <td>47.7210</td>\n",
       "      <td>-122.319</td>\n",
       "      <td>1690</td>\n",
       "      <td>7639</td>\n",
       "    </tr>\n",
       "    <tr>\n",
       "      <td>2</td>\n",
       "      <td>5631500400</td>\n",
       "      <td>2/25/2015</td>\n",
       "      <td>180000.0</td>\n",
       "      <td>2</td>\n",
       "      <td>1.00</td>\n",
       "      <td>770</td>\n",
       "      <td>10000</td>\n",
       "      <td>1.0</td>\n",
       "      <td>0.0</td>\n",
       "      <td>0.0</td>\n",
       "      <td>...</td>\n",
       "      <td>6</td>\n",
       "      <td>770</td>\n",
       "      <td>0.0</td>\n",
       "      <td>1933</td>\n",
       "      <td>NaN</td>\n",
       "      <td>98028</td>\n",
       "      <td>47.7379</td>\n",
       "      <td>-122.233</td>\n",
       "      <td>2720</td>\n",
       "      <td>8062</td>\n",
       "    </tr>\n",
       "    <tr>\n",
       "      <td>3</td>\n",
       "      <td>2487200875</td>\n",
       "      <td>12/9/2014</td>\n",
       "      <td>604000.0</td>\n",
       "      <td>4</td>\n",
       "      <td>3.00</td>\n",
       "      <td>1960</td>\n",
       "      <td>5000</td>\n",
       "      <td>1.0</td>\n",
       "      <td>0.0</td>\n",
       "      <td>0.0</td>\n",
       "      <td>...</td>\n",
       "      <td>7</td>\n",
       "      <td>1050</td>\n",
       "      <td>910.0</td>\n",
       "      <td>1965</td>\n",
       "      <td>0.0</td>\n",
       "      <td>98136</td>\n",
       "      <td>47.5208</td>\n",
       "      <td>-122.393</td>\n",
       "      <td>1360</td>\n",
       "      <td>5000</td>\n",
       "    </tr>\n",
       "    <tr>\n",
       "      <td>4</td>\n",
       "      <td>1954400510</td>\n",
       "      <td>2/18/2015</td>\n",
       "      <td>510000.0</td>\n",
       "      <td>3</td>\n",
       "      <td>2.00</td>\n",
       "      <td>1680</td>\n",
       "      <td>8080</td>\n",
       "      <td>1.0</td>\n",
       "      <td>0.0</td>\n",
       "      <td>0.0</td>\n",
       "      <td>...</td>\n",
       "      <td>8</td>\n",
       "      <td>1680</td>\n",
       "      <td>0.0</td>\n",
       "      <td>1987</td>\n",
       "      <td>0.0</td>\n",
       "      <td>98074</td>\n",
       "      <td>47.6168</td>\n",
       "      <td>-122.045</td>\n",
       "      <td>1800</td>\n",
       "      <td>7503</td>\n",
       "    </tr>\n",
       "  </tbody>\n",
       "</table>\n",
       "<p>5 rows × 21 columns</p>\n",
       "</div>"
      ],
      "text/plain": [
       "           id        date     price  bedrooms  bathrooms  sqft_living  \\\n",
       "0  7129300520  10/13/2014  221900.0         3       1.00         1180   \n",
       "1  6414100192   12/9/2014  538000.0         3       2.25         2570   \n",
       "2  5631500400   2/25/2015  180000.0         2       1.00          770   \n",
       "3  2487200875   12/9/2014  604000.0         4       3.00         1960   \n",
       "4  1954400510   2/18/2015  510000.0         3       2.00         1680   \n",
       "\n",
       "   sqft_lot  floors  waterfront  view  ...  grade  sqft_above  sqft_basement  \\\n",
       "0      5650     1.0         NaN   0.0  ...      7        1180            0.0   \n",
       "1      7242     2.0         0.0   0.0  ...      7        2170          400.0   \n",
       "2     10000     1.0         0.0   0.0  ...      6         770            0.0   \n",
       "3      5000     1.0         0.0   0.0  ...      7        1050          910.0   \n",
       "4      8080     1.0         0.0   0.0  ...      8        1680            0.0   \n",
       "\n",
       "  yr_built  yr_renovated  zipcode      lat     long  sqft_living15  sqft_lot15  \n",
       "0     1955           0.0    98178  47.5112 -122.257           1340        5650  \n",
       "1     1951        1991.0    98125  47.7210 -122.319           1690        7639  \n",
       "2     1933           NaN    98028  47.7379 -122.233           2720        8062  \n",
       "3     1965           0.0    98136  47.5208 -122.393           1360        5000  \n",
       "4     1987           0.0    98074  47.6168 -122.045           1800        7503  \n",
       "\n",
       "[5 rows x 21 columns]"
      ]
     },
     "execution_count": 2,
     "metadata": {},
     "output_type": "execute_result"
    }
   ],
   "source": [
    "data = pd.read_csv('kc_house_data.csv')\n",
    "data.head()"
   ]
  },
  {
   "cell_type": "code",
   "execution_count": 3,
   "metadata": {},
   "outputs": [
    {
     "name": "stdout",
     "output_type": "stream",
     "text": [
      "<class 'pandas.core.frame.DataFrame'>\n",
      "RangeIndex: 21597 entries, 0 to 21596\n",
      "Data columns (total 21 columns):\n",
      "id               21597 non-null int64\n",
      "date             21597 non-null object\n",
      "price            21597 non-null float64\n",
      "bedrooms         21597 non-null int64\n",
      "bathrooms        21597 non-null float64\n",
      "sqft_living      21597 non-null int64\n",
      "sqft_lot         21597 non-null int64\n",
      "floors           21597 non-null float64\n",
      "waterfront       19221 non-null float64\n",
      "view             21534 non-null float64\n",
      "condition        21597 non-null int64\n",
      "grade            21597 non-null int64\n",
      "sqft_above       21597 non-null int64\n",
      "sqft_basement    21597 non-null object\n",
      "yr_built         21597 non-null int64\n",
      "yr_renovated     17755 non-null float64\n",
      "zipcode          21597 non-null int64\n",
      "lat              21597 non-null float64\n",
      "long             21597 non-null float64\n",
      "sqft_living15    21597 non-null int64\n",
      "sqft_lot15       21597 non-null int64\n",
      "dtypes: float64(8), int64(11), object(2)\n",
      "memory usage: 3.5+ MB\n"
     ]
    }
   ],
   "source": [
    "data.info()"
   ]
  },
  {
   "cell_type": "code",
   "execution_count": 4,
   "metadata": {
    "scrolled": false
   },
   "outputs": [
    {
     "data": {
      "text/plain": [
       "21420"
      ]
     },
     "execution_count": 4,
     "metadata": {},
     "output_type": "execute_result"
    }
   ],
   "source": [
    "data['id'].nunique()"
   ]
  },
  {
   "cell_type": "code",
   "execution_count": 5,
   "metadata": {
    "scrolled": true
   },
   "outputs": [
    {
     "data": {
      "text/html": [
       "<div>\n",
       "<style scoped>\n",
       "    .dataframe tbody tr th:only-of-type {\n",
       "        vertical-align: middle;\n",
       "    }\n",
       "\n",
       "    .dataframe tbody tr th {\n",
       "        vertical-align: top;\n",
       "    }\n",
       "\n",
       "    .dataframe thead th {\n",
       "        text-align: right;\n",
       "    }\n",
       "</style>\n",
       "<table border=\"1\" class=\"dataframe\">\n",
       "  <thead>\n",
       "    <tr style=\"text-align: right;\">\n",
       "      <th></th>\n",
       "      <th>id</th>\n",
       "      <th>price</th>\n",
       "      <th>bedrooms</th>\n",
       "      <th>bathrooms</th>\n",
       "      <th>sqft_living</th>\n",
       "      <th>sqft_lot</th>\n",
       "      <th>floors</th>\n",
       "      <th>waterfront</th>\n",
       "      <th>view</th>\n",
       "      <th>condition</th>\n",
       "      <th>grade</th>\n",
       "      <th>sqft_above</th>\n",
       "      <th>yr_built</th>\n",
       "      <th>yr_renovated</th>\n",
       "      <th>zipcode</th>\n",
       "      <th>lat</th>\n",
       "      <th>long</th>\n",
       "      <th>sqft_living15</th>\n",
       "      <th>sqft_lot15</th>\n",
       "    </tr>\n",
       "  </thead>\n",
       "  <tbody>\n",
       "    <tr>\n",
       "      <td>count</td>\n",
       "      <td>2.159700e+04</td>\n",
       "      <td>2.159700e+04</td>\n",
       "      <td>21597.000000</td>\n",
       "      <td>21597.000000</td>\n",
       "      <td>21597.000000</td>\n",
       "      <td>2.159700e+04</td>\n",
       "      <td>21597.000000</td>\n",
       "      <td>19221.000000</td>\n",
       "      <td>21534.000000</td>\n",
       "      <td>21597.000000</td>\n",
       "      <td>21597.000000</td>\n",
       "      <td>21597.000000</td>\n",
       "      <td>21597.000000</td>\n",
       "      <td>17755.000000</td>\n",
       "      <td>21597.000000</td>\n",
       "      <td>21597.000000</td>\n",
       "      <td>21597.000000</td>\n",
       "      <td>21597.000000</td>\n",
       "      <td>21597.000000</td>\n",
       "    </tr>\n",
       "    <tr>\n",
       "      <td>mean</td>\n",
       "      <td>4.580474e+09</td>\n",
       "      <td>5.402966e+05</td>\n",
       "      <td>3.373200</td>\n",
       "      <td>2.115826</td>\n",
       "      <td>2080.321850</td>\n",
       "      <td>1.509941e+04</td>\n",
       "      <td>1.494096</td>\n",
       "      <td>0.007596</td>\n",
       "      <td>0.233863</td>\n",
       "      <td>3.409825</td>\n",
       "      <td>7.657915</td>\n",
       "      <td>1788.596842</td>\n",
       "      <td>1970.999676</td>\n",
       "      <td>83.636778</td>\n",
       "      <td>98077.951845</td>\n",
       "      <td>47.560093</td>\n",
       "      <td>-122.213982</td>\n",
       "      <td>1986.620318</td>\n",
       "      <td>12758.283512</td>\n",
       "    </tr>\n",
       "    <tr>\n",
       "      <td>std</td>\n",
       "      <td>2.876736e+09</td>\n",
       "      <td>3.673681e+05</td>\n",
       "      <td>0.926299</td>\n",
       "      <td>0.768984</td>\n",
       "      <td>918.106125</td>\n",
       "      <td>4.141264e+04</td>\n",
       "      <td>0.539683</td>\n",
       "      <td>0.086825</td>\n",
       "      <td>0.765686</td>\n",
       "      <td>0.650546</td>\n",
       "      <td>1.173200</td>\n",
       "      <td>827.759761</td>\n",
       "      <td>29.375234</td>\n",
       "      <td>399.946414</td>\n",
       "      <td>53.513072</td>\n",
       "      <td>0.138552</td>\n",
       "      <td>0.140724</td>\n",
       "      <td>685.230472</td>\n",
       "      <td>27274.441950</td>\n",
       "    </tr>\n",
       "    <tr>\n",
       "      <td>min</td>\n",
       "      <td>1.000102e+06</td>\n",
       "      <td>7.800000e+04</td>\n",
       "      <td>1.000000</td>\n",
       "      <td>0.500000</td>\n",
       "      <td>370.000000</td>\n",
       "      <td>5.200000e+02</td>\n",
       "      <td>1.000000</td>\n",
       "      <td>0.000000</td>\n",
       "      <td>0.000000</td>\n",
       "      <td>1.000000</td>\n",
       "      <td>3.000000</td>\n",
       "      <td>370.000000</td>\n",
       "      <td>1900.000000</td>\n",
       "      <td>0.000000</td>\n",
       "      <td>98001.000000</td>\n",
       "      <td>47.155900</td>\n",
       "      <td>-122.519000</td>\n",
       "      <td>399.000000</td>\n",
       "      <td>651.000000</td>\n",
       "    </tr>\n",
       "    <tr>\n",
       "      <td>25%</td>\n",
       "      <td>2.123049e+09</td>\n",
       "      <td>3.220000e+05</td>\n",
       "      <td>3.000000</td>\n",
       "      <td>1.750000</td>\n",
       "      <td>1430.000000</td>\n",
       "      <td>5.040000e+03</td>\n",
       "      <td>1.000000</td>\n",
       "      <td>0.000000</td>\n",
       "      <td>0.000000</td>\n",
       "      <td>3.000000</td>\n",
       "      <td>7.000000</td>\n",
       "      <td>1190.000000</td>\n",
       "      <td>1951.000000</td>\n",
       "      <td>0.000000</td>\n",
       "      <td>98033.000000</td>\n",
       "      <td>47.471100</td>\n",
       "      <td>-122.328000</td>\n",
       "      <td>1490.000000</td>\n",
       "      <td>5100.000000</td>\n",
       "    </tr>\n",
       "    <tr>\n",
       "      <td>50%</td>\n",
       "      <td>3.904930e+09</td>\n",
       "      <td>4.500000e+05</td>\n",
       "      <td>3.000000</td>\n",
       "      <td>2.250000</td>\n",
       "      <td>1910.000000</td>\n",
       "      <td>7.618000e+03</td>\n",
       "      <td>1.500000</td>\n",
       "      <td>0.000000</td>\n",
       "      <td>0.000000</td>\n",
       "      <td>3.000000</td>\n",
       "      <td>7.000000</td>\n",
       "      <td>1560.000000</td>\n",
       "      <td>1975.000000</td>\n",
       "      <td>0.000000</td>\n",
       "      <td>98065.000000</td>\n",
       "      <td>47.571800</td>\n",
       "      <td>-122.231000</td>\n",
       "      <td>1840.000000</td>\n",
       "      <td>7620.000000</td>\n",
       "    </tr>\n",
       "    <tr>\n",
       "      <td>75%</td>\n",
       "      <td>7.308900e+09</td>\n",
       "      <td>6.450000e+05</td>\n",
       "      <td>4.000000</td>\n",
       "      <td>2.500000</td>\n",
       "      <td>2550.000000</td>\n",
       "      <td>1.068500e+04</td>\n",
       "      <td>2.000000</td>\n",
       "      <td>0.000000</td>\n",
       "      <td>0.000000</td>\n",
       "      <td>4.000000</td>\n",
       "      <td>8.000000</td>\n",
       "      <td>2210.000000</td>\n",
       "      <td>1997.000000</td>\n",
       "      <td>0.000000</td>\n",
       "      <td>98118.000000</td>\n",
       "      <td>47.678000</td>\n",
       "      <td>-122.125000</td>\n",
       "      <td>2360.000000</td>\n",
       "      <td>10083.000000</td>\n",
       "    </tr>\n",
       "    <tr>\n",
       "      <td>max</td>\n",
       "      <td>9.900000e+09</td>\n",
       "      <td>7.700000e+06</td>\n",
       "      <td>33.000000</td>\n",
       "      <td>8.000000</td>\n",
       "      <td>13540.000000</td>\n",
       "      <td>1.651359e+06</td>\n",
       "      <td>3.500000</td>\n",
       "      <td>1.000000</td>\n",
       "      <td>4.000000</td>\n",
       "      <td>5.000000</td>\n",
       "      <td>13.000000</td>\n",
       "      <td>9410.000000</td>\n",
       "      <td>2015.000000</td>\n",
       "      <td>2015.000000</td>\n",
       "      <td>98199.000000</td>\n",
       "      <td>47.777600</td>\n",
       "      <td>-121.315000</td>\n",
       "      <td>6210.000000</td>\n",
       "      <td>871200.000000</td>\n",
       "    </tr>\n",
       "  </tbody>\n",
       "</table>\n",
       "</div>"
      ],
      "text/plain": [
       "                 id         price      bedrooms     bathrooms   sqft_living  \\\n",
       "count  2.159700e+04  2.159700e+04  21597.000000  21597.000000  21597.000000   \n",
       "mean   4.580474e+09  5.402966e+05      3.373200      2.115826   2080.321850   \n",
       "std    2.876736e+09  3.673681e+05      0.926299      0.768984    918.106125   \n",
       "min    1.000102e+06  7.800000e+04      1.000000      0.500000    370.000000   \n",
       "25%    2.123049e+09  3.220000e+05      3.000000      1.750000   1430.000000   \n",
       "50%    3.904930e+09  4.500000e+05      3.000000      2.250000   1910.000000   \n",
       "75%    7.308900e+09  6.450000e+05      4.000000      2.500000   2550.000000   \n",
       "max    9.900000e+09  7.700000e+06     33.000000      8.000000  13540.000000   \n",
       "\n",
       "           sqft_lot        floors    waterfront          view     condition  \\\n",
       "count  2.159700e+04  21597.000000  19221.000000  21534.000000  21597.000000   \n",
       "mean   1.509941e+04      1.494096      0.007596      0.233863      3.409825   \n",
       "std    4.141264e+04      0.539683      0.086825      0.765686      0.650546   \n",
       "min    5.200000e+02      1.000000      0.000000      0.000000      1.000000   \n",
       "25%    5.040000e+03      1.000000      0.000000      0.000000      3.000000   \n",
       "50%    7.618000e+03      1.500000      0.000000      0.000000      3.000000   \n",
       "75%    1.068500e+04      2.000000      0.000000      0.000000      4.000000   \n",
       "max    1.651359e+06      3.500000      1.000000      4.000000      5.000000   \n",
       "\n",
       "              grade    sqft_above      yr_built  yr_renovated       zipcode  \\\n",
       "count  21597.000000  21597.000000  21597.000000  17755.000000  21597.000000   \n",
       "mean       7.657915   1788.596842   1970.999676     83.636778  98077.951845   \n",
       "std        1.173200    827.759761     29.375234    399.946414     53.513072   \n",
       "min        3.000000    370.000000   1900.000000      0.000000  98001.000000   \n",
       "25%        7.000000   1190.000000   1951.000000      0.000000  98033.000000   \n",
       "50%        7.000000   1560.000000   1975.000000      0.000000  98065.000000   \n",
       "75%        8.000000   2210.000000   1997.000000      0.000000  98118.000000   \n",
       "max       13.000000   9410.000000   2015.000000   2015.000000  98199.000000   \n",
       "\n",
       "                lat          long  sqft_living15     sqft_lot15  \n",
       "count  21597.000000  21597.000000   21597.000000   21597.000000  \n",
       "mean      47.560093   -122.213982    1986.620318   12758.283512  \n",
       "std        0.138552      0.140724     685.230472   27274.441950  \n",
       "min       47.155900   -122.519000     399.000000     651.000000  \n",
       "25%       47.471100   -122.328000    1490.000000    5100.000000  \n",
       "50%       47.571800   -122.231000    1840.000000    7620.000000  \n",
       "75%       47.678000   -122.125000    2360.000000   10083.000000  \n",
       "max       47.777600   -121.315000    6210.000000  871200.000000  "
      ]
     },
     "execution_count": 5,
     "metadata": {},
     "output_type": "execute_result"
    }
   ],
   "source": [
    "data.describe()"
   ]
  },
  {
   "cell_type": "code",
   "execution_count": 6,
   "metadata": {
    "scrolled": false
   },
   "outputs": [
    {
     "data": {
      "image/png": "[encoded data removed]",
      "text/plain": [
       "<Figure size 1440x1440 with 20 Axes>"
      ]
     },
     "metadata": {
      "needs_background": "light"
     },
     "output_type": "display_data"
    }
   ],
   "source": [
    "data.hist(figsize=(20,20));"
   ]
  },
  {
   "cell_type": "markdown",
   "metadata": {},
   "source": [
    "Based on the skews in some of these distributions it seems likely that there are outliers in price, bedrooms, sqft_above, sqft_living, sqft_lot, sqft_lot15. \n",
    "\n",
    "Additionally, there are several binomial distributions that should be converted to categorical data. "
   ]
  },
  {
   "cell_type": "markdown",
   "metadata": {},
   "source": [
    "# Cleaning"
   ]
  },
  {
   "cell_type": "markdown",
   "metadata": {},
   "source": [
    "### Address Outliers"
   ]
  },
  {
   "cell_type": "markdown",
   "metadata": {},
   "source": [
    "#### Independent Variable- Price"
   ]
  },
  {
   "cell_type": "code",
   "execution_count": 7,
   "metadata": {
    "scrolled": false
   },
   "outputs": [
    {
     "data": {
      "image/png": "[encoded data removed]",
      "text/plain": [
       "<Figure size 432x288 with 1 Axes>"
      ]
     },
     "metadata": {
      "needs_background": "light"
     },
     "output_type": "display_data"
    }
   ],
   "source": [
    "plt.title('Before Removing Outliers')\n",
    "data['price'].hist();"
   ]
  },
  {
   "cell_type": "code",
   "execution_count": 8,
   "metadata": {},
   "outputs": [
    {
     "data": {
      "text/plain": [
       "1160000.0"
      ]
     },
     "execution_count": 8,
     "metadata": {},
     "output_type": "execute_result"
    }
   ],
   "source": [
    "cutoff = data['price'].quantile(.95)\n",
    "cutoff"
   ]
  },
  {
   "cell_type": "code",
   "execution_count": 9,
   "metadata": {},
   "outputs": [
    {
     "data": {
      "text/plain": [
       "count    1.066000e+03\n",
       "mean     1.707364e+06\n",
       "std      6.599177e+05\n",
       "min      1.170000e+06\n",
       "25%      1.300000e+06\n",
       "50%      1.500000e+06\n",
       "75%      1.870000e+06\n",
       "max      7.700000e+06\n",
       "Name: price, dtype: float64"
      ]
     },
     "execution_count": 9,
     "metadata": {},
     "output_type": "execute_result"
    }
   ],
   "source": [
    "data[data['price']>cutoff]['price'].describe()"
   ]
  },
  {
   "cell_type": "code",
   "execution_count": 10,
   "metadata": {
    "scrolled": true
   },
   "outputs": [
    {
     "data": {
      "image/png": "[encoded data removed]",
      "text/plain": [
       "<Figure size 432x288 with 1 Axes>"
      ]
     },
     "metadata": {
      "needs_background": "light"
     },
     "output_type": "display_data"
    }
   ],
   "source": [
    "plt.title('After Removing Outliers')\n",
    "data[data['price']<cutoff]['price'].hist();"
   ]
  },
  {
   "cell_type": "markdown",
   "metadata": {},
   "source": [
    "It appears there are some significant outliers causing right leaning skew in the data. By dropping houses that sold for over $1,160,000 (5 percent of the data) the distribution appears observably more normal. "
   ]
  },
  {
   "cell_type": "code",
   "execution_count": 11,
   "metadata": {
    "scrolled": true
   },
   "outputs": [
    {
     "data": {
      "text/html": [
       "<div>\n",
       "<style scoped>\n",
       "    .dataframe tbody tr th:only-of-type {\n",
       "        vertical-align: middle;\n",
       "    }\n",
       "\n",
       "    .dataframe tbody tr th {\n",
       "        vertical-align: top;\n",
       "    }\n",
       "\n",
       "    .dataframe thead th {\n",
       "        text-align: right;\n",
       "    }\n",
       "</style>\n",
       "<table border=\"1\" class=\"dataframe\">\n",
       "  <thead>\n",
       "    <tr style=\"text-align: right;\">\n",
       "      <th></th>\n",
       "      <th>id</th>\n",
       "      <th>price</th>\n",
       "      <th>bedrooms</th>\n",
       "      <th>bathrooms</th>\n",
       "      <th>sqft_living</th>\n",
       "      <th>sqft_lot</th>\n",
       "      <th>floors</th>\n",
       "      <th>waterfront</th>\n",
       "      <th>view</th>\n",
       "      <th>condition</th>\n",
       "      <th>grade</th>\n",
       "      <th>sqft_above</th>\n",
       "      <th>yr_built</th>\n",
       "      <th>yr_renovated</th>\n",
       "      <th>zipcode</th>\n",
       "      <th>lat</th>\n",
       "      <th>long</th>\n",
       "      <th>sqft_living15</th>\n",
       "      <th>sqft_lot15</th>\n",
       "    </tr>\n",
       "  </thead>\n",
       "  <tbody>\n",
       "    <tr>\n",
       "      <td>count</td>\n",
       "      <td>2.051300e+04</td>\n",
       "      <td>2.051300e+04</td>\n",
       "      <td>20513.000000</td>\n",
       "      <td>20513.000000</td>\n",
       "      <td>20513.000000</td>\n",
       "      <td>2.051300e+04</td>\n",
       "      <td>20513.000000</td>\n",
       "      <td>18238.000000</td>\n",
       "      <td>20454.000000</td>\n",
       "      <td>20513.000000</td>\n",
       "      <td>20513.000000</td>\n",
       "      <td>20513.000000</td>\n",
       "      <td>20513.000000</td>\n",
       "      <td>16872.000000</td>\n",
       "      <td>20513.000000</td>\n",
       "      <td>20513.000000</td>\n",
       "      <td>20513.000000</td>\n",
       "      <td>20513.000000</td>\n",
       "      <td>20513.000000</td>\n",
       "    </tr>\n",
       "    <tr>\n",
       "      <td>mean</td>\n",
       "      <td>4.601563e+09</td>\n",
       "      <td>4.791037e+05</td>\n",
       "      <td>3.334276</td>\n",
       "      <td>2.055514</td>\n",
       "      <td>1981.343879</td>\n",
       "      <td>1.466203e+04</td>\n",
       "      <td>1.476527</td>\n",
       "      <td>0.002961</td>\n",
       "      <td>0.174294</td>\n",
       "      <td>3.406474</td>\n",
       "      <td>7.537903</td>\n",
       "      <td>1712.829328</td>\n",
       "      <td>1970.841320</td>\n",
       "      <td>74.274241</td>\n",
       "      <td>98078.513821</td>\n",
       "      <td>47.557097</td>\n",
       "      <td>-122.213176</td>\n",
       "      <td>1926.114513</td>\n",
       "      <td>12462.408570</td>\n",
       "    </tr>\n",
       "    <tr>\n",
       "      <td>std</td>\n",
       "      <td>2.877363e+09</td>\n",
       "      <td>2.112197e+05</td>\n",
       "      <td>0.910827</td>\n",
       "      <td>0.712861</td>\n",
       "      <td>781.962556</td>\n",
       "      <td>4.017872e+04</td>\n",
       "      <td>0.536588</td>\n",
       "      <td>0.054335</td>\n",
       "      <td>0.645026</td>\n",
       "      <td>0.646936</td>\n",
       "      <td>1.043487</td>\n",
       "      <td>732.934603</td>\n",
       "      <td>29.164756</td>\n",
       "      <td>377.774512</td>\n",
       "      <td>53.336480</td>\n",
       "      <td>0.140912</td>\n",
       "      <td>0.142299</td>\n",
       "      <td>619.123059</td>\n",
       "      <td>26539.735841</td>\n",
       "    </tr>\n",
       "    <tr>\n",
       "      <td>min</td>\n",
       "      <td>1.000102e+06</td>\n",
       "      <td>7.800000e+04</td>\n",
       "      <td>1.000000</td>\n",
       "      <td>0.500000</td>\n",
       "      <td>370.000000</td>\n",
       "      <td>5.200000e+02</td>\n",
       "      <td>1.000000</td>\n",
       "      <td>0.000000</td>\n",
       "      <td>0.000000</td>\n",
       "      <td>1.000000</td>\n",
       "      <td>3.000000</td>\n",
       "      <td>370.000000</td>\n",
       "      <td>1900.000000</td>\n",
       "      <td>0.000000</td>\n",
       "      <td>98001.000000</td>\n",
       "      <td>47.155900</td>\n",
       "      <td>-122.519000</td>\n",
       "      <td>399.000000</td>\n",
       "      <td>651.000000</td>\n",
       "    </tr>\n",
       "    <tr>\n",
       "      <td>25%</td>\n",
       "      <td>2.130702e+09</td>\n",
       "      <td>3.150000e+05</td>\n",
       "      <td>3.000000</td>\n",
       "      <td>1.500000</td>\n",
       "      <td>1400.000000</td>\n",
       "      <td>5.000000e+03</td>\n",
       "      <td>1.000000</td>\n",
       "      <td>0.000000</td>\n",
       "      <td>0.000000</td>\n",
       "      <td>3.000000</td>\n",
       "      <td>7.000000</td>\n",
       "      <td>1180.000000</td>\n",
       "      <td>1951.000000</td>\n",
       "      <td>0.000000</td>\n",
       "      <td>98033.000000</td>\n",
       "      <td>47.461000</td>\n",
       "      <td>-122.330000</td>\n",
       "      <td>1470.000000</td>\n",
       "      <td>5053.000000</td>\n",
       "    </tr>\n",
       "    <tr>\n",
       "      <td>50%</td>\n",
       "      <td>3.905060e+09</td>\n",
       "      <td>4.390000e+05</td>\n",
       "      <td>3.000000</td>\n",
       "      <td>2.000000</td>\n",
       "      <td>1860.000000</td>\n",
       "      <td>7.500000e+03</td>\n",
       "      <td>1.000000</td>\n",
       "      <td>0.000000</td>\n",
       "      <td>0.000000</td>\n",
       "      <td>3.000000</td>\n",
       "      <td>7.000000</td>\n",
       "      <td>1520.000000</td>\n",
       "      <td>1974.000000</td>\n",
       "      <td>0.000000</td>\n",
       "      <td>98065.000000</td>\n",
       "      <td>47.567100</td>\n",
       "      <td>-122.231000</td>\n",
       "      <td>1800.000000</td>\n",
       "      <td>7557.000000</td>\n",
       "    </tr>\n",
       "    <tr>\n",
       "      <td>75%</td>\n",
       "      <td>7.338001e+09</td>\n",
       "      <td>6.050000e+05</td>\n",
       "      <td>4.000000</td>\n",
       "      <td>2.500000</td>\n",
       "      <td>2440.000000</td>\n",
       "      <td>1.034900e+04</td>\n",
       "      <td>2.000000</td>\n",
       "      <td>0.000000</td>\n",
       "      <td>0.000000</td>\n",
       "      <td>4.000000</td>\n",
       "      <td>8.000000</td>\n",
       "      <td>2110.000000</td>\n",
       "      <td>1996.000000</td>\n",
       "      <td>0.000000</td>\n",
       "      <td>98118.000000</td>\n",
       "      <td>47.679800</td>\n",
       "      <td>-122.123000</td>\n",
       "      <td>2280.000000</td>\n",
       "      <td>9900.000000</td>\n",
       "    </tr>\n",
       "    <tr>\n",
       "      <td>max</td>\n",
       "      <td>9.900000e+09</td>\n",
       "      <td>1.150000e+06</td>\n",
       "      <td>33.000000</td>\n",
       "      <td>7.500000</td>\n",
       "      <td>7480.000000</td>\n",
       "      <td>1.651359e+06</td>\n",
       "      <td>3.500000</td>\n",
       "      <td>1.000000</td>\n",
       "      <td>4.000000</td>\n",
       "      <td>5.000000</td>\n",
       "      <td>12.000000</td>\n",
       "      <td>7320.000000</td>\n",
       "      <td>2015.000000</td>\n",
       "      <td>2015.000000</td>\n",
       "      <td>98199.000000</td>\n",
       "      <td>47.777600</td>\n",
       "      <td>-121.315000</td>\n",
       "      <td>5380.000000</td>\n",
       "      <td>871200.000000</td>\n",
       "    </tr>\n",
       "  </tbody>\n",
       "</table>\n",
       "</div>"
      ],
      "text/plain": [
       "                 id         price      bedrooms     bathrooms   sqft_living  \\\n",
       "count  2.051300e+04  2.051300e+04  20513.000000  20513.000000  20513.000000   \n",
       "mean   4.601563e+09  4.791037e+05      3.334276      2.055514   1981.343879   \n",
       "std    2.877363e+09  2.112197e+05      0.910827      0.712861    781.962556   \n",
       "min    1.000102e+06  7.800000e+04      1.000000      0.500000    370.000000   \n",
       "25%    2.130702e+09  3.150000e+05      3.000000      1.500000   1400.000000   \n",
       "50%    3.905060e+09  4.390000e+05      3.000000      2.000000   1860.000000   \n",
       "75%    7.338001e+09  6.050000e+05      4.000000      2.500000   2440.000000   \n",
       "max    9.900000e+09  1.150000e+06     33.000000      7.500000   7480.000000   \n",
       "\n",
       "           sqft_lot        floors    waterfront          view     condition  \\\n",
       "count  2.051300e+04  20513.000000  18238.000000  20454.000000  20513.000000   \n",
       "mean   1.466203e+04      1.476527      0.002961      0.174294      3.406474   \n",
       "std    4.017872e+04      0.536588      0.054335      0.645026      0.646936   \n",
       "min    5.200000e+02      1.000000      0.000000      0.000000      1.000000   \n",
       "25%    5.000000e+03      1.000000      0.000000      0.000000      3.000000   \n",
       "50%    7.500000e+03      1.000000      0.000000      0.000000      3.000000   \n",
       "75%    1.034900e+04      2.000000      0.000000      0.000000      4.000000   \n",
       "max    1.651359e+06      3.500000      1.000000      4.000000      5.000000   \n",
       "\n",
       "              grade    sqft_above      yr_built  yr_renovated       zipcode  \\\n",
       "count  20513.000000  20513.000000  20513.000000  16872.000000  20513.000000   \n",
       "mean       7.537903   1712.829328   1970.841320     74.274241  98078.513821   \n",
       "std        1.043487    732.934603     29.164756    377.774512     53.336480   \n",
       "min        3.000000    370.000000   1900.000000      0.000000  98001.000000   \n",
       "25%        7.000000   1180.000000   1951.000000      0.000000  98033.000000   \n",
       "50%        7.000000   1520.000000   1974.000000      0.000000  98065.000000   \n",
       "75%        8.000000   2110.000000   1996.000000      0.000000  98118.000000   \n",
       "max       12.000000   7320.000000   2015.000000   2015.000000  98199.000000   \n",
       "\n",
       "                lat          long  sqft_living15     sqft_lot15  \n",
       "count  20513.000000  20513.000000   20513.000000   20513.000000  \n",
       "mean      47.557097   -122.213176    1926.114513   12462.408570  \n",
       "std        0.140912      0.142299     619.123059   26539.735841  \n",
       "min       47.155900   -122.519000     399.000000     651.000000  \n",
       "25%       47.461000   -122.330000    1470.000000    5053.000000  \n",
       "50%       47.567100   -122.231000    1800.000000    7557.000000  \n",
       "75%       47.679800   -122.123000    2280.000000    9900.000000  \n",
       "max       47.777600   -121.315000    5380.000000  871200.000000  "
      ]
     },
     "execution_count": 11,
     "metadata": {},
     "output_type": "execute_result"
    }
   ],
   "source": [
    "data = data[data['price']<cutoff]\n",
    "data.describe()"
   ]
  },
  {
   "cell_type": "markdown",
   "metadata": {},
   "source": [
    "#### Bedrooms"
   ]
  },
  {
   "cell_type": "code",
   "execution_count": 12,
   "metadata": {
    "scrolled": true
   },
   "outputs": [
    {
     "data": {
      "image/png": "[encoded data removed]",
      "text/plain": [
       "<Figure size 432x288 with 1 Axes>"
      ]
     },
     "metadata": {
      "needs_background": "light"
     },
     "output_type": "display_data"
    }
   ],
   "source": [
    "plt.title('Before Removing Outliers')\n",
    "data['bedrooms'].hist();"
   ]
  },
  {
   "cell_type": "code",
   "execution_count": 13,
   "metadata": {
    "scrolled": false
   },
   "outputs": [
    {
     "data": {
      "text/html": [
       "<div>\n",
       "<style scoped>\n",
       "    .dataframe tbody tr th:only-of-type {\n",
       "        vertical-align: middle;\n",
       "    }\n",
       "\n",
       "    .dataframe tbody tr th {\n",
       "        vertical-align: top;\n",
       "    }\n",
       "\n",
       "    .dataframe thead th {\n",
       "        text-align: right;\n",
       "    }\n",
       "</style>\n",
       "<table border=\"1\" class=\"dataframe\">\n",
       "  <thead>\n",
       "    <tr style=\"text-align: right;\">\n",
       "      <th></th>\n",
       "      <th>id</th>\n",
       "      <th>date</th>\n",
       "      <th>price</th>\n",
       "      <th>bedrooms</th>\n",
       "      <th>bathrooms</th>\n",
       "      <th>sqft_living</th>\n",
       "      <th>sqft_lot</th>\n",
       "      <th>floors</th>\n",
       "      <th>waterfront</th>\n",
       "      <th>view</th>\n",
       "      <th>...</th>\n",
       "      <th>grade</th>\n",
       "      <th>sqft_above</th>\n",
       "      <th>sqft_basement</th>\n",
       "      <th>yr_built</th>\n",
       "      <th>yr_renovated</th>\n",
       "      <th>zipcode</th>\n",
       "      <th>lat</th>\n",
       "      <th>long</th>\n",
       "      <th>sqft_living15</th>\n",
       "      <th>sqft_lot15</th>\n",
       "    </tr>\n",
       "  </thead>\n",
       "  <tbody>\n",
       "    <tr>\n",
       "      <td>4092</td>\n",
       "      <td>1997200215</td>\n",
       "      <td>5/7/2014</td>\n",
       "      <td>599999.0</td>\n",
       "      <td>9</td>\n",
       "      <td>4.50</td>\n",
       "      <td>3830</td>\n",
       "      <td>6988</td>\n",
       "      <td>2.5</td>\n",
       "      <td>0.0</td>\n",
       "      <td>0.0</td>\n",
       "      <td>...</td>\n",
       "      <td>7</td>\n",
       "      <td>2450</td>\n",
       "      <td>1380.0</td>\n",
       "      <td>1938</td>\n",
       "      <td>0.0</td>\n",
       "      <td>98103</td>\n",
       "      <td>47.6927</td>\n",
       "      <td>-122.338</td>\n",
       "      <td>1460</td>\n",
       "      <td>6291</td>\n",
       "    </tr>\n",
       "    <tr>\n",
       "      <td>4231</td>\n",
       "      <td>2902200015</td>\n",
       "      <td>1/6/2015</td>\n",
       "      <td>700000.0</td>\n",
       "      <td>9</td>\n",
       "      <td>3.00</td>\n",
       "      <td>3680</td>\n",
       "      <td>4400</td>\n",
       "      <td>2.0</td>\n",
       "      <td>0.0</td>\n",
       "      <td>0.0</td>\n",
       "      <td>...</td>\n",
       "      <td>7</td>\n",
       "      <td>2830</td>\n",
       "      <td>850.0</td>\n",
       "      <td>1908</td>\n",
       "      <td>0.0</td>\n",
       "      <td>98102</td>\n",
       "      <td>47.6374</td>\n",
       "      <td>-122.324</td>\n",
       "      <td>1960</td>\n",
       "      <td>2450</td>\n",
       "    </tr>\n",
       "    <tr>\n",
       "      <td>8537</td>\n",
       "      <td>424049043</td>\n",
       "      <td>8/11/2014</td>\n",
       "      <td>450000.0</td>\n",
       "      <td>9</td>\n",
       "      <td>7.50</td>\n",
       "      <td>4050</td>\n",
       "      <td>6504</td>\n",
       "      <td>2.0</td>\n",
       "      <td>0.0</td>\n",
       "      <td>0.0</td>\n",
       "      <td>...</td>\n",
       "      <td>7</td>\n",
       "      <td>4050</td>\n",
       "      <td>0.0</td>\n",
       "      <td>1996</td>\n",
       "      <td>0.0</td>\n",
       "      <td>98144</td>\n",
       "      <td>47.5923</td>\n",
       "      <td>-122.301</td>\n",
       "      <td>1448</td>\n",
       "      <td>3866</td>\n",
       "    </tr>\n",
       "    <tr>\n",
       "      <td>8748</td>\n",
       "      <td>1773100755</td>\n",
       "      <td>8/21/2014</td>\n",
       "      <td>520000.0</td>\n",
       "      <td>11</td>\n",
       "      <td>3.00</td>\n",
       "      <td>3000</td>\n",
       "      <td>4960</td>\n",
       "      <td>2.0</td>\n",
       "      <td>0.0</td>\n",
       "      <td>0.0</td>\n",
       "      <td>...</td>\n",
       "      <td>7</td>\n",
       "      <td>2400</td>\n",
       "      <td>600.0</td>\n",
       "      <td>1918</td>\n",
       "      <td>1999.0</td>\n",
       "      <td>98106</td>\n",
       "      <td>47.5560</td>\n",
       "      <td>-122.363</td>\n",
       "      <td>1420</td>\n",
       "      <td>4960</td>\n",
       "    </tr>\n",
       "    <tr>\n",
       "      <td>13301</td>\n",
       "      <td>627300145</td>\n",
       "      <td>8/14/2014</td>\n",
       "      <td>1150000.0</td>\n",
       "      <td>10</td>\n",
       "      <td>5.25</td>\n",
       "      <td>4590</td>\n",
       "      <td>10920</td>\n",
       "      <td>1.0</td>\n",
       "      <td>0.0</td>\n",
       "      <td>2.0</td>\n",
       "      <td>...</td>\n",
       "      <td>9</td>\n",
       "      <td>2500</td>\n",
       "      <td>2090.0</td>\n",
       "      <td>2008</td>\n",
       "      <td>0.0</td>\n",
       "      <td>98004</td>\n",
       "      <td>47.5861</td>\n",
       "      <td>-122.113</td>\n",
       "      <td>2730</td>\n",
       "      <td>10400</td>\n",
       "    </tr>\n",
       "    <tr>\n",
       "      <td>15147</td>\n",
       "      <td>5566100170</td>\n",
       "      <td>10/29/2014</td>\n",
       "      <td>650000.0</td>\n",
       "      <td>10</td>\n",
       "      <td>2.00</td>\n",
       "      <td>3610</td>\n",
       "      <td>11914</td>\n",
       "      <td>2.0</td>\n",
       "      <td>0.0</td>\n",
       "      <td>0.0</td>\n",
       "      <td>...</td>\n",
       "      <td>7</td>\n",
       "      <td>3010</td>\n",
       "      <td>600.0</td>\n",
       "      <td>1958</td>\n",
       "      <td>0.0</td>\n",
       "      <td>98006</td>\n",
       "      <td>47.5705</td>\n",
       "      <td>-122.175</td>\n",
       "      <td>2040</td>\n",
       "      <td>11914</td>\n",
       "    </tr>\n",
       "    <tr>\n",
       "      <td>15856</td>\n",
       "      <td>2402100895</td>\n",
       "      <td>6/25/2014</td>\n",
       "      <td>640000.0</td>\n",
       "      <td>33</td>\n",
       "      <td>1.75</td>\n",
       "      <td>1620</td>\n",
       "      <td>6000</td>\n",
       "      <td>1.0</td>\n",
       "      <td>0.0</td>\n",
       "      <td>0.0</td>\n",
       "      <td>...</td>\n",
       "      <td>7</td>\n",
       "      <td>1040</td>\n",
       "      <td>580.0</td>\n",
       "      <td>1947</td>\n",
       "      <td>0.0</td>\n",
       "      <td>98103</td>\n",
       "      <td>47.6878</td>\n",
       "      <td>-122.331</td>\n",
       "      <td>1330</td>\n",
       "      <td>4700</td>\n",
       "    </tr>\n",
       "    <tr>\n",
       "      <td>18428</td>\n",
       "      <td>8823901445</td>\n",
       "      <td>3/13/2015</td>\n",
       "      <td>934000.0</td>\n",
       "      <td>9</td>\n",
       "      <td>3.00</td>\n",
       "      <td>2820</td>\n",
       "      <td>4480</td>\n",
       "      <td>2.0</td>\n",
       "      <td>0.0</td>\n",
       "      <td>0.0</td>\n",
       "      <td>...</td>\n",
       "      <td>7</td>\n",
       "      <td>1880</td>\n",
       "      <td>940.0</td>\n",
       "      <td>1918</td>\n",
       "      <td>0.0</td>\n",
       "      <td>98105</td>\n",
       "      <td>47.6654</td>\n",
       "      <td>-122.307</td>\n",
       "      <td>2460</td>\n",
       "      <td>4400</td>\n",
       "    </tr>\n",
       "    <tr>\n",
       "      <td>19239</td>\n",
       "      <td>8812401450</td>\n",
       "      <td>12/29/2014</td>\n",
       "      <td>660000.0</td>\n",
       "      <td>10</td>\n",
       "      <td>3.00</td>\n",
       "      <td>2920</td>\n",
       "      <td>3745</td>\n",
       "      <td>2.0</td>\n",
       "      <td>0.0</td>\n",
       "      <td>0.0</td>\n",
       "      <td>...</td>\n",
       "      <td>7</td>\n",
       "      <td>1860</td>\n",
       "      <td>1060.0</td>\n",
       "      <td>1913</td>\n",
       "      <td>0.0</td>\n",
       "      <td>98105</td>\n",
       "      <td>47.6635</td>\n",
       "      <td>-122.320</td>\n",
       "      <td>1810</td>\n",
       "      <td>3745</td>\n",
       "    </tr>\n",
       "  </tbody>\n",
       "</table>\n",
       "<p>9 rows × 21 columns</p>\n",
       "</div>"
      ],
      "text/plain": [
       "               id        date      price  bedrooms  bathrooms  sqft_living  \\\n",
       "4092   1997200215    5/7/2014   599999.0         9       4.50         3830   \n",
       "4231   2902200015    1/6/2015   700000.0         9       3.00         3680   \n",
       "8537    424049043   8/11/2014   450000.0         9       7.50         4050   \n",
       "8748   1773100755   8/21/2014   520000.0        11       3.00         3000   \n",
       "13301   627300145   8/14/2014  1150000.0        10       5.25         4590   \n",
       "15147  5566100170  10/29/2014   650000.0        10       2.00         3610   \n",
       "15856  2402100895   6/25/2014   640000.0        33       1.75         1620   \n",
       "18428  8823901445   3/13/2015   934000.0         9       3.00         2820   \n",
       "19239  8812401450  12/29/2014   660000.0        10       3.00         2920   \n",
       "\n",
       "       sqft_lot  floors  waterfront  view  ...  grade  sqft_above  \\\n",
       "4092       6988     2.5         0.0   0.0  ...      7        2450   \n",
       "4231       4400     2.0         0.0   0.0  ...      7        2830   \n",
       "8537       6504     2.0         0.0   0.0  ...      7        4050   \n",
       "8748       4960     2.0         0.0   0.0  ...      7        2400   \n",
       "13301     10920     1.0         0.0   2.0  ...      9        2500   \n",
       "15147     11914     2.0         0.0   0.0  ...      7        3010   \n",
       "15856      6000     1.0         0.0   0.0  ...      7        1040   \n",
       "18428      4480     2.0         0.0   0.0  ...      7        1880   \n",
       "19239      3745     2.0         0.0   0.0  ...      7        1860   \n",
       "\n",
       "       sqft_basement yr_built  yr_renovated  zipcode      lat     long  \\\n",
       "4092          1380.0     1938           0.0    98103  47.6927 -122.338   \n",
       "4231           850.0     1908           0.0    98102  47.6374 -122.324   \n",
       "8537             0.0     1996           0.0    98144  47.5923 -122.301   \n",
       "8748           600.0     1918        1999.0    98106  47.5560 -122.363   \n",
       "13301         2090.0     2008           0.0    98004  47.5861 -122.113   \n",
       "15147          600.0     1958           0.0    98006  47.5705 -122.175   \n",
       "15856          580.0     1947           0.0    98103  47.6878 -122.331   \n",
       "18428          940.0     1918           0.0    98105  47.6654 -122.307   \n",
       "19239         1060.0     1913           0.0    98105  47.6635 -122.320   \n",
       "\n",
       "       sqft_living15  sqft_lot15  \n",
       "4092            1460        6291  \n",
       "4231            1960        2450  \n",
       "8537            1448        3866  \n",
       "8748            1420        4960  \n",
       "13301           2730       10400  \n",
       "15147           2040       11914  \n",
       "15856           1330        4700  \n",
       "18428           2460        4400  \n",
       "19239           1810        3745  \n",
       "\n",
       "[9 rows x 21 columns]"
      ]
     },
     "execution_count": 13,
     "metadata": {},
     "output_type": "execute_result"
    }
   ],
   "source": [
    "data[data['bedrooms']>8]"
   ]
  },
  {
   "cell_type": "markdown",
   "metadata": {},
   "source": [
    "33 bedrooms in a 1620 sqft house seems like it was likely a typo. I'll impute 3 as the number of rooms. For the remaining eight values I'll remove them from the sample.  "
   ]
  },
  {
   "cell_type": "code",
   "execution_count": 14,
   "metadata": {
    "scrolled": true
   },
   "outputs": [
    {
     "data": {
      "image/png": "[encoded data removed]",
      "text/plain": [
       "<Figure size 432x288 with 1 Axes>"
      ]
     },
     "metadata": {
      "needs_background": "light"
     },
     "output_type": "display_data"
    }
   ],
   "source": [
    "data.loc[data['bedrooms']==33, 'bedrooms']=3\n",
    "data = data[data['bedrooms']<=8]\n",
    "plt.title('After Removing Outliers')\n",
    "data['bedrooms'].hist();"
   ]
  },
  {
   "cell_type": "markdown",
   "metadata": {},
   "source": [
    "#### sqft_above"
   ]
  },
  {
   "cell_type": "code",
   "execution_count": 15,
   "metadata": {
    "scrolled": true
   },
   "outputs": [
    {
     "data": {
      "image/png": "[encoded data removed]",
      "text/plain": [
       "<Figure size 432x288 with 1 Axes>"
      ]
     },
     "metadata": {
      "needs_background": "light"
     },
     "output_type": "display_data"
    }
   ],
   "source": [
    "plt.title('Before Removing Outliers')\n",
    "data['sqft_above'].hist();"
   ]
  },
  {
   "cell_type": "code",
   "execution_count": 16,
   "metadata": {
    "scrolled": true
   },
   "outputs": [
    {
     "data": {
      "text/plain": [
       "3190.0"
      ]
     },
     "execution_count": 16,
     "metadata": {},
     "output_type": "execute_result"
    }
   ],
   "source": [
    "data['sqft_above'].quantile(.95)"
   ]
  },
  {
   "cell_type": "code",
   "execution_count": 17,
   "metadata": {},
   "outputs": [
    {
     "data": {
      "text/plain": [
       "3590.0"
      ]
     },
     "execution_count": 17,
     "metadata": {},
     "output_type": "execute_result"
    }
   ],
   "source": [
    "data['sqft_above'].quantile(.98)"
   ]
  },
  {
   "cell_type": "code",
   "execution_count": 18,
   "metadata": {
    "scrolled": true
   },
   "outputs": [
    {
     "data": {
      "text/plain": [
       "4750.0"
      ]
     },
     "execution_count": 18,
     "metadata": {},
     "output_type": "execute_result"
    }
   ],
   "source": [
    "data['sqft_above'].quantile(.999)"
   ]
  },
  {
   "cell_type": "code",
   "execution_count": 19,
   "metadata": {
    "scrolled": true
   },
   "outputs": [
    {
     "data": {
      "text/plain": [
       "count      20.000000\n",
       "mean     5280.000000\n",
       "std       551.858105\n",
       "min      4800.000000\n",
       "25%      4945.000000\n",
       "50%      5165.000000\n",
       "75%      5390.000000\n",
       "max      7320.000000\n",
       "Name: sqft_above, dtype: float64"
      ]
     },
     "execution_count": 19,
     "metadata": {},
     "output_type": "execute_result"
    }
   ],
   "source": [
    "data[data['sqft_above']>4750]['sqft_above'].describe()"
   ]
  },
  {
   "cell_type": "code",
   "execution_count": 20,
   "metadata": {
    "scrolled": true
   },
   "outputs": [
    {
     "data": {
      "image/png": "[encoded data removed]",
      "text/plain": [
       "<Figure size 432x288 with 1 Axes>"
      ]
     },
     "metadata": {
      "needs_background": "light"
     },
     "output_type": "display_data"
    }
   ],
   "source": [
    "data = data[data['sqft_above']<=4750]\n",
    "plt.title('After Removing Outliers')\n",
    "data['sqft_above'].hist();"
   ]
  },
  {
   "cell_type": "markdown",
   "metadata": {},
   "source": [
    "#### sqft_living"
   ]
  },
  {
   "cell_type": "code",
   "execution_count": 21,
   "metadata": {
    "scrolled": true
   },
   "outputs": [
    {
     "data": {
      "image/png": "[encoded data removed]",
      "text/plain": [
       "<Figure size 432x288 with 1 Axes>"
      ]
     },
     "metadata": {
      "needs_background": "light"
     },
     "output_type": "display_data"
    }
   ],
   "source": [
    "plt.title('Before Removing Outliers')\n",
    "data['sqft_living'].hist();"
   ]
  },
  {
   "cell_type": "code",
   "execution_count": 22,
   "metadata": {
    "scrolled": true
   },
   "outputs": [
    {
     "data": {
      "text/plain": [
       "5146.120000000228"
      ]
     },
     "execution_count": 22,
     "metadata": {},
     "output_type": "execute_result"
    }
   ],
   "source": [
    "data['sqft_living'].quantile(.999)"
   ]
  },
  {
   "cell_type": "code",
   "execution_count": 23,
   "metadata": {
    "scrolled": false
   },
   "outputs": [
    {
     "data": {
      "text/plain": [
       "count      21.000000\n",
       "mean     5645.952381\n",
       "std       464.650565\n",
       "min      5180.000000\n",
       "25%      5360.000000\n",
       "50%      5545.000000\n",
       "75%      5774.000000\n",
       "max      7350.000000\n",
       "Name: sqft_living, dtype: float64"
      ]
     },
     "execution_count": 23,
     "metadata": {},
     "output_type": "execute_result"
    }
   ],
   "source": [
    "data[data['sqft_living']>5146]['sqft_living'].describe()"
   ]
  },
  {
   "cell_type": "code",
   "execution_count": 24,
   "metadata": {
    "scrolled": true
   },
   "outputs": [
    {
     "data": {
      "image/png": "[encoded data removed]",
      "text/plain": [
       "<Figure size 432x288 with 1 Axes>"
      ]
     },
     "metadata": {
      "needs_background": "light"
     },
     "output_type": "display_data"
    }
   ],
   "source": [
    "data = data[data['sqft_living']<=5146]\n",
    "plt.title('After Removing Outliers')\n",
    "data['sqft_living'].hist();"
   ]
  },
  {
   "cell_type": "markdown",
   "metadata": {},
   "source": [
    "#### sqft_lot"
   ]
  },
  {
   "cell_type": "code",
   "execution_count": 25,
   "metadata": {
    "scrolled": false
   },
   "outputs": [
    {
     "data": {
      "image/png": "[encoded data removed]",
      "text/plain": [
       "<Figure size 432x288 with 1 Axes>"
      ]
     },
     "metadata": {
      "needs_background": "light"
     },
     "output_type": "display_data"
    }
   ],
   "source": [
    "plt.title('Before Removing Outliers')\n",
    "data['sqft_lot'].hist();"
   ]
  },
  {
   "cell_type": "code",
   "execution_count": 26,
   "metadata": {
    "scrolled": true
   },
   "outputs": [
    {
     "data": {
      "text/plain": [
       "19965.0"
      ]
     },
     "execution_count": 26,
     "metadata": {},
     "output_type": "execute_result"
    }
   ],
   "source": [
    "data['sqft_lot'].quantile(.9)"
   ]
  },
  {
   "cell_type": "code",
   "execution_count": 27,
   "metadata": {
    "scrolled": false
   },
   "outputs": [
    {
     "data": {
      "text/plain": [
       "count    2.046000e+03\n",
       "mean     7.941785e+04\n",
       "std      1.043913e+05\n",
       "min      1.996600e+04\n",
       "25%      2.962250e+04\n",
       "50%      4.203500e+04\n",
       "75%      8.045325e+04\n",
       "max      1.651359e+06\n",
       "Name: sqft_lot, dtype: float64"
      ]
     },
     "execution_count": 27,
     "metadata": {},
     "output_type": "execute_result"
    }
   ],
   "source": [
    "data[data['sqft_lot']>19965]['sqft_lot'].describe()"
   ]
  },
  {
   "cell_type": "code",
   "execution_count": 28,
   "metadata": {
    "scrolled": true
   },
   "outputs": [
    {
     "data": {
      "image/png": "[encoded data removed]",
      "text/plain": [
       "<Figure size 432x288 with 1 Axes>"
      ]
     },
     "metadata": {
      "needs_background": "light"
     },
     "output_type": "display_data"
    }
   ],
   "source": [
    "data = data[data['sqft_lot']<=19965]\n",
    "plt.title('After Removing Outliers')\n",
    "data['sqft_lot'].hist();"
   ]
  },
  {
   "cell_type": "markdown",
   "metadata": {},
   "source": [
    "#### sqft_lot15"
   ]
  },
  {
   "cell_type": "code",
   "execution_count": 29,
   "metadata": {
    "scrolled": false
   },
   "outputs": [
    {
     "data": {
      "image/png": "[encoded data removed]",
      "text/plain": [
       "<Figure size 432x288 with 1 Axes>"
      ]
     },
     "metadata": {
      "needs_background": "light"
     },
     "output_type": "display_data"
    }
   ],
   "source": [
    "plt.title('Before Removing Outliers')\n",
    "data['sqft_lot15'].hist();"
   ]
  },
  {
   "cell_type": "code",
   "execution_count": 30,
   "metadata": {
    "scrolled": true
   },
   "outputs": [
    {
     "data": {
      "text/plain": [
       "11970.0"
      ]
     },
     "execution_count": 30,
     "metadata": {},
     "output_type": "execute_result"
    }
   ],
   "source": [
    "data['sqft_lot15'].quantile(.925)"
   ]
  },
  {
   "cell_type": "code",
   "execution_count": 31,
   "metadata": {
    "scrolled": false
   },
   "outputs": [
    {
     "data": {
      "text/plain": [
       "count        80.00000\n",
       "mean      41401.27500\n",
       "std       29796.26587\n",
       "min       22979.00000\n",
       "25%       25925.00000\n",
       "50%       32088.50000\n",
       "75%       43565.75000\n",
       "max      196591.00000\n",
       "Name: sqft_lot15, dtype: float64"
      ]
     },
     "execution_count": 31,
     "metadata": {},
     "output_type": "execute_result"
    }
   ],
   "source": [
    "data[data['sqft_lot15']>22816]['sqft_lot15'].describe()"
   ]
  },
  {
   "cell_type": "code",
   "execution_count": 32,
   "metadata": {
    "scrolled": true
   },
   "outputs": [
    {
     "data": {
      "image/png": "[encoded data removed]",
      "text/plain": [
       "<Figure size 432x288 with 1 Axes>"
      ]
     },
     "metadata": {
      "needs_background": "light"
     },
     "output_type": "display_data"
    }
   ],
   "source": [
    "data = data[data['sqft_lot15']<=22816]\n",
    "plt.title('After Removing Outliers')\n",
    "data['sqft_lot15'].hist();"
   ]
  },
  {
   "cell_type": "code",
   "execution_count": 33,
   "metadata": {
    "scrolled": true
   },
   "outputs": [
    {
     "data": {
      "text/html": [
       "<div>\n",
       "<style scoped>\n",
       "    .dataframe tbody tr th:only-of-type {\n",
       "        vertical-align: middle;\n",
       "    }\n",
       "\n",
       "    .dataframe tbody tr th {\n",
       "        vertical-align: top;\n",
       "    }\n",
       "\n",
       "    .dataframe thead th {\n",
       "        text-align: right;\n",
       "    }\n",
       "</style>\n",
       "<table border=\"1\" class=\"dataframe\">\n",
       "  <thead>\n",
       "    <tr style=\"text-align: right;\">\n",
       "      <th></th>\n",
       "      <th>id</th>\n",
       "      <th>price</th>\n",
       "      <th>bedrooms</th>\n",
       "      <th>bathrooms</th>\n",
       "      <th>sqft_living</th>\n",
       "      <th>sqft_lot</th>\n",
       "      <th>floors</th>\n",
       "      <th>waterfront</th>\n",
       "      <th>view</th>\n",
       "      <th>condition</th>\n",
       "      <th>grade</th>\n",
       "      <th>sqft_above</th>\n",
       "      <th>yr_built</th>\n",
       "      <th>yr_renovated</th>\n",
       "      <th>zipcode</th>\n",
       "      <th>lat</th>\n",
       "      <th>long</th>\n",
       "      <th>sqft_living15</th>\n",
       "      <th>sqft_lot15</th>\n",
       "    </tr>\n",
       "  </thead>\n",
       "  <tbody>\n",
       "    <tr>\n",
       "      <td>count</td>\n",
       "      <td>1.833800e+04</td>\n",
       "      <td>1.833800e+04</td>\n",
       "      <td>18338.000000</td>\n",
       "      <td>18338.000000</td>\n",
       "      <td>18338.000000</td>\n",
       "      <td>18338.000000</td>\n",
       "      <td>18338.000000</td>\n",
       "      <td>16274.000000</td>\n",
       "      <td>18284.000000</td>\n",
       "      <td>18338.000000</td>\n",
       "      <td>18338.000000</td>\n",
       "      <td>18338.000000</td>\n",
       "      <td>18338.000000</td>\n",
       "      <td>15071.000000</td>\n",
       "      <td>18338.000000</td>\n",
       "      <td>18338.000000</td>\n",
       "      <td>18338.000000</td>\n",
       "      <td>18338.000000</td>\n",
       "      <td>18338.000000</td>\n",
       "    </tr>\n",
       "    <tr>\n",
       "      <td>mean</td>\n",
       "      <td>4.748607e+09</td>\n",
       "      <td>4.687078e+05</td>\n",
       "      <td>3.313829</td>\n",
       "      <td>2.029542</td>\n",
       "      <td>1914.752972</td>\n",
       "      <td>7293.931999</td>\n",
       "      <td>1.475624</td>\n",
       "      <td>0.001598</td>\n",
       "      <td>0.156421</td>\n",
       "      <td>3.407951</td>\n",
       "      <td>7.476497</td>\n",
       "      <td>1650.941160</td>\n",
       "      <td>1970.198768</td>\n",
       "      <td>70.991175</td>\n",
       "      <td>98081.318301</td>\n",
       "      <td>47.560459</td>\n",
       "      <td>-122.227009</td>\n",
       "      <td>1870.233232</td>\n",
       "      <td>7177.032883</td>\n",
       "    </tr>\n",
       "    <tr>\n",
       "      <td>std</td>\n",
       "      <td>2.872225e+09</td>\n",
       "      <td>2.069278e+05</td>\n",
       "      <td>0.876235</td>\n",
       "      <td>0.702068</td>\n",
       "      <td>726.986688</td>\n",
       "      <td>3595.849490</td>\n",
       "      <td>0.542697</td>\n",
       "      <td>0.039940</td>\n",
       "      <td>0.605027</td>\n",
       "      <td>0.648141</td>\n",
       "      <td>0.986752</td>\n",
       "      <td>682.806412</td>\n",
       "      <td>29.883377</td>\n",
       "      <td>369.708514</td>\n",
       "      <td>53.973824</td>\n",
       "      <td>0.138034</td>\n",
       "      <td>0.133581</td>\n",
       "      <td>587.713745</td>\n",
       "      <td>3296.490422</td>\n",
       "    </tr>\n",
       "    <tr>\n",
       "      <td>min</td>\n",
       "      <td>1.000102e+06</td>\n",
       "      <td>7.800000e+04</td>\n",
       "      <td>1.000000</td>\n",
       "      <td>0.500000</td>\n",
       "      <td>370.000000</td>\n",
       "      <td>520.000000</td>\n",
       "      <td>1.000000</td>\n",
       "      <td>0.000000</td>\n",
       "      <td>0.000000</td>\n",
       "      <td>1.000000</td>\n",
       "      <td>3.000000</td>\n",
       "      <td>370.000000</td>\n",
       "      <td>1900.000000</td>\n",
       "      <td>0.000000</td>\n",
       "      <td>98001.000000</td>\n",
       "      <td>47.155900</td>\n",
       "      <td>-122.503000</td>\n",
       "      <td>460.000000</td>\n",
       "      <td>651.000000</td>\n",
       "    </tr>\n",
       "    <tr>\n",
       "      <td>25%</td>\n",
       "      <td>2.310050e+09</td>\n",
       "      <td>3.100000e+05</td>\n",
       "      <td>3.000000</td>\n",
       "      <td>1.500000</td>\n",
       "      <td>1370.000000</td>\n",
       "      <td>4831.250000</td>\n",
       "      <td>1.000000</td>\n",
       "      <td>0.000000</td>\n",
       "      <td>0.000000</td>\n",
       "      <td>3.000000</td>\n",
       "      <td>7.000000</td>\n",
       "      <td>1150.000000</td>\n",
       "      <td>1950.000000</td>\n",
       "      <td>0.000000</td>\n",
       "      <td>98033.000000</td>\n",
       "      <td>47.474025</td>\n",
       "      <td>-122.336000</td>\n",
       "      <td>1440.000000</td>\n",
       "      <td>4992.000000</td>\n",
       "    </tr>\n",
       "    <tr>\n",
       "      <td>50%</td>\n",
       "      <td>4.058802e+09</td>\n",
       "      <td>4.275000e+05</td>\n",
       "      <td>3.000000</td>\n",
       "      <td>2.000000</td>\n",
       "      <td>1810.000000</td>\n",
       "      <td>7200.000000</td>\n",
       "      <td>1.000000</td>\n",
       "      <td>0.000000</td>\n",
       "      <td>0.000000</td>\n",
       "      <td>3.000000</td>\n",
       "      <td>7.000000</td>\n",
       "      <td>1470.000000</td>\n",
       "      <td>1972.000000</td>\n",
       "      <td>0.000000</td>\n",
       "      <td>98074.000000</td>\n",
       "      <td>47.569850</td>\n",
       "      <td>-122.265000</td>\n",
       "      <td>1760.000000</td>\n",
       "      <td>7209.000000</td>\n",
       "    </tr>\n",
       "    <tr>\n",
       "      <td>75%</td>\n",
       "      <td>7.504460e+09</td>\n",
       "      <td>5.900000e+05</td>\n",
       "      <td>4.000000</td>\n",
       "      <td>2.500000</td>\n",
       "      <td>2350.000000</td>\n",
       "      <td>9282.000000</td>\n",
       "      <td>2.000000</td>\n",
       "      <td>0.000000</td>\n",
       "      <td>0.000000</td>\n",
       "      <td>4.000000</td>\n",
       "      <td>8.000000</td>\n",
       "      <td>2010.000000</td>\n",
       "      <td>1997.000000</td>\n",
       "      <td>0.000000</td>\n",
       "      <td>98118.000000</td>\n",
       "      <td>47.680175</td>\n",
       "      <td>-122.149000</td>\n",
       "      <td>2190.000000</td>\n",
       "      <td>8976.000000</td>\n",
       "    </tr>\n",
       "    <tr>\n",
       "      <td>max</td>\n",
       "      <td>9.900000e+09</td>\n",
       "      <td>1.150000e+06</td>\n",
       "      <td>8.000000</td>\n",
       "      <td>5.750000</td>\n",
       "      <td>5110.000000</td>\n",
       "      <td>19965.000000</td>\n",
       "      <td>3.500000</td>\n",
       "      <td>1.000000</td>\n",
       "      <td>4.000000</td>\n",
       "      <td>5.000000</td>\n",
       "      <td>12.000000</td>\n",
       "      <td>4670.000000</td>\n",
       "      <td>2015.000000</td>\n",
       "      <td>2015.000000</td>\n",
       "      <td>98199.000000</td>\n",
       "      <td>47.777600</td>\n",
       "      <td>-121.315000</td>\n",
       "      <td>4950.000000</td>\n",
       "      <td>22800.000000</td>\n",
       "    </tr>\n",
       "  </tbody>\n",
       "</table>\n",
       "</div>"
      ],
      "text/plain": [
       "                 id         price      bedrooms     bathrooms   sqft_living  \\\n",
       "count  1.833800e+04  1.833800e+04  18338.000000  18338.000000  18338.000000   \n",
       "mean   4.748607e+09  4.687078e+05      3.313829      2.029542   1914.752972   \n",
       "std    2.872225e+09  2.069278e+05      0.876235      0.702068    726.986688   \n",
       "min    1.000102e+06  7.800000e+04      1.000000      0.500000    370.000000   \n",
       "25%    2.310050e+09  3.100000e+05      3.000000      1.500000   1370.000000   \n",
       "50%    4.058802e+09  4.275000e+05      3.000000      2.000000   1810.000000   \n",
       "75%    7.504460e+09  5.900000e+05      4.000000      2.500000   2350.000000   \n",
       "max    9.900000e+09  1.150000e+06      8.000000      5.750000   5110.000000   \n",
       "\n",
       "           sqft_lot        floors    waterfront          view     condition  \\\n",
       "count  18338.000000  18338.000000  16274.000000  18284.000000  18338.000000   \n",
       "mean    7293.931999      1.475624      0.001598      0.156421      3.407951   \n",
       "std     3595.849490      0.542697      0.039940      0.605027      0.648141   \n",
       "min      520.000000      1.000000      0.000000      0.000000      1.000000   \n",
       "25%     4831.250000      1.000000      0.000000      0.000000      3.000000   \n",
       "50%     7200.000000      1.000000      0.000000      0.000000      3.000000   \n",
       "75%     9282.000000      2.000000      0.000000      0.000000      4.000000   \n",
       "max    19965.000000      3.500000      1.000000      4.000000      5.000000   \n",
       "\n",
       "              grade    sqft_above      yr_built  yr_renovated       zipcode  \\\n",
       "count  18338.000000  18338.000000  18338.000000  15071.000000  18338.000000   \n",
       "mean       7.476497   1650.941160   1970.198768     70.991175  98081.318301   \n",
       "std        0.986752    682.806412     29.883377    369.708514     53.973824   \n",
       "min        3.000000    370.000000   1900.000000      0.000000  98001.000000   \n",
       "25%        7.000000   1150.000000   1950.000000      0.000000  98033.000000   \n",
       "50%        7.000000   1470.000000   1972.000000      0.000000  98074.000000   \n",
       "75%        8.000000   2010.000000   1997.000000      0.000000  98118.000000   \n",
       "max       12.000000   4670.000000   2015.000000   2015.000000  98199.000000   \n",
       "\n",
       "                lat          long  sqft_living15    sqft_lot15  \n",
       "count  18338.000000  18338.000000   18338.000000  18338.000000  \n",
       "mean      47.560459   -122.227009    1870.233232   7177.032883  \n",
       "std        0.138034      0.133581     587.713745   3296.490422  \n",
       "min       47.155900   -122.503000     460.000000    651.000000  \n",
       "25%       47.474025   -122.336000    1440.000000   4992.000000  \n",
       "50%       47.569850   -122.265000    1760.000000   7209.000000  \n",
       "75%       47.680175   -122.149000    2190.000000   8976.000000  \n",
       "max       47.777600   -121.315000    4950.000000  22800.000000  "
      ]
     },
     "execution_count": 33,
     "metadata": {},
     "output_type": "execute_result"
    }
   ],
   "source": [
    "data.describe()"
   ]
  },
  {
   "cell_type": "code",
   "execution_count": 34,
   "metadata": {},
   "outputs": [
    {
     "data": {
      "text/plain": [
       "18178"
      ]
     },
     "execution_count": 34,
     "metadata": {},
     "output_type": "execute_result"
    }
   ],
   "source": [
    "data['id'].nunique()"
   ]
  },
  {
   "cell_type": "markdown",
   "metadata": {},
   "source": [
    "### Null Values"
   ]
  },
  {
   "cell_type": "code",
   "execution_count": 35,
   "metadata": {
    "scrolled": false
   },
   "outputs": [
    {
     "data": {
      "text/plain": [
       "id                  0\n",
       "date                0\n",
       "price               0\n",
       "bedrooms            0\n",
       "bathrooms           0\n",
       "sqft_living         0\n",
       "sqft_lot            0\n",
       "floors              0\n",
       "waterfront       2064\n",
       "view               54\n",
       "condition           0\n",
       "grade               0\n",
       "sqft_above          0\n",
       "sqft_basement       0\n",
       "yr_built            0\n",
       "yr_renovated     3267\n",
       "zipcode             0\n",
       "lat                 0\n",
       "long                0\n",
       "sqft_living15       0\n",
       "sqft_lot15          0\n",
       "dtype: int64"
      ]
     },
     "execution_count": 35,
     "metadata": {},
     "output_type": "execute_result"
    }
   ],
   "source": [
    "data.isna().sum()"
   ]
  },
  {
   "cell_type": "code",
   "execution_count": 36,
   "metadata": {},
   "outputs": [
    {
     "data": {
      "text/plain": [
       "0.0    16248\n",
       "NaN     2064\n",
       "1.0       26\n",
       "Name: waterfront, dtype: int64"
      ]
     },
     "metadata": {},
     "output_type": "display_data"
    },
    {
     "data": {
      "text/plain": [
       "0.0    16971\n",
       "2.0      685\n",
       "3.0      269\n",
       "1.0      251\n",
       "4.0      108\n",
       "NaN       54\n",
       "Name: view, dtype: int64"
      ]
     },
     "metadata": {},
     "output_type": "display_data"
    }
   ],
   "source": [
    "display(data['waterfront'].value_counts(dropna=False))\n",
    "display(data['view'].value_counts(dropna=False))"
   ]
  },
  {
   "cell_type": "markdown",
   "metadata": {},
   "source": [
    "For these particular variables, which are skewed so heavily toward zero, I will simply impute 0."
   ]
  },
  {
   "cell_type": "code",
   "execution_count": 37,
   "metadata": {},
   "outputs": [],
   "source": [
    "data.loc[data['waterfront'].isna(), 'waterfront']=0\n",
    "data.loc[data['view'].isna(), 'view']=0"
   ]
  },
  {
   "cell_type": "markdown",
   "metadata": {},
   "source": [
    "Considering that so many null values exist yr_renovated column, I will need to be creative. I'll create a column called 'yrs since renovation' by combining the date built or renovated with the date sold. First, I'll impute the value of the date built to replace null values for yr_renovated. Later, I can use that information to create new features that capture the same information in a more succint way. "
   ]
  },
  {
   "cell_type": "code",
   "execution_count": 38,
   "metadata": {
    "scrolled": true
   },
   "outputs": [
    {
     "data": {
      "text/plain": [
       "0.0       14535\n",
       "NaN        3267\n",
       "2014.0       64\n",
       "2013.0       28\n",
       "2000.0       22\n",
       "          ...  \n",
       "1950.0        1\n",
       "1953.0        1\n",
       "1948.0        1\n",
       "1934.0        1\n",
       "1981.0        1\n",
       "Name: yr_renovated, Length: 70, dtype: int64"
      ]
     },
     "execution_count": 38,
     "metadata": {},
     "output_type": "execute_result"
    }
   ],
   "source": [
    "data['yr_renovated'].value_counts(dropna=False)"
   ]
  },
  {
   "cell_type": "code",
   "execution_count": 39,
   "metadata": {},
   "outputs": [],
   "source": [
    "data.loc[data['yr_renovated'].isna(), 'yr_renovated']=0\n",
    "data.loc[\n",
    "    data['yr_renovated']==0,'yr_renovated']=data.loc[\n",
    "    data['yr_renovated']==0]['yr_built']"
   ]
  },
  {
   "cell_type": "code",
   "execution_count": 40,
   "metadata": {},
   "outputs": [
    {
     "data": {
      "text/html": [
       "<div>\n",
       "<style scoped>\n",
       "    .dataframe tbody tr th:only-of-type {\n",
       "        vertical-align: middle;\n",
       "    }\n",
       "\n",
       "    .dataframe tbody tr th {\n",
       "        vertical-align: top;\n",
       "    }\n",
       "\n",
       "    .dataframe thead th {\n",
       "        text-align: right;\n",
       "    }\n",
       "</style>\n",
       "<table border=\"1\" class=\"dataframe\">\n",
       "  <thead>\n",
       "    <tr style=\"text-align: right;\">\n",
       "      <th></th>\n",
       "      <th>id</th>\n",
       "      <th>date</th>\n",
       "      <th>price</th>\n",
       "      <th>bedrooms</th>\n",
       "      <th>bathrooms</th>\n",
       "      <th>sqft_living</th>\n",
       "      <th>sqft_lot</th>\n",
       "      <th>floors</th>\n",
       "      <th>waterfront</th>\n",
       "      <th>view</th>\n",
       "      <th>...</th>\n",
       "      <th>grade</th>\n",
       "      <th>sqft_above</th>\n",
       "      <th>sqft_basement</th>\n",
       "      <th>yr_built</th>\n",
       "      <th>yr_renovated</th>\n",
       "      <th>zipcode</th>\n",
       "      <th>lat</th>\n",
       "      <th>long</th>\n",
       "      <th>sqft_living15</th>\n",
       "      <th>sqft_lot15</th>\n",
       "    </tr>\n",
       "  </thead>\n",
       "  <tbody>\n",
       "    <tr>\n",
       "      <td>0</td>\n",
       "      <td>7129300520</td>\n",
       "      <td>10/13/2014</td>\n",
       "      <td>221900.0</td>\n",
       "      <td>3</td>\n",
       "      <td>1.00</td>\n",
       "      <td>1180</td>\n",
       "      <td>5650</td>\n",
       "      <td>1.0</td>\n",
       "      <td>0.0</td>\n",
       "      <td>0.0</td>\n",
       "      <td>...</td>\n",
       "      <td>7</td>\n",
       "      <td>1180</td>\n",
       "      <td>0.0</td>\n",
       "      <td>1955</td>\n",
       "      <td>1955.0</td>\n",
       "      <td>98178</td>\n",
       "      <td>47.5112</td>\n",
       "      <td>-122.257</td>\n",
       "      <td>1340</td>\n",
       "      <td>5650</td>\n",
       "    </tr>\n",
       "    <tr>\n",
       "      <td>1</td>\n",
       "      <td>6414100192</td>\n",
       "      <td>12/9/2014</td>\n",
       "      <td>538000.0</td>\n",
       "      <td>3</td>\n",
       "      <td>2.25</td>\n",
       "      <td>2570</td>\n",
       "      <td>7242</td>\n",
       "      <td>2.0</td>\n",
       "      <td>0.0</td>\n",
       "      <td>0.0</td>\n",
       "      <td>...</td>\n",
       "      <td>7</td>\n",
       "      <td>2170</td>\n",
       "      <td>400.0</td>\n",
       "      <td>1951</td>\n",
       "      <td>1991.0</td>\n",
       "      <td>98125</td>\n",
       "      <td>47.7210</td>\n",
       "      <td>-122.319</td>\n",
       "      <td>1690</td>\n",
       "      <td>7639</td>\n",
       "    </tr>\n",
       "    <tr>\n",
       "      <td>2</td>\n",
       "      <td>5631500400</td>\n",
       "      <td>2/25/2015</td>\n",
       "      <td>180000.0</td>\n",
       "      <td>2</td>\n",
       "      <td>1.00</td>\n",
       "      <td>770</td>\n",
       "      <td>10000</td>\n",
       "      <td>1.0</td>\n",
       "      <td>0.0</td>\n",
       "      <td>0.0</td>\n",
       "      <td>...</td>\n",
       "      <td>6</td>\n",
       "      <td>770</td>\n",
       "      <td>0.0</td>\n",
       "      <td>1933</td>\n",
       "      <td>1933.0</td>\n",
       "      <td>98028</td>\n",
       "      <td>47.7379</td>\n",
       "      <td>-122.233</td>\n",
       "      <td>2720</td>\n",
       "      <td>8062</td>\n",
       "    </tr>\n",
       "    <tr>\n",
       "      <td>3</td>\n",
       "      <td>2487200875</td>\n",
       "      <td>12/9/2014</td>\n",
       "      <td>604000.0</td>\n",
       "      <td>4</td>\n",
       "      <td>3.00</td>\n",
       "      <td>1960</td>\n",
       "      <td>5000</td>\n",
       "      <td>1.0</td>\n",
       "      <td>0.0</td>\n",
       "      <td>0.0</td>\n",
       "      <td>...</td>\n",
       "      <td>7</td>\n",
       "      <td>1050</td>\n",
       "      <td>910.0</td>\n",
       "      <td>1965</td>\n",
       "      <td>1965.0</td>\n",
       "      <td>98136</td>\n",
       "      <td>47.5208</td>\n",
       "      <td>-122.393</td>\n",
       "      <td>1360</td>\n",
       "      <td>5000</td>\n",
       "    </tr>\n",
       "    <tr>\n",
       "      <td>4</td>\n",
       "      <td>1954400510</td>\n",
       "      <td>2/18/2015</td>\n",
       "      <td>510000.0</td>\n",
       "      <td>3</td>\n",
       "      <td>2.00</td>\n",
       "      <td>1680</td>\n",
       "      <td>8080</td>\n",
       "      <td>1.0</td>\n",
       "      <td>0.0</td>\n",
       "      <td>0.0</td>\n",
       "      <td>...</td>\n",
       "      <td>8</td>\n",
       "      <td>1680</td>\n",
       "      <td>0.0</td>\n",
       "      <td>1987</td>\n",
       "      <td>1987.0</td>\n",
       "      <td>98074</td>\n",
       "      <td>47.6168</td>\n",
       "      <td>-122.045</td>\n",
       "      <td>1800</td>\n",
       "      <td>7503</td>\n",
       "    </tr>\n",
       "    <tr>\n",
       "      <td>5</td>\n",
       "      <td>1321400060</td>\n",
       "      <td>6/27/2014</td>\n",
       "      <td>257500.0</td>\n",
       "      <td>3</td>\n",
       "      <td>2.25</td>\n",
       "      <td>1715</td>\n",
       "      <td>6819</td>\n",
       "      <td>2.0</td>\n",
       "      <td>0.0</td>\n",
       "      <td>0.0</td>\n",
       "      <td>...</td>\n",
       "      <td>7</td>\n",
       "      <td>1715</td>\n",
       "      <td>?</td>\n",
       "      <td>1995</td>\n",
       "      <td>1995.0</td>\n",
       "      <td>98003</td>\n",
       "      <td>47.3097</td>\n",
       "      <td>-122.327</td>\n",
       "      <td>2238</td>\n",
       "      <td>6819</td>\n",
       "    </tr>\n",
       "    <tr>\n",
       "      <td>6</td>\n",
       "      <td>2008000270</td>\n",
       "      <td>1/15/2015</td>\n",
       "      <td>291850.0</td>\n",
       "      <td>3</td>\n",
       "      <td>1.50</td>\n",
       "      <td>1060</td>\n",
       "      <td>9711</td>\n",
       "      <td>1.0</td>\n",
       "      <td>0.0</td>\n",
       "      <td>0.0</td>\n",
       "      <td>...</td>\n",
       "      <td>7</td>\n",
       "      <td>1060</td>\n",
       "      <td>0.0</td>\n",
       "      <td>1963</td>\n",
       "      <td>1963.0</td>\n",
       "      <td>98198</td>\n",
       "      <td>47.4095</td>\n",
       "      <td>-122.315</td>\n",
       "      <td>1650</td>\n",
       "      <td>9711</td>\n",
       "    </tr>\n",
       "    <tr>\n",
       "      <td>7</td>\n",
       "      <td>2414600126</td>\n",
       "      <td>4/15/2015</td>\n",
       "      <td>229500.0</td>\n",
       "      <td>3</td>\n",
       "      <td>1.00</td>\n",
       "      <td>1780</td>\n",
       "      <td>7470</td>\n",
       "      <td>1.0</td>\n",
       "      <td>0.0</td>\n",
       "      <td>0.0</td>\n",
       "      <td>...</td>\n",
       "      <td>7</td>\n",
       "      <td>1050</td>\n",
       "      <td>730.0</td>\n",
       "      <td>1960</td>\n",
       "      <td>1960.0</td>\n",
       "      <td>98146</td>\n",
       "      <td>47.5123</td>\n",
       "      <td>-122.337</td>\n",
       "      <td>1780</td>\n",
       "      <td>8113</td>\n",
       "    </tr>\n",
       "    <tr>\n",
       "      <td>8</td>\n",
       "      <td>3793500160</td>\n",
       "      <td>3/12/2015</td>\n",
       "      <td>323000.0</td>\n",
       "      <td>3</td>\n",
       "      <td>2.50</td>\n",
       "      <td>1890</td>\n",
       "      <td>6560</td>\n",
       "      <td>2.0</td>\n",
       "      <td>0.0</td>\n",
       "      <td>0.0</td>\n",
       "      <td>...</td>\n",
       "      <td>7</td>\n",
       "      <td>1890</td>\n",
       "      <td>0.0</td>\n",
       "      <td>2003</td>\n",
       "      <td>2003.0</td>\n",
       "      <td>98038</td>\n",
       "      <td>47.3684</td>\n",
       "      <td>-122.031</td>\n",
       "      <td>2390</td>\n",
       "      <td>7570</td>\n",
       "    </tr>\n",
       "    <tr>\n",
       "      <td>9</td>\n",
       "      <td>1736800520</td>\n",
       "      <td>4/3/2015</td>\n",
       "      <td>662500.0</td>\n",
       "      <td>3</td>\n",
       "      <td>2.50</td>\n",
       "      <td>3560</td>\n",
       "      <td>9796</td>\n",
       "      <td>1.0</td>\n",
       "      <td>0.0</td>\n",
       "      <td>0.0</td>\n",
       "      <td>...</td>\n",
       "      <td>8</td>\n",
       "      <td>1860</td>\n",
       "      <td>1700.0</td>\n",
       "      <td>1965</td>\n",
       "      <td>1965.0</td>\n",
       "      <td>98007</td>\n",
       "      <td>47.6007</td>\n",
       "      <td>-122.145</td>\n",
       "      <td>2210</td>\n",
       "      <td>8925</td>\n",
       "    </tr>\n",
       "  </tbody>\n",
       "</table>\n",
       "<p>10 rows × 21 columns</p>\n",
       "</div>"
      ],
      "text/plain": [
       "           id        date     price  bedrooms  bathrooms  sqft_living  \\\n",
       "0  7129300520  10/13/2014  221900.0         3       1.00         1180   \n",
       "1  6414100192   12/9/2014  538000.0         3       2.25         2570   \n",
       "2  5631500400   2/25/2015  180000.0         2       1.00          770   \n",
       "3  2487200875   12/9/2014  604000.0         4       3.00         1960   \n",
       "4  1954400510   2/18/2015  510000.0         3       2.00         1680   \n",
       "5  1321400060   6/27/2014  257500.0         3       2.25         1715   \n",
       "6  2008000270   1/15/2015  291850.0         3       1.50         1060   \n",
       "7  2414600126   4/15/2015  229500.0         3       1.00         1780   \n",
       "8  3793500160   3/12/2015  323000.0         3       2.50         1890   \n",
       "9  1736800520    4/3/2015  662500.0         3       2.50         3560   \n",
       "\n",
       "   sqft_lot  floors  waterfront  view  ...  grade  sqft_above  sqft_basement  \\\n",
       "0      5650     1.0         0.0   0.0  ...      7        1180            0.0   \n",
       "1      7242     2.0         0.0   0.0  ...      7        2170          400.0   \n",
       "2     10000     1.0         0.0   0.0  ...      6         770            0.0   \n",
       "3      5000     1.0         0.0   0.0  ...      7        1050          910.0   \n",
       "4      8080     1.0         0.0   0.0  ...      8        1680            0.0   \n",
       "5      6819     2.0         0.0   0.0  ...      7        1715              ?   \n",
       "6      9711     1.0         0.0   0.0  ...      7        1060            0.0   \n",
       "7      7470     1.0         0.0   0.0  ...      7        1050          730.0   \n",
       "8      6560     2.0         0.0   0.0  ...      7        1890            0.0   \n",
       "9      9796     1.0         0.0   0.0  ...      8        1860         1700.0   \n",
       "\n",
       "  yr_built  yr_renovated  zipcode      lat     long  sqft_living15  sqft_lot15  \n",
       "0     1955        1955.0    98178  47.5112 -122.257           1340        5650  \n",
       "1     1951        1991.0    98125  47.7210 -122.319           1690        7639  \n",
       "2     1933        1933.0    98028  47.7379 -122.233           2720        8062  \n",
       "3     1965        1965.0    98136  47.5208 -122.393           1360        5000  \n",
       "4     1987        1987.0    98074  47.6168 -122.045           1800        7503  \n",
       "5     1995        1995.0    98003  47.3097 -122.327           2238        6819  \n",
       "6     1963        1963.0    98198  47.4095 -122.315           1650        9711  \n",
       "7     1960        1960.0    98146  47.5123 -122.337           1780        8113  \n",
       "8     2003        2003.0    98038  47.3684 -122.031           2390        7570  \n",
       "9     1965        1965.0    98007  47.6007 -122.145           2210        8925  \n",
       "\n",
       "[10 rows x 21 columns]"
      ]
     },
     "execution_count": 40,
     "metadata": {},
     "output_type": "execute_result"
    }
   ],
   "source": [
    "data.reset_index(inplace=True)\n",
    "data.drop('index', axis=1, inplace=True)\n",
    "data[:10]"
   ]
  },
  {
   "cell_type": "markdown",
   "metadata": {},
   "source": [
    "### Convert datatypes"
   ]
  },
  {
   "cell_type": "code",
   "execution_count": 41,
   "metadata": {
    "scrolled": false
   },
   "outputs": [
    {
     "data": {
      "text/plain": [
       "0.0       11014\n",
       "?           394\n",
       "500.0       195\n",
       "600.0       191\n",
       "700.0       183\n",
       "          ...  \n",
       "2300.0        1\n",
       "1710.0        1\n",
       "906.0         1\n",
       "1930.0        1\n",
       "172.0         1\n",
       "Name: sqft_basement, Length: 246, dtype: int64"
      ]
     },
     "execution_count": 41,
     "metadata": {},
     "output_type": "execute_result"
    }
   ],
   "source": [
    "#Trying to convert sqft_basement to float called an error.\n",
    "data['sqft_basement'].value_counts()"
   ]
  },
  {
   "cell_type": "markdown",
   "metadata": {},
   "source": [
    "The ? in the sqft_basement column won't work. I'll use the other data I have to deduce the values for this column. "
   ]
  },
  {
   "cell_type": "code",
   "execution_count": 42,
   "metadata": {
    "scrolled": true
   },
   "outputs": [
    {
     "data": {
      "text/plain": [
       "count    18338.000000\n",
       "mean       263.811812\n",
       "std        397.362123\n",
       "min          0.000000\n",
       "25%          0.000000\n",
       "50%          0.000000\n",
       "75%        510.000000\n",
       "max       2300.000000\n",
       "Name: sqft_basement, dtype: float64"
      ]
     },
     "execution_count": 42,
     "metadata": {},
     "output_type": "execute_result"
    }
   ],
   "source": [
    "data['sqft_basement']=(data['sqft_living']-data['sqft_above'])\n",
    "data['sqft_basement'].describe()"
   ]
  },
  {
   "cell_type": "code",
   "execution_count": 43,
   "metadata": {},
   "outputs": [
    {
     "data": {
      "image/png": "[encoded data removed]",
      "text/plain": [
       "<Figure size 432x288 with 1 Axes>"
      ]
     },
     "metadata": {
      "needs_background": "light"
     },
     "output_type": "display_data"
    }
   ],
   "source": [
    "data['sqft_basement'].hist();"
   ]
  },
  {
   "cell_type": "markdown",
   "metadata": {},
   "source": [
    "Zipcode is not a continuous variable. We will need to use one-hot encoding to make it into a useable categorical variable."
   ]
  },
  {
   "cell_type": "code",
   "execution_count": 44,
   "metadata": {},
   "outputs": [
    {
     "data": {
      "text/plain": [
       "70"
      ]
     },
     "execution_count": 44,
     "metadata": {},
     "output_type": "execute_result"
    }
   ],
   "source": [
    "data['zipcode'].nunique()"
   ]
  },
  {
   "cell_type": "code",
   "execution_count": 45,
   "metadata": {},
   "outputs": [],
   "source": [
    "data['zipcode'].astype('category', copy=False)\n",
    "zipdummies = pd.get_dummies(data['zipcode'])\n",
    "data = data.join(zipdummies, how='outer')"
   ]
  },
  {
   "cell_type": "code",
   "execution_count": 46,
   "metadata": {
    "scrolled": true
   },
   "outputs": [],
   "source": [
    "data.loc[data['waterfront']==1, 'waterfront'] = 'WaterFront'\n",
    "data.loc[data['waterfront']==0, 'waterfront'] = 'Not'\n",
    "\n",
    "data['waterfront'].astype('category', copy=False)\n",
    "wfdummies = pd.get_dummies(data['waterfront'])\n",
    "data = data.join(wfdummies, how='outer')\n",
    "\n",
    "#Drop columns to avoid the dummy-trap.\n",
    "data.drop(['Not', 'zipcode'], axis=1, \n",
    "          inplace=True)"
   ]
  },
  {
   "cell_type": "markdown",
   "metadata": {},
   "source": [
    "### Duplicates"
   ]
  },
  {
   "cell_type": "code",
   "execution_count": 47,
   "metadata": {},
   "outputs": [
    {
     "data": {
      "text/plain": [
       "0"
      ]
     },
     "execution_count": 47,
     "metadata": {},
     "output_type": "execute_result"
    }
   ],
   "source": [
    "data.duplicated().sum()"
   ]
  },
  {
   "cell_type": "markdown",
   "metadata": {},
   "source": [
    "# Feature Creation\n",
    "\n",
    "I want to be able to use age to describe the houses, so I'll create a feature that stores their age at sale. \n",
    "\n",
    "### Month  and Year Sold"
   ]
  },
  {
   "cell_type": "code",
   "execution_count": 48,
   "metadata": {},
   "outputs": [],
   "source": [
    "data['date']=pd.to_datetime(data['date'])\n",
    "\n",
    "data['month_sold'] = np.array([date[5:7] \n",
    "                               for date \n",
    "                               in data['date'].astype(str)])\n",
    "data['month_sold'] = data['month_sold'].astype('int64')\n",
    "\n",
    "data['year_sold'] = np.array([date[:4] \n",
    "                               for date \n",
    "                               in data['date'].astype(str)])\n",
    "data['year_sold'] = data['year_sold'].astype('int64')\n",
    "data.drop('date', axis=1, inplace=True)"
   ]
  },
  {
   "cell_type": "code",
   "execution_count": 49,
   "metadata": {},
   "outputs": [],
   "source": [
    "m_list = ['Jan','Feb','Mar','Apr','May','Jun',\n",
    "              'Jul','Aug','Sep','Oct','Nov','Dec']\n",
    "for num in range(1,13):\n",
    "    data.loc[data['month_sold']==num, 'month_sold'] = m_list[num-1]\n",
    "\n",
    "data['month_sold'].astype('category', copy=False)\n",
    "mondummies = pd.get_dummies(data['month_sold'])\n",
    "data = data.join(mondummies, how='outer')"
   ]
  },
  {
   "cell_type": "markdown",
   "metadata": {},
   "source": [
    "### Age"
   ]
  },
  {
   "cell_type": "code",
   "execution_count": 50,
   "metadata": {
    "scrolled": true
   },
   "outputs": [],
   "source": [
    "data['age'] = data['year_sold']-data['yr_built']"
   ]
  },
  {
   "cell_type": "markdown",
   "metadata": {},
   "source": [
    "### Years Since Renovation"
   ]
  },
  {
   "cell_type": "code",
   "execution_count": 51,
   "metadata": {},
   "outputs": [
    {
     "data": {
      "text/plain": [
       "count    18338.000000\n",
       "mean        42.386847\n",
       "std         29.523654\n",
       "min         -1.000000\n",
       "25%         15.000000\n",
       "50%         39.000000\n",
       "75%         62.000000\n",
       "max        115.000000\n",
       "Name: yrs_reno, dtype: float64"
      ]
     },
     "execution_count": 51,
     "metadata": {},
     "output_type": "execute_result"
    }
   ],
   "source": [
    "data['yrs_reno'] = data['year_sold']- data['yr_renovated']\n",
    "data['yrs_reno'].describe()"
   ]
  },
  {
   "cell_type": "markdown",
   "metadata": {},
   "source": [
    "### Renovated?\n",
    "I'll also add a categorical variable that can be used to determine if renovation itself is a meaningful indicator of value. "
   ]
  },
  {
   "cell_type": "code",
   "execution_count": 52,
   "metadata": {
    "scrolled": true
   },
   "outputs": [
    {
     "data": {
      "text/plain": [
       "Not          17802\n",
       "Renovated      536\n",
       "Name: Renovated?, dtype: int64"
      ]
     },
     "execution_count": 52,
     "metadata": {},
     "output_type": "execute_result"
    }
   ],
   "source": [
    "data.loc[data['yrs_reno']-data['age']<0, \n",
    "         'Renovated?']='Renovated'\n",
    "data.loc[data['yrs_reno']-data['age']==0, \n",
    "         'Renovated?']='Not'\n",
    "data['Renovated?'].value_counts(dropna=False)"
   ]
  },
  {
   "cell_type": "code",
   "execution_count": 53,
   "metadata": {},
   "outputs": [],
   "source": [
    "data['Renovated?'].astype('category', copy=False)\n",
    "rendummies = pd.get_dummies(data['Renovated?'])\n",
    "data = data.join(rendummies, how='outer')\n",
    "data.drop(['Not'], axis=1, inplace=True)"
   ]
  },
  {
   "cell_type": "markdown",
   "metadata": {},
   "source": [
    "### City Data\n",
    "A more decipherable way to utilize the latitude and longitude data is to calculate the distance between each house and the major cities in King County. I can use that information to estimate what city that house resides in, providing another means for analysis. \n",
    "\n",
    "I'll use the haversine formula to calculate the miles of distance from the center of particular cities to each house. I'll then use that formula to create columns for the distance to each city and additional columns for the categorical information of what city each house resides in. For this analysis I'll use the largest 6 cities by population in the King County area, including Tacoma, which is technically in Pierce county. "
   ]
  },
  {
   "cell_type": "code",
   "execution_count": 54,
   "metadata": {},
   "outputs": [],
   "source": [
    "def haversine(city):\n",
    "    \"\"\"\n",
    "    Return distance in miles between house and city.\n",
    "    \n",
    "    Parameters\n",
    "    city-- tuple, coordinates(lon,lat) for a city\n",
    "    \n",
    "    \"\"\"\n",
    "    dists = []\n",
    "    for i in range(0,len(data['long'])):\n",
    "        lon1, lat1, lon2, lat2 = map(radians, \n",
    "                                     [data['long'][i],\n",
    "                                      data['lat'][i],\n",
    "                                      city[0], city[1]])\n",
    "        dlon = lon2 - lon1 \n",
    "        dlat = lat2 - lat1 \n",
    "        a = (sin(dlat/2)**2 + cos(lat1) \n",
    "             * cos(lat2) * sin(dlon/2)**2)\n",
    "        c = 2 * asin(sqrt(a)) \n",
    "        r = 3956 # Radius of earth in miles. \n",
    "        dists.append(round(c*r,2))\n",
    "    return np.array(dists)       "
   ]
  },
  {
   "cell_type": "code",
   "execution_count": 55,
   "metadata": {
    "scrolled": true
   },
   "outputs": [
    {
     "data": {
      "text/plain": [
       "count    18338.000000\n",
       "mean      -122.227009\n",
       "std          0.133581\n",
       "min       -122.503000\n",
       "25%       -122.336000\n",
       "50%       -122.265000\n",
       "75%       -122.149000\n",
       "max       -121.315000\n",
       "Name: long, dtype: float64"
      ]
     },
     "execution_count": 55,
     "metadata": {},
     "output_type": "execute_result"
    }
   ],
   "source": [
    "data['long'].describe()"
   ]
  },
  {
   "cell_type": "code",
   "execution_count": 56,
   "metadata": {
    "scrolled": true
   },
   "outputs": [],
   "source": [
    "Seattle = (-122.335167, 47.608013, 'Seattle')\n",
    "Bellevue = (-122.1994444, 47.6105556, 'Bellevue')\n",
    "Renton = (-122.2158333, 47.4830556, 'Renton') \n",
    "Kent = (-122.2336111, 47.3811111, 'Kent')\n",
    "Federal_Way = (-122.3113889, 47.3225, 'Federal Way')\n",
    "Tacoma = (-122.4430556, 47.2530556, 'Tacoma')\n",
    "\n",
    "city_list = [Seattle, Bellevue, Renton, \n",
    "             Kent, Federal_Way, Tacoma]\n",
    "\n",
    "for city in city_list:\n",
    "    data['dist_to_{}'.format(city[2])] = haversine(city)"
   ]
  },
  {
   "cell_type": "code",
   "execution_count": 57,
   "metadata": {},
   "outputs": [],
   "source": [
    "city_dist_cols = [('dist_to_{}'.format(city[2]), city[2]) \n",
    "                  for city in city_list]\n",
    "nearest_cities = []\n",
    "\n",
    "for i in range(0,len(data['long'])):\n",
    "    dists = []\n",
    "    for city_dist in city_dist_cols:\n",
    "        dists.append(((data[city_dist[0]][i]), city_dist[1]))\n",
    "    nearest_cities.append(sorted(dists)[0][1])\n",
    "    \n",
    "data['nearest_city'] = nearest_cities"
   ]
  },
  {
   "cell_type": "code",
   "execution_count": 58,
   "metadata": {
    "scrolled": false
   },
   "outputs": [
    {
     "data": {
      "text/html": [
       "<div>\n",
       "<style scoped>\n",
       "    .dataframe tbody tr th:only-of-type {\n",
       "        vertical-align: middle;\n",
       "    }\n",
       "\n",
       "    .dataframe tbody tr th {\n",
       "        vertical-align: top;\n",
       "    }\n",
       "\n",
       "    .dataframe thead th {\n",
       "        text-align: right;\n",
       "    }\n",
       "</style>\n",
       "<table border=\"1\" class=\"dataframe\">\n",
       "  <thead>\n",
       "    <tr style=\"text-align: right;\">\n",
       "      <th></th>\n",
       "      <th>dist_to_Seattle</th>\n",
       "      <th>dist_to_Bellevue</th>\n",
       "      <th>dist_to_Renton</th>\n",
       "      <th>dist_to_Kent</th>\n",
       "      <th>dist_to_Federal Way</th>\n",
       "      <th>dist_to_Tacoma</th>\n",
       "      <th>nearest_city</th>\n",
       "    </tr>\n",
       "  </thead>\n",
       "  <tbody>\n",
       "    <tr>\n",
       "      <td>0</td>\n",
       "      <td>7.61</td>\n",
       "      <td>7.37</td>\n",
       "      <td>2.73</td>\n",
       "      <td>9.05</td>\n",
       "      <td>13.27</td>\n",
       "      <td>19.83</td>\n",
       "      <td>Renton</td>\n",
       "    </tr>\n",
       "    <tr>\n",
       "      <td>1</td>\n",
       "      <td>7.84</td>\n",
       "      <td>9.44</td>\n",
       "      <td>17.12</td>\n",
       "      <td>23.80</td>\n",
       "      <td>27.52</td>\n",
       "      <td>32.82</td>\n",
       "      <td>Seattle</td>\n",
       "    </tr>\n",
       "    <tr>\n",
       "      <td>2</td>\n",
       "      <td>10.15</td>\n",
       "      <td>8.93</td>\n",
       "      <td>17.61</td>\n",
       "      <td>24.63</td>\n",
       "      <td>28.91</td>\n",
       "      <td>34.88</td>\n",
       "      <td>Bellevue</td>\n",
       "    </tr>\n",
       "    <tr>\n",
       "      <td>3</td>\n",
       "      <td>6.60</td>\n",
       "      <td>10.94</td>\n",
       "      <td>8.67</td>\n",
       "      <td>12.18</td>\n",
       "      <td>14.21</td>\n",
       "      <td>18.63</td>\n",
       "      <td>Seattle</td>\n",
       "    </tr>\n",
       "    <tr>\n",
       "      <td>4</td>\n",
       "      <td>13.52</td>\n",
       "      <td>7.20</td>\n",
       "      <td>12.19</td>\n",
       "      <td>18.50</td>\n",
       "      <td>23.82</td>\n",
       "      <td>31.25</td>\n",
       "      <td>Bellevue</td>\n",
       "    </tr>\n",
       "    <tr>\n",
       "      <td>...</td>\n",
       "      <td>...</td>\n",
       "      <td>...</td>\n",
       "      <td>...</td>\n",
       "      <td>...</td>\n",
       "      <td>...</td>\n",
       "      <td>...</td>\n",
       "      <td>...</td>\n",
       "    </tr>\n",
       "    <tr>\n",
       "      <td>18333</td>\n",
       "      <td>6.32</td>\n",
       "      <td>9.17</td>\n",
       "      <td>16.11</td>\n",
       "      <td>22.59</td>\n",
       "      <td>26.07</td>\n",
       "      <td>31.14</td>\n",
       "      <td>Seattle</td>\n",
       "    </tr>\n",
       "    <tr>\n",
       "      <td>18334</td>\n",
       "      <td>6.83</td>\n",
       "      <td>10.24</td>\n",
       "      <td>7.08</td>\n",
       "      <td>10.77</td>\n",
       "      <td>13.21</td>\n",
       "      <td>18.19</td>\n",
       "      <td>Seattle</td>\n",
       "    </tr>\n",
       "    <tr>\n",
       "      <td>18335</td>\n",
       "      <td>1.93</td>\n",
       "      <td>4.77</td>\n",
       "      <td>8.61</td>\n",
       "      <td>15.04</td>\n",
       "      <td>18.78</td>\n",
       "      <td>24.51</td>\n",
       "      <td>Seattle</td>\n",
       "    </tr>\n",
       "    <tr>\n",
       "      <td>18336</td>\n",
       "      <td>13.40</td>\n",
       "      <td>8.03</td>\n",
       "      <td>7.71</td>\n",
       "      <td>13.09</td>\n",
       "      <td>18.51</td>\n",
       "      <td>26.14</td>\n",
       "      <td>Renton</td>\n",
       "    </tr>\n",
       "    <tr>\n",
       "      <td>18337</td>\n",
       "      <td>1.94</td>\n",
       "      <td>4.77</td>\n",
       "      <td>8.59</td>\n",
       "      <td>15.02</td>\n",
       "      <td>18.76</td>\n",
       "      <td>24.49</td>\n",
       "      <td>Seattle</td>\n",
       "    </tr>\n",
       "  </tbody>\n",
       "</table>\n",
       "<p>18338 rows × 7 columns</p>\n",
       "</div>"
      ],
      "text/plain": [
       "       dist_to_Seattle  dist_to_Bellevue  dist_to_Renton  dist_to_Kent  \\\n",
       "0                 7.61              7.37            2.73          9.05   \n",
       "1                 7.84              9.44           17.12         23.80   \n",
       "2                10.15              8.93           17.61         24.63   \n",
       "3                 6.60             10.94            8.67         12.18   \n",
       "4                13.52              7.20           12.19         18.50   \n",
       "...                ...               ...             ...           ...   \n",
       "18333             6.32              9.17           16.11         22.59   \n",
       "18334             6.83             10.24            7.08         10.77   \n",
       "18335             1.93              4.77            8.61         15.04   \n",
       "18336            13.40              8.03            7.71         13.09   \n",
       "18337             1.94              4.77            8.59         15.02   \n",
       "\n",
       "       dist_to_Federal Way  dist_to_Tacoma nearest_city  \n",
       "0                    13.27           19.83       Renton  \n",
       "1                    27.52           32.82      Seattle  \n",
       "2                    28.91           34.88     Bellevue  \n",
       "3                    14.21           18.63      Seattle  \n",
       "4                    23.82           31.25     Bellevue  \n",
       "...                    ...             ...          ...  \n",
       "18333                26.07           31.14      Seattle  \n",
       "18334                13.21           18.19      Seattle  \n",
       "18335                18.78           24.51      Seattle  \n",
       "18336                18.51           26.14       Renton  \n",
       "18337                18.76           24.49      Seattle  \n",
       "\n",
       "[18338 rows x 7 columns]"
      ]
     },
     "execution_count": 58,
     "metadata": {},
     "output_type": "execute_result"
    }
   ],
   "source": [
    "data[['dist_to_Seattle', 'dist_to_Bellevue',\n",
    "     'dist_to_Renton', 'dist_to_Kent',\n",
    "     'dist_to_Federal Way', 'dist_to_Tacoma',\n",
    "     'nearest_city']]"
   ]
  },
  {
   "cell_type": "code",
   "execution_count": 59,
   "metadata": {},
   "outputs": [
    {
     "data": {
      "text/plain": [
       "Seattle        6741\n",
       "Bellevue       4894\n",
       "Renton         3031\n",
       "Kent           2304\n",
       "Federal Way    1366\n",
       "Tacoma            2\n",
       "Name: nearest_city, dtype: int64"
      ]
     },
     "execution_count": 59,
     "metadata": {},
     "output_type": "execute_result"
    }
   ],
   "source": [
    "data['nearest_city'].value_counts()"
   ]
  },
  {
   "cell_type": "code",
   "execution_count": 60,
   "metadata": {},
   "outputs": [],
   "source": [
    "data['nearest_city'].astype('category', copy=False)\n",
    "ncdummies = pd.get_dummies(data['nearest_city'])\n",
    "data = data.join(ncdummies, how='outer')"
   ]
  },
  {
   "cell_type": "markdown",
   "metadata": {},
   "source": [
    "### Size Relative to Neighbors\n",
    "\n",
    "I'd like to test the old real estate addage that the biggest house on the block has lower than expected value by creating an additional feature that tracks the size of a home compared with its nearst 15 neighbors."
   ]
  },
  {
   "cell_type": "code",
   "execution_count": 61,
   "metadata": {
    "scrolled": true
   },
   "outputs": [],
   "source": [
    "data['rel_size_living'] = (data['sqft_living']\n",
    "                           /data['sqft_living15'])\n",
    "data['rel_size_lot'] = data['sqft_lot']/data['sqft_lot15']"
   ]
  },
  {
   "cell_type": "code",
   "execution_count": 62,
   "metadata": {},
   "outputs": [
    {
     "data": {
      "text/html": [
       "<div>\n",
       "<style scoped>\n",
       "    .dataframe tbody tr th:only-of-type {\n",
       "        vertical-align: middle;\n",
       "    }\n",
       "\n",
       "    .dataframe tbody tr th {\n",
       "        vertical-align: top;\n",
       "    }\n",
       "\n",
       "    .dataframe thead th {\n",
       "        text-align: right;\n",
       "    }\n",
       "</style>\n",
       "<table border=\"1\" class=\"dataframe\">\n",
       "  <thead>\n",
       "    <tr style=\"text-align: right;\">\n",
       "      <th></th>\n",
       "      <th>sqft_living</th>\n",
       "      <th>sqft_living15</th>\n",
       "      <th>rel_size_living</th>\n",
       "      <th>sqft_lot</th>\n",
       "      <th>sqft_lot15</th>\n",
       "      <th>rel_size_lot</th>\n",
       "    </tr>\n",
       "  </thead>\n",
       "  <tbody>\n",
       "    <tr>\n",
       "      <td>0</td>\n",
       "      <td>1180</td>\n",
       "      <td>1340</td>\n",
       "      <td>0.880597</td>\n",
       "      <td>5650</td>\n",
       "      <td>5650</td>\n",
       "      <td>1.000000</td>\n",
       "    </tr>\n",
       "    <tr>\n",
       "      <td>1</td>\n",
       "      <td>2570</td>\n",
       "      <td>1690</td>\n",
       "      <td>1.520710</td>\n",
       "      <td>7242</td>\n",
       "      <td>7639</td>\n",
       "      <td>0.948030</td>\n",
       "    </tr>\n",
       "    <tr>\n",
       "      <td>2</td>\n",
       "      <td>770</td>\n",
       "      <td>2720</td>\n",
       "      <td>0.283088</td>\n",
       "      <td>10000</td>\n",
       "      <td>8062</td>\n",
       "      <td>1.240387</td>\n",
       "    </tr>\n",
       "    <tr>\n",
       "      <td>3</td>\n",
       "      <td>1960</td>\n",
       "      <td>1360</td>\n",
       "      <td>1.441176</td>\n",
       "      <td>5000</td>\n",
       "      <td>5000</td>\n",
       "      <td>1.000000</td>\n",
       "    </tr>\n",
       "    <tr>\n",
       "      <td>4</td>\n",
       "      <td>1680</td>\n",
       "      <td>1800</td>\n",
       "      <td>0.933333</td>\n",
       "      <td>8080</td>\n",
       "      <td>7503</td>\n",
       "      <td>1.076903</td>\n",
       "    </tr>\n",
       "  </tbody>\n",
       "</table>\n",
       "</div>"
      ],
      "text/plain": [
       "   sqft_living  sqft_living15  rel_size_living  sqft_lot  sqft_lot15  \\\n",
       "0         1180           1340         0.880597      5650        5650   \n",
       "1         2570           1690         1.520710      7242        7639   \n",
       "2          770           2720         0.283088     10000        8062   \n",
       "3         1960           1360         1.441176      5000        5000   \n",
       "4         1680           1800         0.933333      8080        7503   \n",
       "\n",
       "   rel_size_lot  \n",
       "0      1.000000  \n",
       "1      0.948030  \n",
       "2      1.240387  \n",
       "3      1.000000  \n",
       "4      1.076903  "
      ]
     },
     "execution_count": 62,
     "metadata": {},
     "output_type": "execute_result"
    }
   ],
   "source": [
    "data.head()[['sqft_living', 'sqft_living15', \n",
    "             'rel_size_living',\n",
    "             'sqft_lot', 'sqft_lot15', \n",
    "             'rel_size_lot']]"
   ]
  },
  {
   "cell_type": "code",
   "execution_count": 63,
   "metadata": {},
   "outputs": [
    {
     "name": "stdout",
     "output_type": "stream",
     "text": [
      "<class 'pandas.core.frame.DataFrame'>\n",
      "RangeIndex: 18338 entries, 0 to 18337\n",
      "Columns: 123 entries, id to rel_size_lot\n",
      "dtypes: float64(16), int64(13), object(4), uint8(90)\n",
      "memory usage: 6.2+ MB\n"
     ]
    }
   ],
   "source": [
    "data.info()"
   ]
  },
  {
   "cell_type": "markdown",
   "metadata": {},
   "source": [
    "# Build a Baseline Model\n",
    "In order to fit a baseline model for use in comparisons with the more complete model I will conduct these steps:\n",
    "1. Handle Muliticolinearity\n",
    "2. Standardize Variables\n",
    "3. Fit and Validate the Baseline Model\n",
    "\n",
    "## 1. Handle Multicolinearity "
   ]
  },
  {
   "cell_type": "code",
   "execution_count": 64,
   "metadata": {
    "scrolled": true
   },
   "outputs": [
    {
     "data": {
      "text/plain": [
       "id                     False\n",
       "price                  False\n",
       "bedrooms               False\n",
       "bathrooms              False\n",
       "sqft_living             True\n",
       "sqft_lot                True\n",
       "floors                 False\n",
       "view                   False\n",
       "condition              False\n",
       "grade                  False\n",
       "sqft_above              True\n",
       "sqft_basement          False\n",
       "yr_built                True\n",
       "yr_renovated            True\n",
       "lat                     True\n",
       "long                   False\n",
       "sqft_living15          False\n",
       "sqft_lot15              True\n",
       "98001                  False\n",
       "98002                  False\n",
       "98003                  False\n",
       "98004                  False\n",
       "98005                  False\n",
       "98006                  False\n",
       "98007                  False\n",
       "98008                  False\n",
       "98010                  False\n",
       "98011                  False\n",
       "98014                  False\n",
       "98019                  False\n",
       "98022                  False\n",
       "98023                  False\n",
       "98024                  False\n",
       "98027                  False\n",
       "98028                  False\n",
       "98029                  False\n",
       "98030                  False\n",
       "98031                  False\n",
       "98032                  False\n",
       "98033                  False\n",
       "98034                  False\n",
       "98038                  False\n",
       "98039                  False\n",
       "98040                  False\n",
       "98042                  False\n",
       "98045                  False\n",
       "98052                  False\n",
       "98053                  False\n",
       "98055                  False\n",
       "98056                  False\n",
       "98058                  False\n",
       "98059                  False\n",
       "98065                  False\n",
       "98070                  False\n",
       "98072                  False\n",
       "98074                  False\n",
       "98075                  False\n",
       "98077                  False\n",
       "98092                  False\n",
       "98102                  False\n",
       "98103                  False\n",
       "98105                  False\n",
       "98106                  False\n",
       "98107                  False\n",
       "98108                  False\n",
       "98109                  False\n",
       "98112                  False\n",
       "98115                  False\n",
       "98116                  False\n",
       "98117                  False\n",
       "98118                  False\n",
       "98119                  False\n",
       "98122                  False\n",
       "98125                  False\n",
       "98126                  False\n",
       "98133                  False\n",
       "98136                  False\n",
       "98144                  False\n",
       "98146                  False\n",
       "98148                  False\n",
       "98155                  False\n",
       "98166                  False\n",
       "98168                  False\n",
       "98177                  False\n",
       "98178                  False\n",
       "98188                  False\n",
       "98198                  False\n",
       "98199                  False\n",
       "WaterFront             False\n",
       "year_sold              False\n",
       "Apr                    False\n",
       "Aug                    False\n",
       "Dec                    False\n",
       "Feb                    False\n",
       "Jan                    False\n",
       "Jul                    False\n",
       "Jun                    False\n",
       "Mar                    False\n",
       "May                    False\n",
       "Nov                    False\n",
       "Oct                    False\n",
       "Sep                    False\n",
       "age                     True\n",
       "yrs_reno                True\n",
       "Renovated              False\n",
       "dist_to_Seattle         True\n",
       "dist_to_Bellevue        True\n",
       "dist_to_Renton         False\n",
       "dist_to_Kent            True\n",
       "dist_to_Federal Way     True\n",
       "dist_to_Tacoma          True\n",
       "Bellevue               False\n",
       "Federal Way            False\n",
       "Kent                   False\n",
       "Renton                 False\n",
       "Seattle                False\n",
       "Tacoma                 False\n",
       "rel_size_living        False\n",
       "rel_size_lot           False\n",
       "dtype: bool"
      ]
     },
     "execution_count": 64,
     "metadata": {},
     "output_type": "execute_result"
    }
   ],
   "source": [
    "high_corr = ((abs(data.corr())> .8).sum()>1)\n",
    "pd.set_option('display.max_rows', 200)\n",
    "high_corr"
   ]
  },
  {
   "cell_type": "code",
   "execution_count": 65,
   "metadata": {
    "scrolled": true
   },
   "outputs": [
    {
     "data": {
      "text/html": [
       "<div>\n",
       "<style scoped>\n",
       "    .dataframe tbody tr th:only-of-type {\n",
       "        vertical-align: middle;\n",
       "    }\n",
       "\n",
       "    .dataframe tbody tr th {\n",
       "        vertical-align: top;\n",
       "    }\n",
       "\n",
       "    .dataframe thead th {\n",
       "        text-align: right;\n",
       "    }\n",
       "</style>\n",
       "<table border=\"1\" class=\"dataframe\">\n",
       "  <thead>\n",
       "    <tr style=\"text-align: right;\">\n",
       "      <th></th>\n",
       "      <th>sqft_living</th>\n",
       "      <th>sqft_above</th>\n",
       "      <th>lat</th>\n",
       "      <th>dist_to_Seattle</th>\n",
       "      <th>dist_to_Bellevue</th>\n",
       "      <th>dist_to_Kent</th>\n",
       "      <th>dist_to_Federal Way</th>\n",
       "      <th>dist_to_Tacoma</th>\n",
       "    </tr>\n",
       "  </thead>\n",
       "  <tbody>\n",
       "    <tr>\n",
       "      <td>sqft_living</td>\n",
       "      <td>1.000000</td>\n",
       "      <td>0.842922</td>\n",
       "      <td>0.010270</td>\n",
       "      <td>0.138057</td>\n",
       "      <td>-0.042729</td>\n",
       "      <td>0.025868</td>\n",
       "      <td>0.059517</td>\n",
       "      <td>0.092658</td>\n",
       "    </tr>\n",
       "    <tr>\n",
       "      <td>sqft_above</td>\n",
       "      <td>0.842922</td>\n",
       "      <td>1.000000</td>\n",
       "      <td>-0.060444</td>\n",
       "      <td>0.269670</td>\n",
       "      <td>0.051454</td>\n",
       "      <td>-0.008617</td>\n",
       "      <td>0.032054</td>\n",
       "      <td>0.078095</td>\n",
       "    </tr>\n",
       "    <tr>\n",
       "      <td>lat</td>\n",
       "      <td>0.010270</td>\n",
       "      <td>-0.060444</td>\n",
       "      <td>1.000000</td>\n",
       "      <td>-0.621484</td>\n",
       "      <td>-0.687565</td>\n",
       "      <td>0.886384</td>\n",
       "      <td>0.919227</td>\n",
       "      <td>0.894866</td>\n",
       "    </tr>\n",
       "    <tr>\n",
       "      <td>dist_to_Seattle</td>\n",
       "      <td>0.138057</td>\n",
       "      <td>0.269670</td>\n",
       "      <td>-0.621484</td>\n",
       "      <td>1.000000</td>\n",
       "      <td>0.832369</td>\n",
       "      <td>-0.305993</td>\n",
       "      <td>-0.345251</td>\n",
       "      <td>-0.292468</td>\n",
       "    </tr>\n",
       "    <tr>\n",
       "      <td>dist_to_Bellevue</td>\n",
       "      <td>-0.042729</td>\n",
       "      <td>0.051454</td>\n",
       "      <td>-0.687565</td>\n",
       "      <td>0.832369</td>\n",
       "      <td>1.000000</td>\n",
       "      <td>-0.361199</td>\n",
       "      <td>-0.487441</td>\n",
       "      <td>-0.500918</td>\n",
       "    </tr>\n",
       "    <tr>\n",
       "      <td>dist_to_Kent</td>\n",
       "      <td>0.025868</td>\n",
       "      <td>-0.008617</td>\n",
       "      <td>0.886384</td>\n",
       "      <td>-0.305993</td>\n",
       "      <td>-0.361199</td>\n",
       "      <td>1.000000</td>\n",
       "      <td>0.965133</td>\n",
       "      <td>0.922313</td>\n",
       "    </tr>\n",
       "    <tr>\n",
       "      <td>dist_to_Federal Way</td>\n",
       "      <td>0.059517</td>\n",
       "      <td>0.032054</td>\n",
       "      <td>0.919227</td>\n",
       "      <td>-0.345251</td>\n",
       "      <td>-0.487441</td>\n",
       "      <td>0.965133</td>\n",
       "      <td>1.000000</td>\n",
       "      <td>0.987732</td>\n",
       "    </tr>\n",
       "    <tr>\n",
       "      <td>dist_to_Tacoma</td>\n",
       "      <td>0.092658</td>\n",
       "      <td>0.078095</td>\n",
       "      <td>0.894866</td>\n",
       "      <td>-0.292468</td>\n",
       "      <td>-0.500918</td>\n",
       "      <td>0.922313</td>\n",
       "      <td>0.987732</td>\n",
       "      <td>1.000000</td>\n",
       "    </tr>\n",
       "  </tbody>\n",
       "</table>\n",
       "</div>"
      ],
      "text/plain": [
       "                     sqft_living  sqft_above       lat  dist_to_Seattle  \\\n",
       "sqft_living             1.000000    0.842922  0.010270         0.138057   \n",
       "sqft_above              0.842922    1.000000 -0.060444         0.269670   \n",
       "lat                     0.010270   -0.060444  1.000000        -0.621484   \n",
       "dist_to_Seattle         0.138057    0.269670 -0.621484         1.000000   \n",
       "dist_to_Bellevue       -0.042729    0.051454 -0.687565         0.832369   \n",
       "dist_to_Kent            0.025868   -0.008617  0.886384        -0.305993   \n",
       "dist_to_Federal Way     0.059517    0.032054  0.919227        -0.345251   \n",
       "dist_to_Tacoma          0.092658    0.078095  0.894866        -0.292468   \n",
       "\n",
       "                     dist_to_Bellevue  dist_to_Kent  dist_to_Federal Way  \\\n",
       "sqft_living                 -0.042729      0.025868             0.059517   \n",
       "sqft_above                   0.051454     -0.008617             0.032054   \n",
       "lat                         -0.687565      0.886384             0.919227   \n",
       "dist_to_Seattle              0.832369     -0.305993            -0.345251   \n",
       "dist_to_Bellevue             1.000000     -0.361199            -0.487441   \n",
       "dist_to_Kent                -0.361199      1.000000             0.965133   \n",
       "dist_to_Federal Way         -0.487441      0.965133             1.000000   \n",
       "dist_to_Tacoma              -0.500918      0.922313             0.987732   \n",
       "\n",
       "                     dist_to_Tacoma  \n",
       "sqft_living                0.092658  \n",
       "sqft_above                 0.078095  \n",
       "lat                        0.894866  \n",
       "dist_to_Seattle           -0.292468  \n",
       "dist_to_Bellevue          -0.500918  \n",
       "dist_to_Kent               0.922313  \n",
       "dist_to_Federal Way        0.987732  \n",
       "dist_to_Tacoma             1.000000  "
      ]
     },
     "execution_count": 65,
     "metadata": {},
     "output_type": "execute_result"
    }
   ],
   "source": [
    "data[['sqft_living', 'sqft_above', 'lat', 'dist_to_Seattle',\n",
    "      'dist_to_Bellevue', 'dist_to_Kent', \n",
    "      'dist_to_Federal Way', 'dist_to_Tacoma']].corr()"
   ]
  },
  {
   "cell_type": "markdown",
   "metadata": {},
   "source": [
    "To avoid multicolinearity issues I will drop sqft_above, because the information already exists in a combination of sqft_living and sqft_basement, so it's exclusion will not hinder the model. In addition, the categorical variables for nearest city will serve my purposes sufficiently and distance variables to each city aside from Seattle will be dropped. "
   ]
  },
  {
   "cell_type": "code",
   "execution_count": 66,
   "metadata": {},
   "outputs": [],
   "source": [
    "data.drop(['sqft_above', 'dist_to_Bellevue', 'dist_to_Kent', \n",
    "           'dist_to_Federal Way', 'dist_to_Tacoma'], axis=1,\n",
    "          inplace=True)"
   ]
  },
  {
   "cell_type": "code",
   "execution_count": 67,
   "metadata": {},
   "outputs": [
    {
     "name": "stdout",
     "output_type": "stream",
     "text": [
      "<class 'pandas.core.frame.DataFrame'>\n",
      "RangeIndex: 18338 entries, 0 to 18337\n",
      "Columns: 118 entries, id to rel_size_lot\n",
      "dtypes: float64(12), int64(12), object(4), uint8(90)\n",
      "memory usage: 5.5+ MB\n"
     ]
    }
   ],
   "source": [
    "data.info()"
   ]
  },
  {
   "cell_type": "markdown",
   "metadata": {},
   "source": [
    "## 2. Standardize Variables \n",
    "To standardize the data I'll be using scikit learn's Robust Scalar function because of the existence of significant outliers in the independent variable, price."
   ]
  },
  {
   "cell_type": "code",
   "execution_count": 68,
   "metadata": {},
   "outputs": [
    {
     "data": {
      "image/png": "[encoded data removed]",
      "text/plain": [
       "<Figure size 432x288 with 1 Axes>"
      ]
     },
     "metadata": {
      "needs_background": "light"
     },
     "output_type": "display_data"
    }
   ],
   "source": [
    "data['price'].hist();\n",
    "data.drop('id', axis=1, inplace=True)"
   ]
  },
  {
   "cell_type": "code",
   "execution_count": 69,
   "metadata": {
    "scrolled": false
   },
   "outputs": [
    {
     "data": {
      "text/html": [
       "<div>\n",
       "<style scoped>\n",
       "    .dataframe tbody tr th:only-of-type {\n",
       "        vertical-align: middle;\n",
       "    }\n",
       "\n",
       "    .dataframe tbody tr th {\n",
       "        vertical-align: top;\n",
       "    }\n",
       "\n",
       "    .dataframe thead th {\n",
       "        text-align: right;\n",
       "    }\n",
       "</style>\n",
       "<table border=\"1\" class=\"dataframe\">\n",
       "  <thead>\n",
       "    <tr style=\"text-align: right;\">\n",
       "      <th></th>\n",
       "      <th>price</th>\n",
       "      <th>bedrooms</th>\n",
       "      <th>bathrooms</th>\n",
       "      <th>sqft_living</th>\n",
       "      <th>sqft_lot</th>\n",
       "      <th>floors</th>\n",
       "      <th>view</th>\n",
       "      <th>condition</th>\n",
       "      <th>grade</th>\n",
       "      <th>sqft_basement</th>\n",
       "      <th>...</th>\n",
       "      <th>long</th>\n",
       "      <th>sqft_living15</th>\n",
       "      <th>sqft_lot15</th>\n",
       "      <th>year_sold</th>\n",
       "      <th>age</th>\n",
       "      <th>yrs_reno</th>\n",
       "      <th>dist_to_Seattle</th>\n",
       "      <th>dist_to_Renton</th>\n",
       "      <th>rel_size_living</th>\n",
       "      <th>rel_size_lot</th>\n",
       "    </tr>\n",
       "  </thead>\n",
       "  <tbody>\n",
       "    <tr>\n",
       "      <td>0</td>\n",
       "      <td>221900.0</td>\n",
       "      <td>3</td>\n",
       "      <td>1.00</td>\n",
       "      <td>1180</td>\n",
       "      <td>5650</td>\n",
       "      <td>1.0</td>\n",
       "      <td>0.0</td>\n",
       "      <td>3</td>\n",
       "      <td>7</td>\n",
       "      <td>0</td>\n",
       "      <td>...</td>\n",
       "      <td>-122.257</td>\n",
       "      <td>1340</td>\n",
       "      <td>5650</td>\n",
       "      <td>2014</td>\n",
       "      <td>59</td>\n",
       "      <td>59.0</td>\n",
       "      <td>7.61</td>\n",
       "      <td>2.73</td>\n",
       "      <td>0.880597</td>\n",
       "      <td>1.000000</td>\n",
       "    </tr>\n",
       "    <tr>\n",
       "      <td>1</td>\n",
       "      <td>538000.0</td>\n",
       "      <td>3</td>\n",
       "      <td>2.25</td>\n",
       "      <td>2570</td>\n",
       "      <td>7242</td>\n",
       "      <td>2.0</td>\n",
       "      <td>0.0</td>\n",
       "      <td>3</td>\n",
       "      <td>7</td>\n",
       "      <td>400</td>\n",
       "      <td>...</td>\n",
       "      <td>-122.319</td>\n",
       "      <td>1690</td>\n",
       "      <td>7639</td>\n",
       "      <td>2014</td>\n",
       "      <td>63</td>\n",
       "      <td>23.0</td>\n",
       "      <td>7.84</td>\n",
       "      <td>17.12</td>\n",
       "      <td>1.520710</td>\n",
       "      <td>0.948030</td>\n",
       "    </tr>\n",
       "    <tr>\n",
       "      <td>2</td>\n",
       "      <td>180000.0</td>\n",
       "      <td>2</td>\n",
       "      <td>1.00</td>\n",
       "      <td>770</td>\n",
       "      <td>10000</td>\n",
       "      <td>1.0</td>\n",
       "      <td>0.0</td>\n",
       "      <td>3</td>\n",
       "      <td>6</td>\n",
       "      <td>0</td>\n",
       "      <td>...</td>\n",
       "      <td>-122.233</td>\n",
       "      <td>2720</td>\n",
       "      <td>8062</td>\n",
       "      <td>2015</td>\n",
       "      <td>82</td>\n",
       "      <td>82.0</td>\n",
       "      <td>10.15</td>\n",
       "      <td>17.61</td>\n",
       "      <td>0.283088</td>\n",
       "      <td>1.240387</td>\n",
       "    </tr>\n",
       "    <tr>\n",
       "      <td>3</td>\n",
       "      <td>604000.0</td>\n",
       "      <td>4</td>\n",
       "      <td>3.00</td>\n",
       "      <td>1960</td>\n",
       "      <td>5000</td>\n",
       "      <td>1.0</td>\n",
       "      <td>0.0</td>\n",
       "      <td>5</td>\n",
       "      <td>7</td>\n",
       "      <td>910</td>\n",
       "      <td>...</td>\n",
       "      <td>-122.393</td>\n",
       "      <td>1360</td>\n",
       "      <td>5000</td>\n",
       "      <td>2014</td>\n",
       "      <td>49</td>\n",
       "      <td>49.0</td>\n",
       "      <td>6.60</td>\n",
       "      <td>8.67</td>\n",
       "      <td>1.441176</td>\n",
       "      <td>1.000000</td>\n",
       "    </tr>\n",
       "    <tr>\n",
       "      <td>4</td>\n",
       "      <td>510000.0</td>\n",
       "      <td>3</td>\n",
       "      <td>2.00</td>\n",
       "      <td>1680</td>\n",
       "      <td>8080</td>\n",
       "      <td>1.0</td>\n",
       "      <td>0.0</td>\n",
       "      <td>3</td>\n",
       "      <td>8</td>\n",
       "      <td>0</td>\n",
       "      <td>...</td>\n",
       "      <td>-122.045</td>\n",
       "      <td>1800</td>\n",
       "      <td>7503</td>\n",
       "      <td>2015</td>\n",
       "      <td>28</td>\n",
       "      <td>28.0</td>\n",
       "      <td>13.52</td>\n",
       "      <td>12.19</td>\n",
       "      <td>0.933333</td>\n",
       "      <td>1.076903</td>\n",
       "    </tr>\n",
       "  </tbody>\n",
       "</table>\n",
       "<p>5 rows × 23 columns</p>\n",
       "</div>"
      ],
      "text/plain": [
       "      price  bedrooms  bathrooms  sqft_living  sqft_lot  floors  view  \\\n",
       "0  221900.0         3       1.00         1180      5650     1.0   0.0   \n",
       "1  538000.0         3       2.25         2570      7242     2.0   0.0   \n",
       "2  180000.0         2       1.00          770     10000     1.0   0.0   \n",
       "3  604000.0         4       3.00         1960      5000     1.0   0.0   \n",
       "4  510000.0         3       2.00         1680      8080     1.0   0.0   \n",
       "\n",
       "   condition  grade  sqft_basement  ...     long  sqft_living15  sqft_lot15  \\\n",
       "0          3      7              0  ... -122.257           1340        5650   \n",
       "1          3      7            400  ... -122.319           1690        7639   \n",
       "2          3      6              0  ... -122.233           2720        8062   \n",
       "3          5      7            910  ... -122.393           1360        5000   \n",
       "4          3      8              0  ... -122.045           1800        7503   \n",
       "\n",
       "   year_sold  age  yrs_reno  dist_to_Seattle  dist_to_Renton  rel_size_living  \\\n",
       "0       2014   59      59.0             7.61            2.73         0.880597   \n",
       "1       2014   63      23.0             7.84           17.12         1.520710   \n",
       "2       2015   82      82.0            10.15           17.61         0.283088   \n",
       "3       2014   49      49.0             6.60            8.67         1.441176   \n",
       "4       2015   28      28.0            13.52           12.19         0.933333   \n",
       "\n",
       "   rel_size_lot  \n",
       "0      1.000000  \n",
       "1      0.948030  \n",
       "2      1.240387  \n",
       "3      1.000000  \n",
       "4      1.076903  \n",
       "\n",
       "[5 rows x 23 columns]"
      ]
     },
     "execution_count": 69,
     "metadata": {},
     "output_type": "execute_result"
    }
   ],
   "source": [
    "#Separate data into categorical and continuous groups. \n",
    "cat_data = data.select_dtypes(include='uint8')\n",
    "\n",
    "con_data = (data.select_dtypes(exclude='uint8')\n",
    "#Keep certain categorical data separate to use for visuals.\n",
    "            .drop(['Renovated?', 'month_sold', 'nearest_city', \n",
    "                  'waterfront'], axis=1))\n",
    "groups = data[['Renovated?', 'month_sold', 'nearest_city',\n",
    "               'waterfront']]\n",
    "con_data.head()"
   ]
  },
  {
   "cell_type": "code",
   "execution_count": 70,
   "metadata": {},
   "outputs": [],
   "source": [
    "def scale(col):\n",
    "    return (con_data[col]\n",
    "            -con_data[col].mean())/con_data[col].std()"
   ]
  },
  {
   "cell_type": "code",
   "execution_count": 71,
   "metadata": {},
   "outputs": [
    {
     "data": {
      "text/html": [
       "<div>\n",
       "<style scoped>\n",
       "    .dataframe tbody tr th:only-of-type {\n",
       "        vertical-align: middle;\n",
       "    }\n",
       "\n",
       "    .dataframe tbody tr th {\n",
       "        vertical-align: top;\n",
       "    }\n",
       "\n",
       "    .dataframe thead th {\n",
       "        text-align: right;\n",
       "    }\n",
       "</style>\n",
       "<table border=\"1\" class=\"dataframe\">\n",
       "  <thead>\n",
       "    <tr style=\"text-align: right;\">\n",
       "      <th></th>\n",
       "      <th>price</th>\n",
       "      <th>bedrooms</th>\n",
       "      <th>bathrooms</th>\n",
       "      <th>sqft_living</th>\n",
       "      <th>sqft_lot</th>\n",
       "      <th>floors</th>\n",
       "      <th>view</th>\n",
       "      <th>condition</th>\n",
       "      <th>grade</th>\n",
       "      <th>sqft_basement</th>\n",
       "      <th>...</th>\n",
       "      <th>long</th>\n",
       "      <th>sqft_living15</th>\n",
       "      <th>sqft_lot15</th>\n",
       "      <th>year_sold</th>\n",
       "      <th>age</th>\n",
       "      <th>yrs_reno</th>\n",
       "      <th>dist_to_Seattle</th>\n",
       "      <th>dist_to_Renton</th>\n",
       "      <th>rel_size_living</th>\n",
       "      <th>rel_size_lot</th>\n",
       "    </tr>\n",
       "  </thead>\n",
       "  <tbody>\n",
       "    <tr>\n",
       "      <td>count</td>\n",
       "      <td>1.833800e+04</td>\n",
       "      <td>1.833800e+04</td>\n",
       "      <td>1.833800e+04</td>\n",
       "      <td>1.833800e+04</td>\n",
       "      <td>1.833800e+04</td>\n",
       "      <td>1.833800e+04</td>\n",
       "      <td>1.833800e+04</td>\n",
       "      <td>1.833800e+04</td>\n",
       "      <td>1.833800e+04</td>\n",
       "      <td>1.833800e+04</td>\n",
       "      <td>...</td>\n",
       "      <td>1.833800e+04</td>\n",
       "      <td>1.833800e+04</td>\n",
       "      <td>1.833800e+04</td>\n",
       "      <td>1.833800e+04</td>\n",
       "      <td>1.833800e+04</td>\n",
       "      <td>1.833800e+04</td>\n",
       "      <td>1.833800e+04</td>\n",
       "      <td>1.833800e+04</td>\n",
       "      <td>1.833800e+04</td>\n",
       "      <td>1.833800e+04</td>\n",
       "    </tr>\n",
       "    <tr>\n",
       "      <td>mean</td>\n",
       "      <td>-3.262026e-15</td>\n",
       "      <td>5.038807e-16</td>\n",
       "      <td>7.734982e-15</td>\n",
       "      <td>7.013209e-17</td>\n",
       "      <td>1.213508e-16</td>\n",
       "      <td>3.115623e-16</td>\n",
       "      <td>1.853905e-15</td>\n",
       "      <td>-9.235774e-15</td>\n",
       "      <td>-1.902481e-14</td>\n",
       "      <td>-4.536367e-15</td>\n",
       "      <td>...</td>\n",
       "      <td>1.483820e-12</td>\n",
       "      <td>9.260536e-17</td>\n",
       "      <td>1.116398e-17</td>\n",
       "      <td>2.295712e-13</td>\n",
       "      <td>-1.124232e-15</td>\n",
       "      <td>-1.396333e-15</td>\n",
       "      <td>-1.356799e-15</td>\n",
       "      <td>5.566039e-15</td>\n",
       "      <td>-3.363175e-15</td>\n",
       "      <td>1.351342e-14</td>\n",
       "    </tr>\n",
       "    <tr>\n",
       "      <td>std</td>\n",
       "      <td>1.000000e+00</td>\n",
       "      <td>1.000000e+00</td>\n",
       "      <td>1.000000e+00</td>\n",
       "      <td>1.000000e+00</td>\n",
       "      <td>1.000000e+00</td>\n",
       "      <td>1.000000e+00</td>\n",
       "      <td>1.000000e+00</td>\n",
       "      <td>1.000000e+00</td>\n",
       "      <td>1.000000e+00</td>\n",
       "      <td>1.000000e+00</td>\n",
       "      <td>...</td>\n",
       "      <td>1.000000e+00</td>\n",
       "      <td>1.000000e+00</td>\n",
       "      <td>1.000000e+00</td>\n",
       "      <td>1.000000e+00</td>\n",
       "      <td>1.000000e+00</td>\n",
       "      <td>1.000000e+00</td>\n",
       "      <td>1.000000e+00</td>\n",
       "      <td>1.000000e+00</td>\n",
       "      <td>1.000000e+00</td>\n",
       "      <td>1.000000e+00</td>\n",
       "    </tr>\n",
       "    <tr>\n",
       "      <td>min</td>\n",
       "      <td>-1.888136e+00</td>\n",
       "      <td>-2.640650e+00</td>\n",
       "      <td>-2.178623e+00</td>\n",
       "      <td>-2.124871e+00</td>\n",
       "      <td>-1.883820e+00</td>\n",
       "      <td>-8.764095e-01</td>\n",
       "      <td>-2.581290e-01</td>\n",
       "      <td>-3.715167e+00</td>\n",
       "      <td>-4.536597e+00</td>\n",
       "      <td>-6.639078e-01</td>\n",
       "      <td>...</td>\n",
       "      <td>-2.066090e+00</td>\n",
       "      <td>-2.399524e+00</td>\n",
       "      <td>-1.979691e+00</td>\n",
       "      <td>-6.938827e-01</td>\n",
       "      <td>-1.509939e+00</td>\n",
       "      <td>-1.469562e+00</td>\n",
       "      <td>-1.600821e+00</td>\n",
       "      <td>-2.221927e+00</td>\n",
       "      <td>-2.669225e+00</td>\n",
       "      <td>-3.076535e+00</td>\n",
       "    </tr>\n",
       "    <tr>\n",
       "      <td>25%</td>\n",
       "      <td>-7.669718e-01</td>\n",
       "      <td>-3.581566e-01</td>\n",
       "      <td>-7.542605e-01</td>\n",
       "      <td>-7.493301e-01</td>\n",
       "      <td>-6.848679e-01</td>\n",
       "      <td>-8.764095e-01</td>\n",
       "      <td>-2.581290e-01</td>\n",
       "      <td>-6.294170e-01</td>\n",
       "      <td>-4.828942e-01</td>\n",
       "      <td>-6.639078e-01</td>\n",
       "      <td>...</td>\n",
       "      <td>-8.159145e-01</td>\n",
       "      <td>-7.320456e-01</td>\n",
       "      <td>-6.628361e-01</td>\n",
       "      <td>-6.938827e-01</td>\n",
       "      <td>-9.076531e-01</td>\n",
       "      <td>-9.276239e-01</td>\n",
       "      <td>-8.095649e-01</td>\n",
       "      <td>-7.781908e-01</td>\n",
       "      <td>-5.324676e-01</td>\n",
       "      <td>-3.136558e-01</td>\n",
       "    </tr>\n",
       "    <tr>\n",
       "      <td>50%</td>\n",
       "      <td>-1.991409e-01</td>\n",
       "      <td>-3.581566e-01</td>\n",
       "      <td>-4.207921e-02</td>\n",
       "      <td>-1.440920e-01</td>\n",
       "      <td>-2.612234e-02</td>\n",
       "      <td>-8.764095e-01</td>\n",
       "      <td>-2.581290e-01</td>\n",
       "      <td>-6.294170e-01</td>\n",
       "      <td>-4.828942e-01</td>\n",
       "      <td>-6.639078e-01</td>\n",
       "      <td>...</td>\n",
       "      <td>-2.844026e-01</td>\n",
       "      <td>-1.875628e-01</td>\n",
       "      <td>9.697318e-03</td>\n",
       "      <td>-6.938827e-01</td>\n",
       "      <td>-7.114472e-02</td>\n",
       "      <td>-1.147164e-01</td>\n",
       "      <td>-1.836692e-01</td>\n",
       "      <td>2.648255e-02</td>\n",
       "      <td>-1.166364e-01</td>\n",
       "      <td>-9.034131e-02</td>\n",
       "    </tr>\n",
       "    <tr>\n",
       "      <td>75%</td>\n",
       "      <td>5.861571e-01</td>\n",
       "      <td>7.830902e-01</td>\n",
       "      <td>6.701021e-01</td>\n",
       "      <td>5.987001e-01</td>\n",
       "      <td>5.528785e-01</td>\n",
       "      <td>9.662410e-01</td>\n",
       "      <td>-2.581290e-01</td>\n",
       "      <td>9.134582e-01</td>\n",
       "      <td>5.305315e-01</td>\n",
       "      <td>6.195563e-01</td>\n",
       "      <td>...</td>\n",
       "      <td>5.839831e-01</td>\n",
       "      <td>5.440859e-01</td>\n",
       "      <td>5.457219e-01</td>\n",
       "      <td>1.441087e+00</td>\n",
       "      <td>6.649826e-01</td>\n",
       "      <td>6.643200e-01</td>\n",
       "      <td>6.245863e-01</td>\n",
       "      <td>7.727051e-01</td>\n",
       "      <td>3.386872e-01</td>\n",
       "      <td>1.177889e-01</td>\n",
       "    </tr>\n",
       "    <tr>\n",
       "      <td>max</td>\n",
       "      <td>3.292415e+00</td>\n",
       "      <td>5.348078e+00</td>\n",
       "      <td>5.299281e+00</td>\n",
       "      <td>4.395193e+00</td>\n",
       "      <td>3.523804e+00</td>\n",
       "      <td>3.730217e+00</td>\n",
       "      <td>6.362249e+00</td>\n",
       "      <td>2.456333e+00</td>\n",
       "      <td>4.584234e+00</td>\n",
       "      <td>5.124263e+00</td>\n",
       "      <td>...</td>\n",
       "      <td>6.827376e+00</td>\n",
       "      <td>5.240250e+00</td>\n",
       "      <td>4.739273e+00</td>\n",
       "      <td>1.441087e+00</td>\n",
       "      <td>2.371460e+00</td>\n",
       "      <td>2.459491e+00</td>\n",
       "      <td>5.696660e+00</td>\n",
       "      <td>6.498940e+00</td>\n",
       "      <td>1.686314e+01</td>\n",
       "      <td>3.822799e+01</td>\n",
       "    </tr>\n",
       "  </tbody>\n",
       "</table>\n",
       "<p>8 rows × 23 columns</p>\n",
       "</div>"
      ],
      "text/plain": [
       "              price      bedrooms     bathrooms   sqft_living      sqft_lot  \\\n",
       "count  1.833800e+04  1.833800e+04  1.833800e+04  1.833800e+04  1.833800e+04   \n",
       "mean  -3.262026e-15  5.038807e-16  7.734982e-15  7.013209e-17  1.213508e-16   \n",
       "std    1.000000e+00  1.000000e+00  1.000000e+00  1.000000e+00  1.000000e+00   \n",
       "min   -1.888136e+00 -2.640650e+00 -2.178623e+00 -2.124871e+00 -1.883820e+00   \n",
       "25%   -7.669718e-01 -3.581566e-01 -7.542605e-01 -7.493301e-01 -6.848679e-01   \n",
       "50%   -1.991409e-01 -3.581566e-01 -4.207921e-02 -1.440920e-01 -2.612234e-02   \n",
       "75%    5.861571e-01  7.830902e-01  6.701021e-01  5.987001e-01  5.528785e-01   \n",
       "max    3.292415e+00  5.348078e+00  5.299281e+00  4.395193e+00  3.523804e+00   \n",
       "\n",
       "             floors          view     condition         grade  sqft_basement  \\\n",
       "count  1.833800e+04  1.833800e+04  1.833800e+04  1.833800e+04   1.833800e+04   \n",
       "mean   3.115623e-16  1.853905e-15 -9.235774e-15 -1.902481e-14  -4.536367e-15   \n",
       "std    1.000000e+00  1.000000e+00  1.000000e+00  1.000000e+00   1.000000e+00   \n",
       "min   -8.764095e-01 -2.581290e-01 -3.715167e+00 -4.536597e+00  -6.639078e-01   \n",
       "25%   -8.764095e-01 -2.581290e-01 -6.294170e-01 -4.828942e-01  -6.639078e-01   \n",
       "50%   -8.764095e-01 -2.581290e-01 -6.294170e-01 -4.828942e-01  -6.639078e-01   \n",
       "75%    9.662410e-01 -2.581290e-01  9.134582e-01  5.305315e-01   6.195563e-01   \n",
       "max    3.730217e+00  6.362249e+00  2.456333e+00  4.584234e+00   5.124263e+00   \n",
       "\n",
       "       ...          long  sqft_living15    sqft_lot15     year_sold  \\\n",
       "count  ...  1.833800e+04   1.833800e+04  1.833800e+04  1.833800e+04   \n",
       "mean   ...  1.483820e-12   9.260536e-17  1.116398e-17  2.295712e-13   \n",
       "std    ...  1.000000e+00   1.000000e+00  1.000000e+00  1.000000e+00   \n",
       "min    ... -2.066090e+00  -2.399524e+00 -1.979691e+00 -6.938827e-01   \n",
       "25%    ... -8.159145e-01  -7.320456e-01 -6.628361e-01 -6.938827e-01   \n",
       "50%    ... -2.844026e-01  -1.875628e-01  9.697318e-03 -6.938827e-01   \n",
       "75%    ...  5.839831e-01   5.440859e-01  5.457219e-01  1.441087e+00   \n",
       "max    ...  6.827376e+00   5.240250e+00  4.739273e+00  1.441087e+00   \n",
       "\n",
       "                age      yrs_reno  dist_to_Seattle  dist_to_Renton  \\\n",
       "count  1.833800e+04  1.833800e+04     1.833800e+04    1.833800e+04   \n",
       "mean  -1.124232e-15 -1.396333e-15    -1.356799e-15    5.566039e-15   \n",
       "std    1.000000e+00  1.000000e+00     1.000000e+00    1.000000e+00   \n",
       "min   -1.509939e+00 -1.469562e+00    -1.600821e+00   -2.221927e+00   \n",
       "25%   -9.076531e-01 -9.276239e-01    -8.095649e-01   -7.781908e-01   \n",
       "50%   -7.114472e-02 -1.147164e-01    -1.836692e-01    2.648255e-02   \n",
       "75%    6.649826e-01  6.643200e-01     6.245863e-01    7.727051e-01   \n",
       "max    2.371460e+00  2.459491e+00     5.696660e+00    6.498940e+00   \n",
       "\n",
       "       rel_size_living  rel_size_lot  \n",
       "count     1.833800e+04  1.833800e+04  \n",
       "mean     -3.363175e-15  1.351342e-14  \n",
       "std       1.000000e+00  1.000000e+00  \n",
       "min      -2.669225e+00 -3.076535e+00  \n",
       "25%      -5.324676e-01 -3.136558e-01  \n",
       "50%      -1.166364e-01 -9.034131e-02  \n",
       "75%       3.386872e-01  1.177889e-01  \n",
       "max       1.686314e+01  3.822799e+01  \n",
       "\n",
       "[8 rows x 23 columns]"
      ]
     },
     "execution_count": 71,
     "metadata": {},
     "output_type": "execute_result"
    }
   ],
   "source": [
    "scaled_con_data = pd.DataFrame([])\n",
    "for col in con_data.columns:\n",
    "    scaled_con_data[col] = scale(col) \n",
    "scaled_con_data.describe()"
   ]
  },
  {
   "cell_type": "code",
   "execution_count": 72,
   "metadata": {},
   "outputs": [],
   "source": [
    "model_data = scaled_con_data.join(cat_data, how='outer')\n",
    "model_data.head()\n",
    "\n",
    "#Save complete dataset for visualising later.\n",
    "data_fin = model_data.join(groups, how='outer')"
   ]
  },
  {
   "cell_type": "markdown",
   "metadata": {},
   "source": [
    "# Build a Baseline Model"
   ]
  },
  {
   "cell_type": "code",
   "execution_count": 73,
   "metadata": {},
   "outputs": [
    {
     "data": {
      "text/plain": [
       "count    1.833800e+04\n",
       "mean    -3.262026e-15\n",
       "std      1.000000e+00\n",
       "min     -1.888136e+00\n",
       "25%     -7.669718e-01\n",
       "50%     -1.991409e-01\n",
       "75%      5.861571e-01\n",
       "max      3.292415e+00\n",
       "Name: price, dtype: float64"
      ]
     },
     "execution_count": 73,
     "metadata": {},
     "output_type": "execute_result"
    }
   ],
   "source": [
    "#Drop dependent variables\n",
    "X = model_data.drop('price', axis=1)\n",
    "y = model_data['price']\n",
    "y.describe()"
   ]
  },
  {
   "cell_type": "code",
   "execution_count": 74,
   "metadata": {},
   "outputs": [],
   "source": [
    "(X_train,X_test,\n",
    " y_train,y_test)=train_test_split(X,y,test_size=.2,\n",
    "                                  random_state=37)"
   ]
  },
  {
   "cell_type": "markdown",
   "metadata": {},
   "source": [
    "To begin I'll fit a model with all the data in order to establish a baseline for future models."
   ]
  },
  {
   "cell_type": "code",
   "execution_count": 118,
   "metadata": {},
   "outputs": [],
   "source": [
    "linreg = LinearRegression()\n",
    "model1 = linreg.fit(X_train,y_train)"
   ]
  },
  {
   "cell_type": "code",
   "execution_count": 119,
   "metadata": {},
   "outputs": [],
   "source": [
    "def report(model):\n",
    "    \"\"\"\n",
    "    Print relevant statistics for a model.\n",
    "    \n",
    "    Parameters:\n",
    "    model: Fitted LinearRegression object\n",
    "    \"\"\"\n",
    "    pred_y_train = model.predict(X_train)\n",
    "    pred_y_test = model.predict(X_test)\n",
    "    \n",
    "    #Print top 5% of coefficients.\n",
    "    coefs = []\n",
    "    high_coefs = []\n",
    "    for i in range(0, len(model.coef_)):\n",
    "        coefs.append((model.coef_[i],X.columns[i]))\n",
    "    for coef in coefs:\n",
    "        if abs(coef[0]) > abs(np.quantile(model.coef_, .95)):\n",
    "            high_coefs.append(coef)\n",
    "    print('High Impact Variables:\\n')\n",
    "    for variable in high_coefs:\n",
    "        print('Variable: {}\\nCoefficient: {}\\n'\n",
    "              .format(variable[1],variable[0]))\n",
    "\n",
    "    #Print MSE for the train an test set.\n",
    "    train_mse = mean_squared_error(y_train, pred_y_train)\n",
    "    test_mse = mean_squared_error(y_test, pred_y_test)\n",
    "    print('\\nTrain MSE: {}\\nTest MSE: {}\\nDifference:{}\\n'\n",
    "          .format((train_mse),(test_mse),\n",
    "                  (train_mse-test_mse)))\n",
    "    \n",
    "    #Print R^2 against the test data. \n",
    "    print('Test R^2: {}'\n",
    "          .format((r2_score(y_test,pred_y_test))))\n",
    "    print('Train R^2: {}\\n'\n",
    "          .format((r2_score(y_train,pred_y_train))))\n",
    "\n",
    "    plotdf = pd.DataFrame([])\n",
    "    plotdf['test_resids'] = pred_y_test-y_test\n",
    "    plotdf['y_test'] = y_test\n",
    "    sns.jointplot(x = 'y_test', y = 'test_resids',\n",
    "                  data=plotdf, kind='kde')"
   ]
  },
  {
   "cell_type": "code",
   "execution_count": 120,
   "metadata": {
    "scrolled": false
   },
   "outputs": [
    {
     "name": "stdout",
     "output_type": "stream",
     "text": [
      "High Impact Variables:\n",
      "\n",
      "Variable: yr_built\n",
      "Coefficient: 56339599498.00859\n",
      "\n",
      "Variable: yr_renovated\n",
      "Coefficient: -4309608865.026057\n",
      "\n",
      "Variable: age\n",
      "Coefficient: 56344794916.90514\n",
      "\n",
      "Variable: yrs_reno\n",
      "Coefficient: -4310462207.486285\n",
      "\n",
      "Variable: Bellevue\n",
      "Coefficient: 1728361883.579825\n",
      "\n",
      "Variable: Federal Way\n",
      "Coefficient: 1728361883.4958003\n",
      "\n",
      "Variable: Kent\n",
      "Coefficient: 1728361883.4993508\n",
      "\n",
      "Variable: Seattle\n",
      "Coefficient: 1728361883.6273234\n",
      "\n",
      "\n",
      "Train MSE: 0.14554785103592655\n",
      "Test MSE: 0.1577652379464025\n",
      "Difference:-0.012217386910475941\n",
      "\n",
      "Test R^2: 0.8457939469583043\n",
      "Train R^2: 0.853584747867104\n",
      "\n"
     ]
    },
    {
     "data": {
      "image/png": "[encoded data removed]",
      "text/plain": [
       "<Figure size 432x432 with 3 Axes>"
      ]
     },
     "metadata": {
      "needs_background": "light"
     },
     "output_type": "display_data"
    }
   ],
   "source": [
    "report(model1)"
   ]
  },
  {
   "cell_type": "markdown",
   "metadata": {},
   "source": [
    "Based on the MSE and R-squared, the model seems fairly accurate. However, based on the KDE plot of residuals, it is clear that the model could be more generalizable, especially for high value homes.\n",
    "\n",
    "# Train the Model\n",
    "In order to train the model and verify it's validity I will conduct the following steps:\n",
    "\n",
    "1. Find and include interactions.\n",
    "2. Find and include polynomial features.\n",
    "3. Satisfy Assumptions.\n",
    "4. Validate Model\n",
    "\n",
    "During this process I will continually test the models and eliminate variables that do not serve the model.\n",
    "\n",
    "## Find and Include Interactions"
   ]
  },
  {
   "cell_type": "code",
   "execution_count": 167,
   "metadata": {},
   "outputs": [],
   "source": [
    "def plot_interaction(col1, col2):\n",
    "    \"\"\"\n",
    "    Plot the regression lines of variables grouped by\n",
    "    high and low values. Non-parellel lines show \n",
    "    interaction of variables.\n",
    "    \n",
    "    Parameters:\n",
    "    col1: pandas Series. Variable to group by.\n",
    "    col2: pandas Series. Variable to plot by\n",
    "    \"\"\"\n",
    "    sample = X_train.join(y_train, how='outer')\n",
    "    \n",
    "    hisample = (sample.loc[sample[col1]\n",
    "                           >sample[col1].quantile(.5)])\n",
    "    losample = (sample.loc[sample[col1]\n",
    "                           <sample[col1].quantile(.5)])\n",
    "    \n",
    "    sns.regplot(x=col2, y='price', data=hisample, \n",
    "                scatter=False, truncate=True, \n",
    "                label='High Values of {}'.format(col1))\n",
    "    sns.regplot(x=col2, y='price', data=losample, \n",
    "                scatter=False, \n",
    "                label='Low Values of {}'.format(col1))\n",
    "    plt.title('Interaction of {} and {}'.format(col1, col2))\n",
    "    plt.legend()\n",
    "    plt.show();\n",
    "    print('\\n*********************\\n')"
   ]
  },
  {
   "cell_type": "code",
   "execution_count": 168,
   "metadata": {
    "scrolled": true
   },
   "outputs": [],
   "source": [
    "def find_interactions(n, model):\n",
    "    \"\"\"\n",
    "    Returns n most predictive interactions based on low MSE.\n",
    "    \n",
    "    Parameters:\n",
    "    n: int. the number of interactions selected.\n",
    "    model: LinearRegression() object being tested. \n",
    "    \"\"\"\n",
    "    con_train_data = (X_train.select_dtypes(exclude='uint8'))\n",
    "    combos = list(combinations(con_train_data.columns, 2))\n",
    "    print('Testing {} combinations.\\n'.format(len(combos)))\n",
    "    inters = [(100,0,0)]*n\n",
    "    temp_X = X_train.loc[:]\n",
    "    for combo in combos:\n",
    "        temp_X['interaction']=(con_train_data.loc[:, combo[0]]\n",
    "                               *con_train_data.loc[:, combo[1]])\n",
    "        linreg = LinearRegression()\n",
    "        model = linreg.fit(temp_X, y_train)\n",
    "        y_pred = model.predict(temp_X)\n",
    "        score = round(mean_squared_error(y_train, y_pred),3)\n",
    "        if score < inters[-1][0]:\n",
    "            inters.append((score, combo[0], combo[1]))\n",
    "            inters = sorted(inters, reverse=False)[:n]\n",
    "    for inter in inters:\n",
    "        print('MSE including interaction of {} and {}: {}'\n",
    "              .format(inter[1], inter[2], inter[0]))\n",
    "        plot_interaction(inter[1], inter[2])"
   ]
  },
  {
   "cell_type": "code",
   "execution_count": 169,
   "metadata": {
    "scrolled": true
   },
   "outputs": [
    {
     "name": "stdout",
     "output_type": "stream",
     "text": [
      "Testing 231 combinations.\n",
      "\n",
      "MSE including interaction of sqft_living and dist_to_Seattle: 0.137\n"
     ]
    },
    {
     "data": {
      "image/png": "[encoded data removed]",
      "text/plain": [
       "<Figure size 432x288 with 1 Axes>"
      ]
     },
     "metadata": {
      "needs_background": "light"
     },
     "output_type": "display_data"
    },
    {
     "name": "stdout",
     "output_type": "stream",
     "text": [
      "\n",
      "*********************\n",
      "\n",
      "MSE including interaction of sqft_living and lat: 0.138\n"
     ]
    },
    {
     "data": {
      "image/png": "[encoded data removed]",
      "text/plain": [
       "<Figure size 432x288 with 1 Axes>"
      ]
     },
     "metadata": {
      "needs_background": "light"
     },
     "output_type": "display_data"
    },
    {
     "name": "stdout",
     "output_type": "stream",
     "text": [
      "\n",
      "*********************\n",
      "\n",
      "MSE including interaction of grade and dist_to_Seattle: 0.139\n"
     ]
    },
    {
     "data": {
      "image/png": "[encoded data removed]",
      "text/plain": [
       "<Figure size 432x288 with 1 Axes>"
      ]
     },
     "metadata": {
      "needs_background": "light"
     },
     "output_type": "display_data"
    },
    {
     "name": "stdout",
     "output_type": "stream",
     "text": [
      "\n",
      "*********************\n",
      "\n",
      "MSE including interaction of sqft_living15 and dist_to_Seattle: 0.139\n"
     ]
    },
    {
     "data": {
      "image/png": "[encoded data removed]",
      "text/plain": [
       "<Figure size 432x288 with 1 Axes>"
      ]
     },
     "metadata": {
      "needs_background": "light"
     },
     "output_type": "display_data"
    },
    {
     "name": "stdout",
     "output_type": "stream",
     "text": [
      "\n",
      "*********************\n",
      "\n",
      "MSE including interaction of grade and lat: 0.14\n"
     ]
    },
    {
     "data": {
      "image/png": "[encoded data removed]",
      "text/plain": [
       "<Figure size 432x288 with 1 Axes>"
      ]
     },
     "metadata": {
      "needs_background": "light"
     },
     "output_type": "display_data"
    },
    {
     "name": "stdout",
     "output_type": "stream",
     "text": [
      "\n",
      "*********************\n",
      "\n"
     ]
    }
   ],
   "source": [
    "find_interactions(5, model1)"
   ]
  },
  {
   "cell_type": "code",
   "execution_count": null,
   "metadata": {},
   "outputs": [],
   "source": [
    "def optimize_variables(X,y):\n",
    "    \"\"\"\n",
    "    Forward selects variables by adjusted R^2.\n",
    "    \n",
    "    Parameters:\n",
    "    X: pandas dataframe. independent variables.\n",
    "    y: pandas series. dependent variable.\n",
    "    \n",
    "    Returns:\n",
    "    Optimized model. \n",
    "    \"\"\"\n",
    "current_score, best_score = 0, 0\n",
    "remaining = set(X.columns)\n",
    "selected = pd.DataFrame()\n",
    "while remaining and not current_score > best_score:\n",
    "    scores_with_candidates = []\n",
    "    for candidate in remaining:\n",
    "        test_x = selected.join(X[str(candidate)], how='outer')\n",
    "        score = sm.OLS(y,test_x).fit().rsquared_adj\n",
    "        scores_with_candidates.append((score,candidate))\n",
    "    scores_with_candidates.sort()\n",
    "    best_score, best_candidate = scores_with_candidates.pop()\n",
    "    if current_score < best_score:\n",
    "        remaining.remove(best_candidate)\n",
    "        selected = selected.join(X[str(best_candidate)], how='outer')\n",
    "        current_score = best_score\n",
    "print('Selected Columns: {}'.format(selected.columns))\n",
    "best_vars = sm.add_constant(selected)\n",
    "return sm.OLS(y, best_vars).fit()"
   ]
  },
  {
   "cell_type": "code",
   "execution_count": null,
   "metadata": {
    "scrolled": true
   },
   "outputs": [],
   "source": [
    "def isolate(col):\n",
    "    ind_var = pd.DataFrame(X[col]) \n",
    "    frozen_var = X.drop(col, axis=1)\n",
    "    for fro_col in frozen_var.columns:\n",
    "        frozen_var[fro_col] = frozen_var[fro_col].mean()\n",
    "    iso_X = ind_var.join(frozen_var, how='outer')\n",
    "    return iso_X"
   ]
  }
 ],
 "metadata": {
  "kernelspec": {
   "display_name": "learn-env",
   "language": "python",
   "name": "learn-env"
  },
  "language_info": {
   "codemirror_mode": {
    "name": "ipython",
    "version": 3
   },
   "file_extension": ".py",
   "mimetype": "text/x-python",
   "name": "python",
   "nbconvert_exporter": "python",
   "pygments_lexer": "ipython3",
   "version": "3.7.4"
  }
 },
 "nbformat": 4,
 "nbformat_minor": 2
}
