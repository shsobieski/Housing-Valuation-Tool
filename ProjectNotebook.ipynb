{
 "cells": [
  {
   "cell_type": "markdown",
   "metadata": {},
   "source": [
    "## Final Project Submission\n",
    "\n",
    "Please fill out:\n",
    "* Student name: \n",
    "* Student pace: self paced / part time / full time\n",
    "* Scheduled project review date/time: \n",
    "* Instructor name: \n",
    "* Blog post URL:\n"
   ]
  },
  {
   "cell_type": "code",
   "execution_count": 1,
   "metadata": {},
   "outputs": [],
   "source": [
    "import pandas as pd\n",
    "import numpy as np\n",
    "import matplotlib.pyplot as plt\n",
    "import seaborn as sns\n",
    "\n",
    "from itertools import combinations\n",
    "from sklearn.model_selection import train_test_split\n",
    "from sklearn.linear_model import LinearRegression\n",
    "from sklearn.model_selection import KFold\n",
    "from sklearn.metrics import r2_score\n",
    "from sklearn.metrics import mean_squared_error\n",
    "from sklearn.model_selection import cross_val_score\n",
    "from math import radians, cos, sin, asin, sqrt"
   ]
  },
  {
   "cell_type": "markdown",
   "metadata": {},
   "source": [
    "# Exploration"
   ]
  },
  {
   "cell_type": "code",
   "execution_count": 2,
   "metadata": {
    "scrolled": false
   },
   "outputs": [
    {
     "data": {
      "text/html": [
       "<div>\n",
       "<style scoped>\n",
       "    .dataframe tbody tr th:only-of-type {\n",
       "        vertical-align: middle;\n",
       "    }\n",
       "\n",
       "    .dataframe tbody tr th {\n",
       "        vertical-align: top;\n",
       "    }\n",
       "\n",
       "    .dataframe thead th {\n",
       "        text-align: right;\n",
       "    }\n",
       "</style>\n",
       "<table border=\"1\" class=\"dataframe\">\n",
       "  <thead>\n",
       "    <tr style=\"text-align: right;\">\n",
       "      <th></th>\n",
       "      <th>id</th>\n",
       "      <th>date</th>\n",
       "      <th>price</th>\n",
       "      <th>bedrooms</th>\n",
       "      <th>bathrooms</th>\n",
       "      <th>sqft_living</th>\n",
       "      <th>sqft_lot</th>\n",
       "      <th>floors</th>\n",
       "      <th>waterfront</th>\n",
       "      <th>view</th>\n",
       "      <th>...</th>\n",
       "      <th>grade</th>\n",
       "      <th>sqft_above</th>\n",
       "      <th>sqft_basement</th>\n",
       "      <th>yr_built</th>\n",
       "      <th>yr_renovated</th>\n",
       "      <th>zipcode</th>\n",
       "      <th>lat</th>\n",
       "      <th>long</th>\n",
       "      <th>sqft_living15</th>\n",
       "      <th>sqft_lot15</th>\n",
       "    </tr>\n",
       "  </thead>\n",
       "  <tbody>\n",
       "    <tr>\n",
       "      <td>0</td>\n",
       "      <td>7129300520</td>\n",
       "      <td>10/13/2014</td>\n",
       "      <td>221900.0</td>\n",
       "      <td>3</td>\n",
       "      <td>1.00</td>\n",
       "      <td>1180</td>\n",
       "      <td>5650</td>\n",
       "      <td>1.0</td>\n",
       "      <td>NaN</td>\n",
       "      <td>0.0</td>\n",
       "      <td>...</td>\n",
       "      <td>7</td>\n",
       "      <td>1180</td>\n",
       "      <td>0.0</td>\n",
       "      <td>1955</td>\n",
       "      <td>0.0</td>\n",
       "      <td>98178</td>\n",
       "      <td>47.5112</td>\n",
       "      <td>-122.257</td>\n",
       "      <td>1340</td>\n",
       "      <td>5650</td>\n",
       "    </tr>\n",
       "    <tr>\n",
       "      <td>1</td>\n",
       "      <td>6414100192</td>\n",
       "      <td>12/9/2014</td>\n",
       "      <td>538000.0</td>\n",
       "      <td>3</td>\n",
       "      <td>2.25</td>\n",
       "      <td>2570</td>\n",
       "      <td>7242</td>\n",
       "      <td>2.0</td>\n",
       "      <td>0.0</td>\n",
       "      <td>0.0</td>\n",
       "      <td>...</td>\n",
       "      <td>7</td>\n",
       "      <td>2170</td>\n",
       "      <td>400.0</td>\n",
       "      <td>1951</td>\n",
       "      <td>1991.0</td>\n",
       "      <td>98125</td>\n",
       "      <td>47.7210</td>\n",
       "      <td>-122.319</td>\n",
       "      <td>1690</td>\n",
       "      <td>7639</td>\n",
       "    </tr>\n",
       "    <tr>\n",
       "      <td>2</td>\n",
       "      <td>5631500400</td>\n",
       "      <td>2/25/2015</td>\n",
       "      <td>180000.0</td>\n",
       "      <td>2</td>\n",
       "      <td>1.00</td>\n",
       "      <td>770</td>\n",
       "      <td>10000</td>\n",
       "      <td>1.0</td>\n",
       "      <td>0.0</td>\n",
       "      <td>0.0</td>\n",
       "      <td>...</td>\n",
       "      <td>6</td>\n",
       "      <td>770</td>\n",
       "      <td>0.0</td>\n",
       "      <td>1933</td>\n",
       "      <td>NaN</td>\n",
       "      <td>98028</td>\n",
       "      <td>47.7379</td>\n",
       "      <td>-122.233</td>\n",
       "      <td>2720</td>\n",
       "      <td>8062</td>\n",
       "    </tr>\n",
       "    <tr>\n",
       "      <td>3</td>\n",
       "      <td>2487200875</td>\n",
       "      <td>12/9/2014</td>\n",
       "      <td>604000.0</td>\n",
       "      <td>4</td>\n",
       "      <td>3.00</td>\n",
       "      <td>1960</td>\n",
       "      <td>5000</td>\n",
       "      <td>1.0</td>\n",
       "      <td>0.0</td>\n",
       "      <td>0.0</td>\n",
       "      <td>...</td>\n",
       "      <td>7</td>\n",
       "      <td>1050</td>\n",
       "      <td>910.0</td>\n",
       "      <td>1965</td>\n",
       "      <td>0.0</td>\n",
       "      <td>98136</td>\n",
       "      <td>47.5208</td>\n",
       "      <td>-122.393</td>\n",
       "      <td>1360</td>\n",
       "      <td>5000</td>\n",
       "    </tr>\n",
       "    <tr>\n",
       "      <td>4</td>\n",
       "      <td>1954400510</td>\n",
       "      <td>2/18/2015</td>\n",
       "      <td>510000.0</td>\n",
       "      <td>3</td>\n",
       "      <td>2.00</td>\n",
       "      <td>1680</td>\n",
       "      <td>8080</td>\n",
       "      <td>1.0</td>\n",
       "      <td>0.0</td>\n",
       "      <td>0.0</td>\n",
       "      <td>...</td>\n",
       "      <td>8</td>\n",
       "      <td>1680</td>\n",
       "      <td>0.0</td>\n",
       "      <td>1987</td>\n",
       "      <td>0.0</td>\n",
       "      <td>98074</td>\n",
       "      <td>47.6168</td>\n",
       "      <td>-122.045</td>\n",
       "      <td>1800</td>\n",
       "      <td>7503</td>\n",
       "    </tr>\n",
       "  </tbody>\n",
       "</table>\n",
       "<p>5 rows × 21 columns</p>\n",
       "</div>"
      ],
      "text/plain": [
       "           id        date     price  bedrooms  bathrooms  sqft_living  \\\n",
       "0  7129300520  10/13/2014  221900.0         3       1.00         1180   \n",
       "1  6414100192   12/9/2014  538000.0         3       2.25         2570   \n",
       "2  5631500400   2/25/2015  180000.0         2       1.00          770   \n",
       "3  2487200875   12/9/2014  604000.0         4       3.00         1960   \n",
       "4  1954400510   2/18/2015  510000.0         3       2.00         1680   \n",
       "\n",
       "   sqft_lot  floors  waterfront  view  ...  grade  sqft_above  sqft_basement  \\\n",
       "0      5650     1.0         NaN   0.0  ...      7        1180            0.0   \n",
       "1      7242     2.0         0.0   0.0  ...      7        2170          400.0   \n",
       "2     10000     1.0         0.0   0.0  ...      6         770            0.0   \n",
       "3      5000     1.0         0.0   0.0  ...      7        1050          910.0   \n",
       "4      8080     1.0         0.0   0.0  ...      8        1680            0.0   \n",
       "\n",
       "  yr_built  yr_renovated  zipcode      lat     long  sqft_living15  sqft_lot15  \n",
       "0     1955           0.0    98178  47.5112 -122.257           1340        5650  \n",
       "1     1951        1991.0    98125  47.7210 -122.319           1690        7639  \n",
       "2     1933           NaN    98028  47.7379 -122.233           2720        8062  \n",
       "3     1965           0.0    98136  47.5208 -122.393           1360        5000  \n",
       "4     1987           0.0    98074  47.6168 -122.045           1800        7503  \n",
       "\n",
       "[5 rows x 21 columns]"
      ]
     },
     "execution_count": 2,
     "metadata": {},
     "output_type": "execute_result"
    }
   ],
   "source": [
    "data = pd.read_csv('kc_house_data.csv')\n",
    "data.head()"
   ]
  },
  {
   "cell_type": "code",
   "execution_count": 3,
   "metadata": {},
   "outputs": [
    {
     "name": "stdout",
     "output_type": "stream",
     "text": [
      "<class 'pandas.core.frame.DataFrame'>\n",
      "RangeIndex: 21597 entries, 0 to 21596\n",
      "Data columns (total 21 columns):\n",
      "id               21597 non-null int64\n",
      "date             21597 non-null object\n",
      "price            21597 non-null float64\n",
      "bedrooms         21597 non-null int64\n",
      "bathrooms        21597 non-null float64\n",
      "sqft_living      21597 non-null int64\n",
      "sqft_lot         21597 non-null int64\n",
      "floors           21597 non-null float64\n",
      "waterfront       19221 non-null float64\n",
      "view             21534 non-null float64\n",
      "condition        21597 non-null int64\n",
      "grade            21597 non-null int64\n",
      "sqft_above       21597 non-null int64\n",
      "sqft_basement    21597 non-null object\n",
      "yr_built         21597 non-null int64\n",
      "yr_renovated     17755 non-null float64\n",
      "zipcode          21597 non-null int64\n",
      "lat              21597 non-null float64\n",
      "long             21597 non-null float64\n",
      "sqft_living15    21597 non-null int64\n",
      "sqft_lot15       21597 non-null int64\n",
      "dtypes: float64(8), int64(11), object(2)\n",
      "memory usage: 3.5+ MB\n"
     ]
    }
   ],
   "source": [
    "data.info()"
   ]
  },
  {
   "cell_type": "code",
   "execution_count": 4,
   "metadata": {
    "scrolled": false
   },
   "outputs": [
    {
     "data": {
      "text/plain": [
       "21420"
      ]
     },
     "execution_count": 4,
     "metadata": {},
     "output_type": "execute_result"
    }
   ],
   "source": [
    "data['id'].nunique()"
   ]
  },
  {
   "cell_type": "code",
   "execution_count": 5,
   "metadata": {
    "scrolled": false
   },
   "outputs": [
    {
     "data": {
      "text/html": [
       "<div>\n",
       "<style scoped>\n",
       "    .dataframe tbody tr th:only-of-type {\n",
       "        vertical-align: middle;\n",
       "    }\n",
       "\n",
       "    .dataframe tbody tr th {\n",
       "        vertical-align: top;\n",
       "    }\n",
       "\n",
       "    .dataframe thead th {\n",
       "        text-align: right;\n",
       "    }\n",
       "</style>\n",
       "<table border=\"1\" class=\"dataframe\">\n",
       "  <thead>\n",
       "    <tr style=\"text-align: right;\">\n",
       "      <th></th>\n",
       "      <th>id</th>\n",
       "      <th>price</th>\n",
       "      <th>bedrooms</th>\n",
       "      <th>bathrooms</th>\n",
       "      <th>sqft_living</th>\n",
       "      <th>sqft_lot</th>\n",
       "      <th>floors</th>\n",
       "      <th>waterfront</th>\n",
       "      <th>view</th>\n",
       "      <th>condition</th>\n",
       "      <th>grade</th>\n",
       "      <th>sqft_above</th>\n",
       "      <th>yr_built</th>\n",
       "      <th>yr_renovated</th>\n",
       "      <th>zipcode</th>\n",
       "      <th>lat</th>\n",
       "      <th>long</th>\n",
       "      <th>sqft_living15</th>\n",
       "      <th>sqft_lot15</th>\n",
       "    </tr>\n",
       "  </thead>\n",
       "  <tbody>\n",
       "    <tr>\n",
       "      <td>count</td>\n",
       "      <td>2.159700e+04</td>\n",
       "      <td>2.159700e+04</td>\n",
       "      <td>21597.000000</td>\n",
       "      <td>21597.000000</td>\n",
       "      <td>21597.000000</td>\n",
       "      <td>2.159700e+04</td>\n",
       "      <td>21597.000000</td>\n",
       "      <td>19221.000000</td>\n",
       "      <td>21534.000000</td>\n",
       "      <td>21597.000000</td>\n",
       "      <td>21597.000000</td>\n",
       "      <td>21597.000000</td>\n",
       "      <td>21597.000000</td>\n",
       "      <td>17755.000000</td>\n",
       "      <td>21597.000000</td>\n",
       "      <td>21597.000000</td>\n",
       "      <td>21597.000000</td>\n",
       "      <td>21597.000000</td>\n",
       "      <td>21597.000000</td>\n",
       "    </tr>\n",
       "    <tr>\n",
       "      <td>mean</td>\n",
       "      <td>4.580474e+09</td>\n",
       "      <td>5.402966e+05</td>\n",
       "      <td>3.373200</td>\n",
       "      <td>2.115826</td>\n",
       "      <td>2080.321850</td>\n",
       "      <td>1.509941e+04</td>\n",
       "      <td>1.494096</td>\n",
       "      <td>0.007596</td>\n",
       "      <td>0.233863</td>\n",
       "      <td>3.409825</td>\n",
       "      <td>7.657915</td>\n",
       "      <td>1788.596842</td>\n",
       "      <td>1970.999676</td>\n",
       "      <td>83.636778</td>\n",
       "      <td>98077.951845</td>\n",
       "      <td>47.560093</td>\n",
       "      <td>-122.213982</td>\n",
       "      <td>1986.620318</td>\n",
       "      <td>12758.283512</td>\n",
       "    </tr>\n",
       "    <tr>\n",
       "      <td>std</td>\n",
       "      <td>2.876736e+09</td>\n",
       "      <td>3.673681e+05</td>\n",
       "      <td>0.926299</td>\n",
       "      <td>0.768984</td>\n",
       "      <td>918.106125</td>\n",
       "      <td>4.141264e+04</td>\n",
       "      <td>0.539683</td>\n",
       "      <td>0.086825</td>\n",
       "      <td>0.765686</td>\n",
       "      <td>0.650546</td>\n",
       "      <td>1.173200</td>\n",
       "      <td>827.759761</td>\n",
       "      <td>29.375234</td>\n",
       "      <td>399.946414</td>\n",
       "      <td>53.513072</td>\n",
       "      <td>0.138552</td>\n",
       "      <td>0.140724</td>\n",
       "      <td>685.230472</td>\n",
       "      <td>27274.441950</td>\n",
       "    </tr>\n",
       "    <tr>\n",
       "      <td>min</td>\n",
       "      <td>1.000102e+06</td>\n",
       "      <td>7.800000e+04</td>\n",
       "      <td>1.000000</td>\n",
       "      <td>0.500000</td>\n",
       "      <td>370.000000</td>\n",
       "      <td>5.200000e+02</td>\n",
       "      <td>1.000000</td>\n",
       "      <td>0.000000</td>\n",
       "      <td>0.000000</td>\n",
       "      <td>1.000000</td>\n",
       "      <td>3.000000</td>\n",
       "      <td>370.000000</td>\n",
       "      <td>1900.000000</td>\n",
       "      <td>0.000000</td>\n",
       "      <td>98001.000000</td>\n",
       "      <td>47.155900</td>\n",
       "      <td>-122.519000</td>\n",
       "      <td>399.000000</td>\n",
       "      <td>651.000000</td>\n",
       "    </tr>\n",
       "    <tr>\n",
       "      <td>25%</td>\n",
       "      <td>2.123049e+09</td>\n",
       "      <td>3.220000e+05</td>\n",
       "      <td>3.000000</td>\n",
       "      <td>1.750000</td>\n",
       "      <td>1430.000000</td>\n",
       "      <td>5.040000e+03</td>\n",
       "      <td>1.000000</td>\n",
       "      <td>0.000000</td>\n",
       "      <td>0.000000</td>\n",
       "      <td>3.000000</td>\n",
       "      <td>7.000000</td>\n",
       "      <td>1190.000000</td>\n",
       "      <td>1951.000000</td>\n",
       "      <td>0.000000</td>\n",
       "      <td>98033.000000</td>\n",
       "      <td>47.471100</td>\n",
       "      <td>-122.328000</td>\n",
       "      <td>1490.000000</td>\n",
       "      <td>5100.000000</td>\n",
       "    </tr>\n",
       "    <tr>\n",
       "      <td>50%</td>\n",
       "      <td>3.904930e+09</td>\n",
       "      <td>4.500000e+05</td>\n",
       "      <td>3.000000</td>\n",
       "      <td>2.250000</td>\n",
       "      <td>1910.000000</td>\n",
       "      <td>7.618000e+03</td>\n",
       "      <td>1.500000</td>\n",
       "      <td>0.000000</td>\n",
       "      <td>0.000000</td>\n",
       "      <td>3.000000</td>\n",
       "      <td>7.000000</td>\n",
       "      <td>1560.000000</td>\n",
       "      <td>1975.000000</td>\n",
       "      <td>0.000000</td>\n",
       "      <td>98065.000000</td>\n",
       "      <td>47.571800</td>\n",
       "      <td>-122.231000</td>\n",
       "      <td>1840.000000</td>\n",
       "      <td>7620.000000</td>\n",
       "    </tr>\n",
       "    <tr>\n",
       "      <td>75%</td>\n",
       "      <td>7.308900e+09</td>\n",
       "      <td>6.450000e+05</td>\n",
       "      <td>4.000000</td>\n",
       "      <td>2.500000</td>\n",
       "      <td>2550.000000</td>\n",
       "      <td>1.068500e+04</td>\n",
       "      <td>2.000000</td>\n",
       "      <td>0.000000</td>\n",
       "      <td>0.000000</td>\n",
       "      <td>4.000000</td>\n",
       "      <td>8.000000</td>\n",
       "      <td>2210.000000</td>\n",
       "      <td>1997.000000</td>\n",
       "      <td>0.000000</td>\n",
       "      <td>98118.000000</td>\n",
       "      <td>47.678000</td>\n",
       "      <td>-122.125000</td>\n",
       "      <td>2360.000000</td>\n",
       "      <td>10083.000000</td>\n",
       "    </tr>\n",
       "    <tr>\n",
       "      <td>max</td>\n",
       "      <td>9.900000e+09</td>\n",
       "      <td>7.700000e+06</td>\n",
       "      <td>33.000000</td>\n",
       "      <td>8.000000</td>\n",
       "      <td>13540.000000</td>\n",
       "      <td>1.651359e+06</td>\n",
       "      <td>3.500000</td>\n",
       "      <td>1.000000</td>\n",
       "      <td>4.000000</td>\n",
       "      <td>5.000000</td>\n",
       "      <td>13.000000</td>\n",
       "      <td>9410.000000</td>\n",
       "      <td>2015.000000</td>\n",
       "      <td>2015.000000</td>\n",
       "      <td>98199.000000</td>\n",
       "      <td>47.777600</td>\n",
       "      <td>-121.315000</td>\n",
       "      <td>6210.000000</td>\n",
       "      <td>871200.000000</td>\n",
       "    </tr>\n",
       "  </tbody>\n",
       "</table>\n",
       "</div>"
      ],
      "text/plain": [
       "                 id         price      bedrooms     bathrooms   sqft_living  \\\n",
       "count  2.159700e+04  2.159700e+04  21597.000000  21597.000000  21597.000000   \n",
       "mean   4.580474e+09  5.402966e+05      3.373200      2.115826   2080.321850   \n",
       "std    2.876736e+09  3.673681e+05      0.926299      0.768984    918.106125   \n",
       "min    1.000102e+06  7.800000e+04      1.000000      0.500000    370.000000   \n",
       "25%    2.123049e+09  3.220000e+05      3.000000      1.750000   1430.000000   \n",
       "50%    3.904930e+09  4.500000e+05      3.000000      2.250000   1910.000000   \n",
       "75%    7.308900e+09  6.450000e+05      4.000000      2.500000   2550.000000   \n",
       "max    9.900000e+09  7.700000e+06     33.000000      8.000000  13540.000000   \n",
       "\n",
       "           sqft_lot        floors    waterfront          view     condition  \\\n",
       "count  2.159700e+04  21597.000000  19221.000000  21534.000000  21597.000000   \n",
       "mean   1.509941e+04      1.494096      0.007596      0.233863      3.409825   \n",
       "std    4.141264e+04      0.539683      0.086825      0.765686      0.650546   \n",
       "min    5.200000e+02      1.000000      0.000000      0.000000      1.000000   \n",
       "25%    5.040000e+03      1.000000      0.000000      0.000000      3.000000   \n",
       "50%    7.618000e+03      1.500000      0.000000      0.000000      3.000000   \n",
       "75%    1.068500e+04      2.000000      0.000000      0.000000      4.000000   \n",
       "max    1.651359e+06      3.500000      1.000000      4.000000      5.000000   \n",
       "\n",
       "              grade    sqft_above      yr_built  yr_renovated       zipcode  \\\n",
       "count  21597.000000  21597.000000  21597.000000  17755.000000  21597.000000   \n",
       "mean       7.657915   1788.596842   1970.999676     83.636778  98077.951845   \n",
       "std        1.173200    827.759761     29.375234    399.946414     53.513072   \n",
       "min        3.000000    370.000000   1900.000000      0.000000  98001.000000   \n",
       "25%        7.000000   1190.000000   1951.000000      0.000000  98033.000000   \n",
       "50%        7.000000   1560.000000   1975.000000      0.000000  98065.000000   \n",
       "75%        8.000000   2210.000000   1997.000000      0.000000  98118.000000   \n",
       "max       13.000000   9410.000000   2015.000000   2015.000000  98199.000000   \n",
       "\n",
       "                lat          long  sqft_living15     sqft_lot15  \n",
       "count  21597.000000  21597.000000   21597.000000   21597.000000  \n",
       "mean      47.560093   -122.213982    1986.620318   12758.283512  \n",
       "std        0.138552      0.140724     685.230472   27274.441950  \n",
       "min       47.155900   -122.519000     399.000000     651.000000  \n",
       "25%       47.471100   -122.328000    1490.000000    5100.000000  \n",
       "50%       47.571800   -122.231000    1840.000000    7620.000000  \n",
       "75%       47.678000   -122.125000    2360.000000   10083.000000  \n",
       "max       47.777600   -121.315000    6210.000000  871200.000000  "
      ]
     },
     "execution_count": 5,
     "metadata": {},
     "output_type": "execute_result"
    }
   ],
   "source": [
    "data.describe()"
   ]
  },
  {
   "cell_type": "markdown",
   "metadata": {},
   "source": [
    "# Cleaning"
   ]
  },
  {
   "cell_type": "markdown",
   "metadata": {},
   "source": [
    "### Address Obvious Outliers"
   ]
  },
  {
   "cell_type": "code",
   "execution_count": 6,
   "metadata": {
    "scrolled": false
   },
   "outputs": [
    {
     "data": {
      "text/html": [
       "<div>\n",
       "<style scoped>\n",
       "    .dataframe tbody tr th:only-of-type {\n",
       "        vertical-align: middle;\n",
       "    }\n",
       "\n",
       "    .dataframe tbody tr th {\n",
       "        vertical-align: top;\n",
       "    }\n",
       "\n",
       "    .dataframe thead th {\n",
       "        text-align: right;\n",
       "    }\n",
       "</style>\n",
       "<table border=\"1\" class=\"dataframe\">\n",
       "  <thead>\n",
       "    <tr style=\"text-align: right;\">\n",
       "      <th></th>\n",
       "      <th>id</th>\n",
       "      <th>date</th>\n",
       "      <th>price</th>\n",
       "      <th>bedrooms</th>\n",
       "      <th>bathrooms</th>\n",
       "      <th>sqft_living</th>\n",
       "      <th>sqft_lot</th>\n",
       "      <th>floors</th>\n",
       "      <th>waterfront</th>\n",
       "      <th>view</th>\n",
       "      <th>...</th>\n",
       "      <th>grade</th>\n",
       "      <th>sqft_above</th>\n",
       "      <th>sqft_basement</th>\n",
       "      <th>yr_built</th>\n",
       "      <th>yr_renovated</th>\n",
       "      <th>zipcode</th>\n",
       "      <th>lat</th>\n",
       "      <th>long</th>\n",
       "      <th>sqft_living15</th>\n",
       "      <th>sqft_lot15</th>\n",
       "    </tr>\n",
       "  </thead>\n",
       "  <tbody>\n",
       "    <tr>\n",
       "      <td>15856</td>\n",
       "      <td>2402100895</td>\n",
       "      <td>6/25/2014</td>\n",
       "      <td>640000.0</td>\n",
       "      <td>33</td>\n",
       "      <td>1.75</td>\n",
       "      <td>1620</td>\n",
       "      <td>6000</td>\n",
       "      <td>1.0</td>\n",
       "      <td>0.0</td>\n",
       "      <td>0.0</td>\n",
       "      <td>...</td>\n",
       "      <td>7</td>\n",
       "      <td>1040</td>\n",
       "      <td>580.0</td>\n",
       "      <td>1947</td>\n",
       "      <td>0.0</td>\n",
       "      <td>98103</td>\n",
       "      <td>47.6878</td>\n",
       "      <td>-122.331</td>\n",
       "      <td>1330</td>\n",
       "      <td>4700</td>\n",
       "    </tr>\n",
       "  </tbody>\n",
       "</table>\n",
       "<p>1 rows × 21 columns</p>\n",
       "</div>"
      ],
      "text/plain": [
       "               id       date     price  bedrooms  bathrooms  sqft_living  \\\n",
       "15856  2402100895  6/25/2014  640000.0        33       1.75         1620   \n",
       "\n",
       "       sqft_lot  floors  waterfront  view  ...  grade  sqft_above  \\\n",
       "15856      6000     1.0         0.0   0.0  ...      7        1040   \n",
       "\n",
       "       sqft_basement yr_built  yr_renovated  zipcode      lat     long  \\\n",
       "15856          580.0     1947           0.0    98103  47.6878 -122.331   \n",
       "\n",
       "       sqft_living15  sqft_lot15  \n",
       "15856           1330        4700  \n",
       "\n",
       "[1 rows x 21 columns]"
      ]
     },
     "execution_count": 6,
     "metadata": {},
     "output_type": "execute_result"
    }
   ],
   "source": [
    "data[data['bedrooms']>30]"
   ]
  },
  {
   "cell_type": "markdown",
   "metadata": {},
   "source": [
    "33 bedrooms in a 1620 sqft house seems like it was likely a typo. I'll impute 3 as the number of rooms.  "
   ]
  },
  {
   "cell_type": "code",
   "execution_count": 7,
   "metadata": {},
   "outputs": [],
   "source": [
    "data.loc[data['bedrooms']>30, 'bedrooms']=3"
   ]
  },
  {
   "cell_type": "markdown",
   "metadata": {},
   "source": [
    "### Null Values"
   ]
  },
  {
   "cell_type": "code",
   "execution_count": 8,
   "metadata": {
    "scrolled": false
   },
   "outputs": [
    {
     "data": {
      "text/plain": [
       "id                  0\n",
       "date                0\n",
       "price               0\n",
       "bedrooms            0\n",
       "bathrooms           0\n",
       "sqft_living         0\n",
       "sqft_lot            0\n",
       "floors              0\n",
       "waterfront       2376\n",
       "view               63\n",
       "condition           0\n",
       "grade               0\n",
       "sqft_above          0\n",
       "sqft_basement       0\n",
       "yr_built            0\n",
       "yr_renovated     3842\n",
       "zipcode             0\n",
       "lat                 0\n",
       "long                0\n",
       "sqft_living15       0\n",
       "sqft_lot15          0\n",
       "dtype: int64"
      ]
     },
     "execution_count": 8,
     "metadata": {},
     "output_type": "execute_result"
    }
   ],
   "source": [
    "data.isna().sum()"
   ]
  },
  {
   "cell_type": "code",
   "execution_count": 9,
   "metadata": {},
   "outputs": [
    {
     "data": {
      "text/plain": [
       "0.0    19075\n",
       "NaN     2376\n",
       "1.0      146\n",
       "Name: waterfront, dtype: int64"
      ]
     },
     "metadata": {},
     "output_type": "display_data"
    },
    {
     "data": {
      "text/plain": [
       "0.0    19422\n",
       "2.0      957\n",
       "3.0      508\n",
       "1.0      330\n",
       "4.0      317\n",
       "NaN       63\n",
       "Name: view, dtype: int64"
      ]
     },
     "metadata": {},
     "output_type": "display_data"
    }
   ],
   "source": [
    "display(data['waterfront'].value_counts(dropna=False))\n",
    "display(data['view'].value_counts(dropna=False))"
   ]
  },
  {
   "cell_type": "markdown",
   "metadata": {},
   "source": [
    "For these particular variables, which are skewed so heavily toward zero, I will simply impute 0."
   ]
  },
  {
   "cell_type": "code",
   "execution_count": 10,
   "metadata": {},
   "outputs": [],
   "source": [
    "data.loc[data['waterfront'].isna(), 'waterfront']=0\n",
    "data.loc[data['view'].isna(), 'view']=0"
   ]
  },
  {
   "cell_type": "markdown",
   "metadata": {},
   "source": [
    "In order to use the yr_renovated column, I will need to convert it to a datetime. Considering that so many null values exist in the set, I will need to be creative. I'll create a column called 'yrs since renovation' by combining the date built or renovated with the date sold. For this reason, I can then impute the value of the date built to replace null values for yr_renovated, then convert it to datetime, and use that information to create new features that correctly reflect the information I'm looking for. "
   ]
  },
  {
   "cell_type": "code",
   "execution_count": 11,
   "metadata": {
    "scrolled": true
   },
   "outputs": [
    {
     "data": {
      "text/plain": [
       "0.0       17011\n",
       "NaN        3842\n",
       "2014.0       73\n",
       "2003.0       31\n",
       "2013.0       31\n",
       "          ...  \n",
       "1944.0        1\n",
       "1948.0        1\n",
       "1976.0        1\n",
       "1934.0        1\n",
       "1953.0        1\n",
       "Name: yr_renovated, Length: 71, dtype: int64"
      ]
     },
     "execution_count": 11,
     "metadata": {},
     "output_type": "execute_result"
    }
   ],
   "source": [
    "data['yr_renovated'].value_counts(dropna=False)"
   ]
  },
  {
   "cell_type": "code",
   "execution_count": 12,
   "metadata": {},
   "outputs": [],
   "source": [
    "data.loc[data['yr_renovated'].isna(), 'yr_renovated']=0\n",
    "data.loc[\n",
    "    data['yr_renovated']==0,'yr_renovated']=data.loc[\n",
    "    data['yr_renovated']==0]['yr_built']"
   ]
  },
  {
   "cell_type": "markdown",
   "metadata": {},
   "source": [
    "### Convert datatypes"
   ]
  },
  {
   "cell_type": "code",
   "execution_count": 13,
   "metadata": {
    "scrolled": false
   },
   "outputs": [
    {
     "data": {
      "text/plain": [
       "0.0       12826\n",
       "?           454\n",
       "600.0       217\n",
       "500.0       209\n",
       "700.0       208\n",
       "          ...  \n",
       "3500.0        1\n",
       "207.0         1\n",
       "1880.0        1\n",
       "3260.0        1\n",
       "1135.0        1\n",
       "Name: sqft_basement, Length: 304, dtype: int64"
      ]
     },
     "execution_count": 13,
     "metadata": {},
     "output_type": "execute_result"
    }
   ],
   "source": [
    "#Trying to convert sqft_basement to float called an error.\n",
    "data['sqft_basement'].value_counts()"
   ]
  },
  {
   "cell_type": "markdown",
   "metadata": {},
   "source": [
    "The ? in the sqft_basement column won't work. I'll use the other data I have to deduce the values for this column. "
   ]
  },
  {
   "cell_type": "code",
   "execution_count": 14,
   "metadata": {
    "scrolled": true
   },
   "outputs": [
    {
     "data": {
      "text/plain": [
       "count    21597.000000\n",
       "mean       291.725008\n",
       "std        442.667800\n",
       "min          0.000000\n",
       "25%          0.000000\n",
       "50%          0.000000\n",
       "75%        560.000000\n",
       "max       4820.000000\n",
       "Name: sqft_basement, dtype: float64"
      ]
     },
     "execution_count": 14,
     "metadata": {},
     "output_type": "execute_result"
    }
   ],
   "source": [
    "data['sqft_basement']=(data['sqft_living']-data['sqft_above'])\n",
    "data['sqft_basement'].describe()"
   ]
  },
  {
   "cell_type": "markdown",
   "metadata": {},
   "source": [
    "Zipcode is not a continuous variable. We will need to use one-hot encoding to make it into a useable categorical variable."
   ]
  },
  {
   "cell_type": "code",
   "execution_count": 15,
   "metadata": {},
   "outputs": [
    {
     "data": {
      "text/plain": [
       "70"
      ]
     },
     "execution_count": 15,
     "metadata": {},
     "output_type": "execute_result"
    }
   ],
   "source": [
    "data['zipcode'].nunique()"
   ]
  },
  {
   "cell_type": "code",
   "execution_count": 16,
   "metadata": {},
   "outputs": [],
   "source": [
    "data['zipcode'].astype('category', copy=False)\n",
    "zipdummies = pd.get_dummies(data['zipcode'])\n",
    "data = data.join(zipdummies, how='outer')"
   ]
  },
  {
   "cell_type": "code",
   "execution_count": 17,
   "metadata": {
    "scrolled": true
   },
   "outputs": [],
   "source": [
    "data.loc[data['waterfront']==1, 'waterfront'] = 'WaterFront'\n",
    "data.loc[data['waterfront']==0, 'waterfront'] = 'Not'\n",
    "\n",
    "data['waterfront'].astype('category', copy=False)\n",
    "wfdummies = pd.get_dummies(data['waterfront'])\n",
    "data = data.join(wfdummies, how='outer')\n",
    "\n",
    "#Drop columns to avoid the dummy-trap.\n",
    "data.drop(['Not', 'zipcode'], axis=1, \n",
    "          inplace=True)"
   ]
  },
  {
   "cell_type": "markdown",
   "metadata": {},
   "source": [
    "### Duplicates"
   ]
  },
  {
   "cell_type": "code",
   "execution_count": 18,
   "metadata": {},
   "outputs": [
    {
     "data": {
      "text/plain": [
       "0"
      ]
     },
     "execution_count": 18,
     "metadata": {},
     "output_type": "execute_result"
    }
   ],
   "source": [
    "data.duplicated().sum()"
   ]
  },
  {
   "cell_type": "markdown",
   "metadata": {},
   "source": [
    "# Feature Creation\n",
    "\n",
    "I want to be able to use age to describe the houses, so I'll create a feature that stores their age at sale. \n",
    "\n",
    "### Month  and Year Sold"
   ]
  },
  {
   "cell_type": "code",
   "execution_count": 19,
   "metadata": {},
   "outputs": [],
   "source": [
    "data['date']=pd.to_datetime(data['date'])\n",
    "\n",
    "data['month_sold'] = np.array([date[5:7] \n",
    "                               for date \n",
    "                               in data['date'].astype(str)])\n",
    "data['month_sold'] = data['month_sold'].astype('int64')\n",
    "\n",
    "data['year_sold'] = np.array([date[:4] \n",
    "                               for date \n",
    "                               in data['date'].astype(str)])\n",
    "data['year_sold'] = data['year_sold'].astype('int64')\n",
    "data.drop('date', axis=1, inplace=True)"
   ]
  },
  {
   "cell_type": "code",
   "execution_count": 20,
   "metadata": {},
   "outputs": [],
   "source": [
    "m_list = ['Jan','Feb','Mar','Apr','May','Jun',\n",
    "              'Jul','Aug','Sep','Oct','Nov','Dec']\n",
    "for num in range(1,13):\n",
    "    data.loc[data['month_sold']==num, 'month_sold'] = m_list[num-1]\n",
    "\n",
    "data['month_sold'].astype('category', copy=False)\n",
    "mondummies = pd.get_dummies(data['month_sold'])\n",
    "data = data.join(mondummies, how='outer')"
   ]
  },
  {
   "cell_type": "markdown",
   "metadata": {},
   "source": [
    "### Age"
   ]
  },
  {
   "cell_type": "code",
   "execution_count": 21,
   "metadata": {
    "scrolled": true
   },
   "outputs": [],
   "source": [
    "data['age'] = data['year_sold']-data['yr_built']"
   ]
  },
  {
   "cell_type": "markdown",
   "metadata": {},
   "source": [
    "### Years Since Renovation"
   ]
  },
  {
   "cell_type": "code",
   "execution_count": 22,
   "metadata": {},
   "outputs": [
    {
     "data": {
      "text/plain": [
       "count    21597.000000\n",
       "mean        41.377830\n",
       "std         28.950873\n",
       "min         -1.000000\n",
       "25%         16.000000\n",
       "50%         37.000000\n",
       "75%         61.000000\n",
       "max        115.000000\n",
       "Name: yrs_reno, dtype: float64"
      ]
     },
     "execution_count": 22,
     "metadata": {},
     "output_type": "execute_result"
    }
   ],
   "source": [
    "data['yrs_reno'] = data['year_sold']- data['yr_renovated']\n",
    "data['yrs_reno'].describe()"
   ]
  },
  {
   "cell_type": "markdown",
   "metadata": {},
   "source": [
    "### Renovated?\n",
    "I'll also add a categorical variable that can be used to determine if renovation itself is a meaningful indicator of value. "
   ]
  },
  {
   "cell_type": "code",
   "execution_count": 23,
   "metadata": {
    "scrolled": true
   },
   "outputs": [
    {
     "data": {
      "text/plain": [
       "Not    20853\n",
       "NaN      744\n",
       "Name: Renovated?, dtype: int64"
      ]
     },
     "execution_count": 23,
     "metadata": {},
     "output_type": "execute_result"
    }
   ],
   "source": [
    "data.loc[data['yrs_reno']-data['age']>0, \n",
    "         'Renovated?']='Renovated'\n",
    "data.loc[data['yrs_reno']-data['age']==0, \n",
    "         'Renovated?']='Not'\n",
    "data['Renovated?'].value_counts(dropna=False)"
   ]
  },
  {
   "cell_type": "code",
   "execution_count": 24,
   "metadata": {},
   "outputs": [],
   "source": [
    "data['Renovated?'].astype('category', copy=False)\n",
    "rendummies = pd.get_dummies(data['Renovated?'])\n",
    "data = data.join(rendummies, how='outer')\n",
    "data.drop(['Not'], axis=1, inplace=True)"
   ]
  },
  {
   "cell_type": "markdown",
   "metadata": {},
   "source": [
    "### City Data\n",
    "A more decipherable way to utilize the latitude and longitude data is to calculate the distance between each house and the major cities in King County. I can use that information to estimate what city that house resides in, providing another means for analysis. \n",
    "\n",
    "I'll use the haversine formula to calculate the miles of distance from the center of particular cities to each house. I'll then use that formula to create columns for the distance to each city and additional columns for the categorical information of what city each house resides in. For this analysis I'll use the largest 6 cities by population in the King County area, including Tacoma, which is technically in Pierce county. "
   ]
  },
  {
   "cell_type": "code",
   "execution_count": 25,
   "metadata": {},
   "outputs": [],
   "source": [
    "def haversine(city):\n",
    "    \"\"\"\n",
    "    Return distance in miles between house and city.\n",
    "    \n",
    "    Parameters\n",
    "    city-- tuple, coordinates(lon,lat) for a city\n",
    "    \n",
    "    \"\"\"\n",
    "    dists = []\n",
    "    for i in range(0,len(data['long'])):\n",
    "        lon1, lat1, lon2, lat2 = map(radians, \n",
    "                                     [data['long'][i],\n",
    "                                      data['lat'][i],\n",
    "                                      city[0], city[1]])\n",
    "        dlon = lon2 - lon1 \n",
    "        dlat = lat2 - lat1 \n",
    "        a = (sin(dlat/2)**2 + cos(lat1) \n",
    "             * cos(lat2) * sin(dlon/2)**2)\n",
    "        c = 2 * asin(sqrt(a)) \n",
    "        r = 3956 # Radius of earth in miles. \n",
    "        dists.append(round(c*r,2))\n",
    "    return np.array(dists)       "
   ]
  },
  {
   "cell_type": "code",
   "execution_count": 26,
   "metadata": {
    "scrolled": true
   },
   "outputs": [],
   "source": [
    "Seattle = (-122.335167, 47.608013, 'Seattle')\n",
    "Bellevue = (-122.1994444, 47.6105556, 'Bellevue')\n",
    "Renton = (-122.2158333, 47.4830556, 'Renton') \n",
    "Kent = (-122.2336111, 47.3811111, 'Kent')\n",
    "Federal_Way = (-122.3113889, 47.3225, 'Federal Way')\n",
    "Tacoma = (-122.4430556, 47.2530556, 'Tacoma')\n",
    "\n",
    "city_list = [Seattle, Bellevue, Renton, \n",
    "             Kent, Federal_Way, Tacoma]\n",
    "\n",
    "for city in city_list:\n",
    "    data['dist_to_{}'.format(city[2])] = haversine(city)"
   ]
  },
  {
   "cell_type": "code",
   "execution_count": 27,
   "metadata": {},
   "outputs": [],
   "source": [
    "city_dist_cols = [('dist_to_{}'.format(city[2]), city[2]) \n",
    "                  for city in city_list]\n",
    "nearest_cities = []\n",
    "\n",
    "for i in range(0,len(data['long'])):\n",
    "    dists = []\n",
    "    for city_dist in city_dist_cols:\n",
    "        dists.append(((data[city_dist[0]][i]), city_dist[1]))\n",
    "    nearest_cities.append(sorted(dists)[0][1])\n",
    "    \n",
    "data['nearest_city'] = nearest_cities"
   ]
  },
  {
   "cell_type": "code",
   "execution_count": 28,
   "metadata": {
    "scrolled": false
   },
   "outputs": [
    {
     "data": {
      "text/html": [
       "<div>\n",
       "<style scoped>\n",
       "    .dataframe tbody tr th:only-of-type {\n",
       "        vertical-align: middle;\n",
       "    }\n",
       "\n",
       "    .dataframe tbody tr th {\n",
       "        vertical-align: top;\n",
       "    }\n",
       "\n",
       "    .dataframe thead th {\n",
       "        text-align: right;\n",
       "    }\n",
       "</style>\n",
       "<table border=\"1\" class=\"dataframe\">\n",
       "  <thead>\n",
       "    <tr style=\"text-align: right;\">\n",
       "      <th></th>\n",
       "      <th>dist_to_Seattle</th>\n",
       "      <th>dist_to_Bellevue</th>\n",
       "      <th>dist_to_Renton</th>\n",
       "      <th>dist_to_Kent</th>\n",
       "      <th>dist_to_Federal Way</th>\n",
       "      <th>dist_to_Tacoma</th>\n",
       "      <th>nearest_city</th>\n",
       "    </tr>\n",
       "  </thead>\n",
       "  <tbody>\n",
       "    <tr>\n",
       "      <td>0</td>\n",
       "      <td>7.61</td>\n",
       "      <td>7.37</td>\n",
       "      <td>2.73</td>\n",
       "      <td>9.05</td>\n",
       "      <td>13.27</td>\n",
       "      <td>19.83</td>\n",
       "      <td>Renton</td>\n",
       "    </tr>\n",
       "    <tr>\n",
       "      <td>1</td>\n",
       "      <td>7.84</td>\n",
       "      <td>9.44</td>\n",
       "      <td>17.12</td>\n",
       "      <td>23.80</td>\n",
       "      <td>27.52</td>\n",
       "      <td>32.82</td>\n",
       "      <td>Seattle</td>\n",
       "    </tr>\n",
       "    <tr>\n",
       "      <td>2</td>\n",
       "      <td>10.15</td>\n",
       "      <td>8.93</td>\n",
       "      <td>17.61</td>\n",
       "      <td>24.63</td>\n",
       "      <td>28.91</td>\n",
       "      <td>34.88</td>\n",
       "      <td>Bellevue</td>\n",
       "    </tr>\n",
       "    <tr>\n",
       "      <td>3</td>\n",
       "      <td>6.60</td>\n",
       "      <td>10.94</td>\n",
       "      <td>8.67</td>\n",
       "      <td>12.18</td>\n",
       "      <td>14.21</td>\n",
       "      <td>18.63</td>\n",
       "      <td>Seattle</td>\n",
       "    </tr>\n",
       "    <tr>\n",
       "      <td>4</td>\n",
       "      <td>13.52</td>\n",
       "      <td>7.20</td>\n",
       "      <td>12.19</td>\n",
       "      <td>18.50</td>\n",
       "      <td>23.82</td>\n",
       "      <td>31.25</td>\n",
       "      <td>Bellevue</td>\n",
       "    </tr>\n",
       "    <tr>\n",
       "      <td>...</td>\n",
       "      <td>...</td>\n",
       "      <td>...</td>\n",
       "      <td>...</td>\n",
       "      <td>...</td>\n",
       "      <td>...</td>\n",
       "      <td>...</td>\n",
       "      <td>...</td>\n",
       "    </tr>\n",
       "    <tr>\n",
       "      <td>21592</td>\n",
       "      <td>6.32</td>\n",
       "      <td>9.17</td>\n",
       "      <td>16.11</td>\n",
       "      <td>22.59</td>\n",
       "      <td>26.07</td>\n",
       "      <td>31.14</td>\n",
       "      <td>Seattle</td>\n",
       "    </tr>\n",
       "    <tr>\n",
       "      <td>21593</td>\n",
       "      <td>6.83</td>\n",
       "      <td>10.24</td>\n",
       "      <td>7.08</td>\n",
       "      <td>10.77</td>\n",
       "      <td>13.21</td>\n",
       "      <td>18.19</td>\n",
       "      <td>Seattle</td>\n",
       "    </tr>\n",
       "    <tr>\n",
       "      <td>21594</td>\n",
       "      <td>1.93</td>\n",
       "      <td>4.77</td>\n",
       "      <td>8.61</td>\n",
       "      <td>15.04</td>\n",
       "      <td>18.78</td>\n",
       "      <td>24.51</td>\n",
       "      <td>Seattle</td>\n",
       "    </tr>\n",
       "    <tr>\n",
       "      <td>21595</td>\n",
       "      <td>13.40</td>\n",
       "      <td>8.03</td>\n",
       "      <td>7.71</td>\n",
       "      <td>13.09</td>\n",
       "      <td>18.51</td>\n",
       "      <td>26.14</td>\n",
       "      <td>Renton</td>\n",
       "    </tr>\n",
       "    <tr>\n",
       "      <td>21596</td>\n",
       "      <td>1.94</td>\n",
       "      <td>4.77</td>\n",
       "      <td>8.59</td>\n",
       "      <td>15.02</td>\n",
       "      <td>18.76</td>\n",
       "      <td>24.49</td>\n",
       "      <td>Seattle</td>\n",
       "    </tr>\n",
       "  </tbody>\n",
       "</table>\n",
       "<p>21597 rows × 7 columns</p>\n",
       "</div>"
      ],
      "text/plain": [
       "       dist_to_Seattle  dist_to_Bellevue  dist_to_Renton  dist_to_Kent  \\\n",
       "0                 7.61              7.37            2.73          9.05   \n",
       "1                 7.84              9.44           17.12         23.80   \n",
       "2                10.15              8.93           17.61         24.63   \n",
       "3                 6.60             10.94            8.67         12.18   \n",
       "4                13.52              7.20           12.19         18.50   \n",
       "...                ...               ...             ...           ...   \n",
       "21592             6.32              9.17           16.11         22.59   \n",
       "21593             6.83             10.24            7.08         10.77   \n",
       "21594             1.93              4.77            8.61         15.04   \n",
       "21595            13.40              8.03            7.71         13.09   \n",
       "21596             1.94              4.77            8.59         15.02   \n",
       "\n",
       "       dist_to_Federal Way  dist_to_Tacoma nearest_city  \n",
       "0                    13.27           19.83       Renton  \n",
       "1                    27.52           32.82      Seattle  \n",
       "2                    28.91           34.88     Bellevue  \n",
       "3                    14.21           18.63      Seattle  \n",
       "4                    23.82           31.25     Bellevue  \n",
       "...                    ...             ...          ...  \n",
       "21592                26.07           31.14      Seattle  \n",
       "21593                13.21           18.19      Seattle  \n",
       "21594                18.78           24.51      Seattle  \n",
       "21595                18.51           26.14       Renton  \n",
       "21596                18.76           24.49      Seattle  \n",
       "\n",
       "[21597 rows x 7 columns]"
      ]
     },
     "execution_count": 28,
     "metadata": {},
     "output_type": "execute_result"
    }
   ],
   "source": [
    "data[['dist_to_Seattle', 'dist_to_Bellevue',\n",
    "     'dist_to_Renton', 'dist_to_Kent',\n",
    "     'dist_to_Federal Way', 'dist_to_Tacoma',\n",
    "     'nearest_city']]"
   ]
  },
  {
   "cell_type": "code",
   "execution_count": 29,
   "metadata": {},
   "outputs": [
    {
     "data": {
      "text/plain": [
       "Seattle        7210\n",
       "Bellevue       6482\n",
       "Renton         3582\n",
       "Kent           2747\n",
       "Federal Way    1562\n",
       "Tacoma           14\n",
       "Name: nearest_city, dtype: int64"
      ]
     },
     "execution_count": 29,
     "metadata": {},
     "output_type": "execute_result"
    }
   ],
   "source": [
    "data['nearest_city'].value_counts()"
   ]
  },
  {
   "cell_type": "code",
   "execution_count": 30,
   "metadata": {},
   "outputs": [],
   "source": [
    "data['nearest_city'].astype('category', copy=False)\n",
    "ncdummies = pd.get_dummies(data['nearest_city'])\n",
    "data = data.join(ncdummies, how='outer')"
   ]
  },
  {
   "cell_type": "markdown",
   "metadata": {},
   "source": [
    "### Size Relative to Neighbors\n",
    "\n",
    "I'd like to test the old real estate addage that the biggest house on the block has lower than expected value by creating an additional feature that tracks the size of a home compared with its nearst 15 neighbors."
   ]
  },
  {
   "cell_type": "code",
   "execution_count": 31,
   "metadata": {
    "scrolled": true
   },
   "outputs": [],
   "source": [
    "data['rel_size_living'] = (data['sqft_living']\n",
    "                           /data['sqft_living15'])\n",
    "data['rel_size_lot'] = data['sqft_lot']/data['sqft_lot15']"
   ]
  },
  {
   "cell_type": "code",
   "execution_count": 32,
   "metadata": {},
   "outputs": [
    {
     "data": {
      "text/html": [
       "<div>\n",
       "<style scoped>\n",
       "    .dataframe tbody tr th:only-of-type {\n",
       "        vertical-align: middle;\n",
       "    }\n",
       "\n",
       "    .dataframe tbody tr th {\n",
       "        vertical-align: top;\n",
       "    }\n",
       "\n",
       "    .dataframe thead th {\n",
       "        text-align: right;\n",
       "    }\n",
       "</style>\n",
       "<table border=\"1\" class=\"dataframe\">\n",
       "  <thead>\n",
       "    <tr style=\"text-align: right;\">\n",
       "      <th></th>\n",
       "      <th>sqft_living</th>\n",
       "      <th>sqft_living15</th>\n",
       "      <th>rel_size_living</th>\n",
       "      <th>sqft_lot</th>\n",
       "      <th>sqft_lot15</th>\n",
       "      <th>rel_size_lot</th>\n",
       "    </tr>\n",
       "  </thead>\n",
       "  <tbody>\n",
       "    <tr>\n",
       "      <td>0</td>\n",
       "      <td>1180</td>\n",
       "      <td>1340</td>\n",
       "      <td>0.880597</td>\n",
       "      <td>5650</td>\n",
       "      <td>5650</td>\n",
       "      <td>1.000000</td>\n",
       "    </tr>\n",
       "    <tr>\n",
       "      <td>1</td>\n",
       "      <td>2570</td>\n",
       "      <td>1690</td>\n",
       "      <td>1.520710</td>\n",
       "      <td>7242</td>\n",
       "      <td>7639</td>\n",
       "      <td>0.948030</td>\n",
       "    </tr>\n",
       "    <tr>\n",
       "      <td>2</td>\n",
       "      <td>770</td>\n",
       "      <td>2720</td>\n",
       "      <td>0.283088</td>\n",
       "      <td>10000</td>\n",
       "      <td>8062</td>\n",
       "      <td>1.240387</td>\n",
       "    </tr>\n",
       "    <tr>\n",
       "      <td>3</td>\n",
       "      <td>1960</td>\n",
       "      <td>1360</td>\n",
       "      <td>1.441176</td>\n",
       "      <td>5000</td>\n",
       "      <td>5000</td>\n",
       "      <td>1.000000</td>\n",
       "    </tr>\n",
       "    <tr>\n",
       "      <td>4</td>\n",
       "      <td>1680</td>\n",
       "      <td>1800</td>\n",
       "      <td>0.933333</td>\n",
       "      <td>8080</td>\n",
       "      <td>7503</td>\n",
       "      <td>1.076903</td>\n",
       "    </tr>\n",
       "  </tbody>\n",
       "</table>\n",
       "</div>"
      ],
      "text/plain": [
       "   sqft_living  sqft_living15  rel_size_living  sqft_lot  sqft_lot15  \\\n",
       "0         1180           1340         0.880597      5650        5650   \n",
       "1         2570           1690         1.520710      7242        7639   \n",
       "2          770           2720         0.283088     10000        8062   \n",
       "3         1960           1360         1.441176      5000        5000   \n",
       "4         1680           1800         0.933333      8080        7503   \n",
       "\n",
       "   rel_size_lot  \n",
       "0      1.000000  \n",
       "1      0.948030  \n",
       "2      1.240387  \n",
       "3      1.000000  \n",
       "4      1.076903  "
      ]
     },
     "execution_count": 32,
     "metadata": {},
     "output_type": "execute_result"
    }
   ],
   "source": [
    "data.head()[['sqft_living', 'sqft_living15', \n",
    "             'rel_size_living',\n",
    "             'sqft_lot', 'sqft_lot15', \n",
    "             'rel_size_lot']]"
   ]
  },
  {
   "cell_type": "code",
   "execution_count": 33,
   "metadata": {},
   "outputs": [
    {
     "name": "stdout",
     "output_type": "stream",
     "text": [
      "<class 'pandas.core.frame.DataFrame'>\n",
      "RangeIndex: 21597 entries, 0 to 21596\n",
      "Columns: 122 entries, id to rel_size_lot\n",
      "dtypes: float64(16), int64(13), object(4), uint8(89)\n",
      "memory usage: 7.3+ MB\n"
     ]
    }
   ],
   "source": [
    "data.info()"
   ]
  },
  {
   "cell_type": "markdown",
   "metadata": {},
   "source": [
    "# Build a Baseline Model\n",
    "In order to fit a baseline model for use in comparisons with the more complete model I will conduct these steps:\n",
    "1. Handle Muliticolinearity\n",
    "2. Standardize Variables\n",
    "3. Fit and Validate the Baseline Model\n",
    "\n",
    "## 1. Handle Multicolinearity "
   ]
  },
  {
   "cell_type": "code",
   "execution_count": 34,
   "metadata": {
    "scrolled": true
   },
   "outputs": [
    {
     "data": {
      "text/plain": [
       "id                     False\n",
       "price                  False\n",
       "bedrooms               False\n",
       "bathrooms              False\n",
       "sqft_living             True\n",
       "sqft_lot               False\n",
       "floors                 False\n",
       "view                   False\n",
       "condition              False\n",
       "grade                  False\n",
       "sqft_above              True\n",
       "sqft_basement          False\n",
       "yr_built                True\n",
       "yr_renovated            True\n",
       "lat                     True\n",
       "long                   False\n",
       "sqft_living15          False\n",
       "sqft_lot15             False\n",
       "98001                  False\n",
       "98002                  False\n",
       "98003                  False\n",
       "98004                  False\n",
       "98005                  False\n",
       "98006                  False\n",
       "98007                  False\n",
       "98008                  False\n",
       "98010                  False\n",
       "98011                  False\n",
       "98014                  False\n",
       "98019                  False\n",
       "98022                  False\n",
       "98023                  False\n",
       "98024                  False\n",
       "98027                  False\n",
       "98028                  False\n",
       "98029                  False\n",
       "98030                  False\n",
       "98031                  False\n",
       "98032                  False\n",
       "98033                  False\n",
       "98034                  False\n",
       "98038                  False\n",
       "98039                  False\n",
       "98040                  False\n",
       "98042                  False\n",
       "98045                  False\n",
       "98052                  False\n",
       "98053                  False\n",
       "98055                  False\n",
       "98056                  False\n",
       "98058                  False\n",
       "98059                  False\n",
       "98065                  False\n",
       "98070                  False\n",
       "98072                  False\n",
       "98074                  False\n",
       "98075                  False\n",
       "98077                  False\n",
       "98092                  False\n",
       "98102                  False\n",
       "98103                  False\n",
       "98105                  False\n",
       "98106                  False\n",
       "98107                  False\n",
       "98108                  False\n",
       "98109                  False\n",
       "98112                  False\n",
       "98115                  False\n",
       "98116                  False\n",
       "98117                  False\n",
       "98118                  False\n",
       "98119                  False\n",
       "98122                  False\n",
       "98125                  False\n",
       "98126                  False\n",
       "98133                  False\n",
       "98136                  False\n",
       "98144                  False\n",
       "98146                  False\n",
       "98148                  False\n",
       "98155                  False\n",
       "98166                  False\n",
       "98168                  False\n",
       "98177                  False\n",
       "98178                  False\n",
       "98188                  False\n",
       "98198                  False\n",
       "98199                  False\n",
       "WaterFront             False\n",
       "year_sold              False\n",
       "Apr                    False\n",
       "Aug                    False\n",
       "Dec                    False\n",
       "Feb                    False\n",
       "Jan                    False\n",
       "Jul                    False\n",
       "Jun                    False\n",
       "Mar                    False\n",
       "May                    False\n",
       "Nov                    False\n",
       "Oct                    False\n",
       "Sep                    False\n",
       "age                     True\n",
       "yrs_reno                True\n",
       "dist_to_Seattle         True\n",
       "dist_to_Bellevue        True\n",
       "dist_to_Renton         False\n",
       "dist_to_Kent            True\n",
       "dist_to_Federal Way     True\n",
       "dist_to_Tacoma          True\n",
       "Bellevue               False\n",
       "Federal Way            False\n",
       "Kent                   False\n",
       "Renton                 False\n",
       "Seattle                False\n",
       "Tacoma                 False\n",
       "rel_size_living        False\n",
       "rel_size_lot           False\n",
       "dtype: bool"
      ]
     },
     "execution_count": 34,
     "metadata": {},
     "output_type": "execute_result"
    }
   ],
   "source": [
    "high_corr = ((abs(data.corr())> .8).sum()>1)\n",
    "pd.set_option('display.max_rows', 200)\n",
    "high_corr"
   ]
  },
  {
   "cell_type": "code",
   "execution_count": 35,
   "metadata": {
    "scrolled": true
   },
   "outputs": [
    {
     "data": {
      "text/html": [
       "<div>\n",
       "<style scoped>\n",
       "    .dataframe tbody tr th:only-of-type {\n",
       "        vertical-align: middle;\n",
       "    }\n",
       "\n",
       "    .dataframe tbody tr th {\n",
       "        vertical-align: top;\n",
       "    }\n",
       "\n",
       "    .dataframe thead th {\n",
       "        text-align: right;\n",
       "    }\n",
       "</style>\n",
       "<table border=\"1\" class=\"dataframe\">\n",
       "  <thead>\n",
       "    <tr style=\"text-align: right;\">\n",
       "      <th></th>\n",
       "      <th>sqft_living</th>\n",
       "      <th>sqft_above</th>\n",
       "      <th>lat</th>\n",
       "      <th>dist_to_Seattle</th>\n",
       "      <th>dist_to_Bellevue</th>\n",
       "      <th>dist_to_Kent</th>\n",
       "      <th>dist_to_Federal Way</th>\n",
       "      <th>dist_to_Tacoma</th>\n",
       "    </tr>\n",
       "  </thead>\n",
       "  <tbody>\n",
       "    <tr>\n",
       "      <td>sqft_living</td>\n",
       "      <td>1.000000</td>\n",
       "      <td>0.876448</td>\n",
       "      <td>0.052155</td>\n",
       "      <td>0.075782</td>\n",
       "      <td>-0.108852</td>\n",
       "      <td>0.060714</td>\n",
       "      <td>0.096550</td>\n",
       "      <td>0.126927</td>\n",
       "    </tr>\n",
       "    <tr>\n",
       "      <td>sqft_above</td>\n",
       "      <td>0.876448</td>\n",
       "      <td>1.000000</td>\n",
       "      <td>-0.001199</td>\n",
       "      <td>0.191956</td>\n",
       "      <td>-0.024551</td>\n",
       "      <td>0.041983</td>\n",
       "      <td>0.082470</td>\n",
       "      <td>0.123426</td>\n",
       "    </tr>\n",
       "    <tr>\n",
       "      <td>lat</td>\n",
       "      <td>0.052155</td>\n",
       "      <td>-0.001199</td>\n",
       "      <td>1.000000</td>\n",
       "      <td>-0.602416</td>\n",
       "      <td>-0.679264</td>\n",
       "      <td>0.871301</td>\n",
       "      <td>0.904534</td>\n",
       "      <td>0.879188</td>\n",
       "    </tr>\n",
       "    <tr>\n",
       "      <td>dist_to_Seattle</td>\n",
       "      <td>0.075782</td>\n",
       "      <td>0.191956</td>\n",
       "      <td>-0.602416</td>\n",
       "      <td>1.000000</td>\n",
       "      <td>0.838315</td>\n",
       "      <td>-0.251338</td>\n",
       "      <td>-0.288925</td>\n",
       "      <td>-0.235535</td>\n",
       "    </tr>\n",
       "    <tr>\n",
       "      <td>dist_to_Bellevue</td>\n",
       "      <td>-0.108852</td>\n",
       "      <td>-0.024551</td>\n",
       "      <td>-0.679264</td>\n",
       "      <td>0.838315</td>\n",
       "      <td>1.000000</td>\n",
       "      <td>-0.322515</td>\n",
       "      <td>-0.445119</td>\n",
       "      <td>-0.456513</td>\n",
       "    </tr>\n",
       "    <tr>\n",
       "      <td>dist_to_Kent</td>\n",
       "      <td>0.060714</td>\n",
       "      <td>0.041983</td>\n",
       "      <td>0.871301</td>\n",
       "      <td>-0.251338</td>\n",
       "      <td>-0.322515</td>\n",
       "      <td>1.000000</td>\n",
       "      <td>0.965758</td>\n",
       "      <td>0.922683</td>\n",
       "    </tr>\n",
       "    <tr>\n",
       "      <td>dist_to_Federal Way</td>\n",
       "      <td>0.096550</td>\n",
       "      <td>0.082470</td>\n",
       "      <td>0.904534</td>\n",
       "      <td>-0.288925</td>\n",
       "      <td>-0.445119</td>\n",
       "      <td>0.965758</td>\n",
       "      <td>1.000000</td>\n",
       "      <td>0.987446</td>\n",
       "    </tr>\n",
       "    <tr>\n",
       "      <td>dist_to_Tacoma</td>\n",
       "      <td>0.126927</td>\n",
       "      <td>0.123426</td>\n",
       "      <td>0.879188</td>\n",
       "      <td>-0.235535</td>\n",
       "      <td>-0.456513</td>\n",
       "      <td>0.922683</td>\n",
       "      <td>0.987446</td>\n",
       "      <td>1.000000</td>\n",
       "    </tr>\n",
       "  </tbody>\n",
       "</table>\n",
       "</div>"
      ],
      "text/plain": [
       "                     sqft_living  sqft_above       lat  dist_to_Seattle  \\\n",
       "sqft_living             1.000000    0.876448  0.052155         0.075782   \n",
       "sqft_above              0.876448    1.000000 -0.001199         0.191956   \n",
       "lat                     0.052155   -0.001199  1.000000        -0.602416   \n",
       "dist_to_Seattle         0.075782    0.191956 -0.602416         1.000000   \n",
       "dist_to_Bellevue       -0.108852   -0.024551 -0.679264         0.838315   \n",
       "dist_to_Kent            0.060714    0.041983  0.871301        -0.251338   \n",
       "dist_to_Federal Way     0.096550    0.082470  0.904534        -0.288925   \n",
       "dist_to_Tacoma          0.126927    0.123426  0.879188        -0.235535   \n",
       "\n",
       "                     dist_to_Bellevue  dist_to_Kent  dist_to_Federal Way  \\\n",
       "sqft_living                 -0.108852      0.060714             0.096550   \n",
       "sqft_above                  -0.024551      0.041983             0.082470   \n",
       "lat                         -0.679264      0.871301             0.904534   \n",
       "dist_to_Seattle              0.838315     -0.251338            -0.288925   \n",
       "dist_to_Bellevue             1.000000     -0.322515            -0.445119   \n",
       "dist_to_Kent                -0.322515      1.000000             0.965758   \n",
       "dist_to_Federal Way         -0.445119      0.965758             1.000000   \n",
       "dist_to_Tacoma              -0.456513      0.922683             0.987446   \n",
       "\n",
       "                     dist_to_Tacoma  \n",
       "sqft_living                0.126927  \n",
       "sqft_above                 0.123426  \n",
       "lat                        0.879188  \n",
       "dist_to_Seattle           -0.235535  \n",
       "dist_to_Bellevue          -0.456513  \n",
       "dist_to_Kent               0.922683  \n",
       "dist_to_Federal Way        0.987446  \n",
       "dist_to_Tacoma             1.000000  "
      ]
     },
     "execution_count": 35,
     "metadata": {},
     "output_type": "execute_result"
    }
   ],
   "source": [
    "data[['sqft_living', 'sqft_above', 'lat', 'dist_to_Seattle',\n",
    "      'dist_to_Bellevue', 'dist_to_Kent', \n",
    "      'dist_to_Federal Way', 'dist_to_Tacoma']].corr()"
   ]
  },
  {
   "cell_type": "markdown",
   "metadata": {},
   "source": [
    "To avoid multicolinearity issues I will drop sqft_above, because the information already exists in a combination of sqft_living and sqft_basement, so it's exclusion will not hinder the model. In addition, the categorical variables for nearest city will serve my purposes sufficiently and distance variables to each city aside from Seattle will be dropped. "
   ]
  },
  {
   "cell_type": "code",
   "execution_count": 36,
   "metadata": {},
   "outputs": [],
   "source": [
    "data.drop(['sqft_above', 'dist_to_Bellevue', 'dist_to_Kent', \n",
    "           'dist_to_Federal Way', 'dist_to_Tacoma'], axis=1,\n",
    "          inplace=True)"
   ]
  },
  {
   "cell_type": "code",
   "execution_count": 37,
   "metadata": {},
   "outputs": [
    {
     "name": "stdout",
     "output_type": "stream",
     "text": [
      "<class 'pandas.core.frame.DataFrame'>\n",
      "RangeIndex: 21597 entries, 0 to 21596\n",
      "Columns: 117 entries, id to rel_size_lot\n",
      "dtypes: float64(12), int64(12), object(4), uint8(89)\n",
      "memory usage: 6.4+ MB\n"
     ]
    }
   ],
   "source": [
    "data.info()"
   ]
  },
  {
   "cell_type": "markdown",
   "metadata": {},
   "source": [
    "## 2. Standardize Variables \n",
    "To standardize the data I'll be using scikit learn's Robust Scalar function because of the existence of significant outliers in the independent variable, price."
   ]
  },
  {
   "cell_type": "code",
   "execution_count": 38,
   "metadata": {},
   "outputs": [
    {
     "data": {
      "image/png": "[encoded data removed]",
      "text/plain": [
       "<Figure size 432x288 with 1 Axes>"
      ]
     },
     "metadata": {
      "needs_background": "light"
     },
     "output_type": "display_data"
    }
   ],
   "source": [
    "data['price'].hist();\n",
    "data.drop('id', axis=1, inplace=True)"
   ]
  },
  {
   "cell_type": "code",
   "execution_count": 39,
   "metadata": {
    "scrolled": false
   },
   "outputs": [
    {
     "data": {
      "text/html": [
       "<div>\n",
       "<style scoped>\n",
       "    .dataframe tbody tr th:only-of-type {\n",
       "        vertical-align: middle;\n",
       "    }\n",
       "\n",
       "    .dataframe tbody tr th {\n",
       "        vertical-align: top;\n",
       "    }\n",
       "\n",
       "    .dataframe thead th {\n",
       "        text-align: right;\n",
       "    }\n",
       "</style>\n",
       "<table border=\"1\" class=\"dataframe\">\n",
       "  <thead>\n",
       "    <tr style=\"text-align: right;\">\n",
       "      <th></th>\n",
       "      <th>price</th>\n",
       "      <th>bedrooms</th>\n",
       "      <th>bathrooms</th>\n",
       "      <th>sqft_living</th>\n",
       "      <th>sqft_lot</th>\n",
       "      <th>floors</th>\n",
       "      <th>view</th>\n",
       "      <th>condition</th>\n",
       "      <th>grade</th>\n",
       "      <th>sqft_basement</th>\n",
       "      <th>...</th>\n",
       "      <th>long</th>\n",
       "      <th>sqft_living15</th>\n",
       "      <th>sqft_lot15</th>\n",
       "      <th>year_sold</th>\n",
       "      <th>age</th>\n",
       "      <th>yrs_reno</th>\n",
       "      <th>dist_to_Seattle</th>\n",
       "      <th>dist_to_Renton</th>\n",
       "      <th>rel_size_living</th>\n",
       "      <th>rel_size_lot</th>\n",
       "    </tr>\n",
       "  </thead>\n",
       "  <tbody>\n",
       "    <tr>\n",
       "      <td>0</td>\n",
       "      <td>221900.0</td>\n",
       "      <td>3</td>\n",
       "      <td>1.00</td>\n",
       "      <td>1180</td>\n",
       "      <td>5650</td>\n",
       "      <td>1.0</td>\n",
       "      <td>0.0</td>\n",
       "      <td>3</td>\n",
       "      <td>7</td>\n",
       "      <td>0</td>\n",
       "      <td>...</td>\n",
       "      <td>-122.257</td>\n",
       "      <td>1340</td>\n",
       "      <td>5650</td>\n",
       "      <td>2014</td>\n",
       "      <td>59</td>\n",
       "      <td>59.0</td>\n",
       "      <td>7.61</td>\n",
       "      <td>2.73</td>\n",
       "      <td>0.880597</td>\n",
       "      <td>1.000000</td>\n",
       "    </tr>\n",
       "    <tr>\n",
       "      <td>1</td>\n",
       "      <td>538000.0</td>\n",
       "      <td>3</td>\n",
       "      <td>2.25</td>\n",
       "      <td>2570</td>\n",
       "      <td>7242</td>\n",
       "      <td>2.0</td>\n",
       "      <td>0.0</td>\n",
       "      <td>3</td>\n",
       "      <td>7</td>\n",
       "      <td>400</td>\n",
       "      <td>...</td>\n",
       "      <td>-122.319</td>\n",
       "      <td>1690</td>\n",
       "      <td>7639</td>\n",
       "      <td>2014</td>\n",
       "      <td>63</td>\n",
       "      <td>23.0</td>\n",
       "      <td>7.84</td>\n",
       "      <td>17.12</td>\n",
       "      <td>1.520710</td>\n",
       "      <td>0.948030</td>\n",
       "    </tr>\n",
       "    <tr>\n",
       "      <td>2</td>\n",
       "      <td>180000.0</td>\n",
       "      <td>2</td>\n",
       "      <td>1.00</td>\n",
       "      <td>770</td>\n",
       "      <td>10000</td>\n",
       "      <td>1.0</td>\n",
       "      <td>0.0</td>\n",
       "      <td>3</td>\n",
       "      <td>6</td>\n",
       "      <td>0</td>\n",
       "      <td>...</td>\n",
       "      <td>-122.233</td>\n",
       "      <td>2720</td>\n",
       "      <td>8062</td>\n",
       "      <td>2015</td>\n",
       "      <td>82</td>\n",
       "      <td>82.0</td>\n",
       "      <td>10.15</td>\n",
       "      <td>17.61</td>\n",
       "      <td>0.283088</td>\n",
       "      <td>1.240387</td>\n",
       "    </tr>\n",
       "    <tr>\n",
       "      <td>3</td>\n",
       "      <td>604000.0</td>\n",
       "      <td>4</td>\n",
       "      <td>3.00</td>\n",
       "      <td>1960</td>\n",
       "      <td>5000</td>\n",
       "      <td>1.0</td>\n",
       "      <td>0.0</td>\n",
       "      <td>5</td>\n",
       "      <td>7</td>\n",
       "      <td>910</td>\n",
       "      <td>...</td>\n",
       "      <td>-122.393</td>\n",
       "      <td>1360</td>\n",
       "      <td>5000</td>\n",
       "      <td>2014</td>\n",
       "      <td>49</td>\n",
       "      <td>49.0</td>\n",
       "      <td>6.60</td>\n",
       "      <td>8.67</td>\n",
       "      <td>1.441176</td>\n",
       "      <td>1.000000</td>\n",
       "    </tr>\n",
       "    <tr>\n",
       "      <td>4</td>\n",
       "      <td>510000.0</td>\n",
       "      <td>3</td>\n",
       "      <td>2.00</td>\n",
       "      <td>1680</td>\n",
       "      <td>8080</td>\n",
       "      <td>1.0</td>\n",
       "      <td>0.0</td>\n",
       "      <td>3</td>\n",
       "      <td>8</td>\n",
       "      <td>0</td>\n",
       "      <td>...</td>\n",
       "      <td>-122.045</td>\n",
       "      <td>1800</td>\n",
       "      <td>7503</td>\n",
       "      <td>2015</td>\n",
       "      <td>28</td>\n",
       "      <td>28.0</td>\n",
       "      <td>13.52</td>\n",
       "      <td>12.19</td>\n",
       "      <td>0.933333</td>\n",
       "      <td>1.076903</td>\n",
       "    </tr>\n",
       "  </tbody>\n",
       "</table>\n",
       "<p>5 rows × 23 columns</p>\n",
       "</div>"
      ],
      "text/plain": [
       "      price  bedrooms  bathrooms  sqft_living  sqft_lot  floors  view  \\\n",
       "0  221900.0         3       1.00         1180      5650     1.0   0.0   \n",
       "1  538000.0         3       2.25         2570      7242     2.0   0.0   \n",
       "2  180000.0         2       1.00          770     10000     1.0   0.0   \n",
       "3  604000.0         4       3.00         1960      5000     1.0   0.0   \n",
       "4  510000.0         3       2.00         1680      8080     1.0   0.0   \n",
       "\n",
       "   condition  grade  sqft_basement  ...     long  sqft_living15  sqft_lot15  \\\n",
       "0          3      7              0  ... -122.257           1340        5650   \n",
       "1          3      7            400  ... -122.319           1690        7639   \n",
       "2          3      6              0  ... -122.233           2720        8062   \n",
       "3          5      7            910  ... -122.393           1360        5000   \n",
       "4          3      8              0  ... -122.045           1800        7503   \n",
       "\n",
       "   year_sold  age  yrs_reno  dist_to_Seattle  dist_to_Renton  rel_size_living  \\\n",
       "0       2014   59      59.0             7.61            2.73         0.880597   \n",
       "1       2014   63      23.0             7.84           17.12         1.520710   \n",
       "2       2015   82      82.0            10.15           17.61         0.283088   \n",
       "3       2014   49      49.0             6.60            8.67         1.441176   \n",
       "4       2015   28      28.0            13.52           12.19         0.933333   \n",
       "\n",
       "   rel_size_lot  \n",
       "0      1.000000  \n",
       "1      0.948030  \n",
       "2      1.240387  \n",
       "3      1.000000  \n",
       "4      1.076903  \n",
       "\n",
       "[5 rows x 23 columns]"
      ]
     },
     "execution_count": 39,
     "metadata": {},
     "output_type": "execute_result"
    }
   ],
   "source": [
    "#Separate data into categorical and continuous groups. \n",
    "cat_data = data.select_dtypes(include='uint8')\n",
    "\n",
    "con_data = (data.select_dtypes(exclude='uint8')\n",
    "#Keep certain categorical data separate to use for visuals.\n",
    "            .drop(['Renovated?', 'month_sold', 'nearest_city', \n",
    "                  'waterfront'], axis=1))\n",
    "groups = data[['Renovated?', 'month_sold', 'nearest_city',\n",
    "               'waterfront']]\n",
    "con_data.head()"
   ]
  },
  {
   "cell_type": "code",
   "execution_count": 40,
   "metadata": {},
   "outputs": [],
   "source": [
    "def scale(col):\n",
    "    return (con_data[col]\n",
    "            -con_data[col].mean())/con_data[col].std()"
   ]
  },
  {
   "cell_type": "code",
   "execution_count": 41,
   "metadata": {},
   "outputs": [
    {
     "data": {
      "text/html": [
       "<div>\n",
       "<style scoped>\n",
       "    .dataframe tbody tr th:only-of-type {\n",
       "        vertical-align: middle;\n",
       "    }\n",
       "\n",
       "    .dataframe tbody tr th {\n",
       "        vertical-align: top;\n",
       "    }\n",
       "\n",
       "    .dataframe thead th {\n",
       "        text-align: right;\n",
       "    }\n",
       "</style>\n",
       "<table border=\"1\" class=\"dataframe\">\n",
       "  <thead>\n",
       "    <tr style=\"text-align: right;\">\n",
       "      <th></th>\n",
       "      <th>price</th>\n",
       "      <th>bedrooms</th>\n",
       "      <th>bathrooms</th>\n",
       "      <th>sqft_living</th>\n",
       "      <th>sqft_lot</th>\n",
       "      <th>floors</th>\n",
       "      <th>view</th>\n",
       "      <th>condition</th>\n",
       "      <th>grade</th>\n",
       "      <th>sqft_basement</th>\n",
       "      <th>...</th>\n",
       "      <th>long</th>\n",
       "      <th>sqft_living15</th>\n",
       "      <th>sqft_lot15</th>\n",
       "      <th>year_sold</th>\n",
       "      <th>age</th>\n",
       "      <th>yrs_reno</th>\n",
       "      <th>dist_to_Seattle</th>\n",
       "      <th>dist_to_Renton</th>\n",
       "      <th>rel_size_living</th>\n",
       "      <th>rel_size_lot</th>\n",
       "    </tr>\n",
       "  </thead>\n",
       "  <tbody>\n",
       "    <tr>\n",
       "      <td>count</td>\n",
       "      <td>2.159700e+04</td>\n",
       "      <td>2.159700e+04</td>\n",
       "      <td>2.159700e+04</td>\n",
       "      <td>2.159700e+04</td>\n",
       "      <td>2.159700e+04</td>\n",
       "      <td>2.159700e+04</td>\n",
       "      <td>2.159700e+04</td>\n",
       "      <td>2.159700e+04</td>\n",
       "      <td>2.159700e+04</td>\n",
       "      <td>2.159700e+04</td>\n",
       "      <td>...</td>\n",
       "      <td>2.159700e+04</td>\n",
       "      <td>2.159700e+04</td>\n",
       "      <td>2.159700e+04</td>\n",
       "      <td>2.159700e+04</td>\n",
       "      <td>2.159700e+04</td>\n",
       "      <td>2.159700e+04</td>\n",
       "      <td>2.159700e+04</td>\n",
       "      <td>2.159700e+04</td>\n",
       "      <td>2.159700e+04</td>\n",
       "      <td>2.159700e+04</td>\n",
       "    </tr>\n",
       "    <tr>\n",
       "      <td>mean</td>\n",
       "      <td>-5.372992e-17</td>\n",
       "      <td>3.508381e-16</td>\n",
       "      <td>-2.207430e-15</td>\n",
       "      <td>-1.857928e-16</td>\n",
       "      <td>2.098202e-16</td>\n",
       "      <td>-1.925871e-14</td>\n",
       "      <td>-1.646217e-15</td>\n",
       "      <td>2.583457e-15</td>\n",
       "      <td>1.586436e-14</td>\n",
       "      <td>-6.619092e-15</td>\n",
       "      <td>...</td>\n",
       "      <td>-4.654050e-12</td>\n",
       "      <td>-1.936580e-16</td>\n",
       "      <td>-1.840605e-16</td>\n",
       "      <td>1.187230e-13</td>\n",
       "      <td>-6.064613e-16</td>\n",
       "      <td>-6.553282e-17</td>\n",
       "      <td>-8.318412e-15</td>\n",
       "      <td>8.570293e-15</td>\n",
       "      <td>-6.459943e-15</td>\n",
       "      <td>2.863982e-15</td>\n",
       "    </tr>\n",
       "    <tr>\n",
       "      <td>std</td>\n",
       "      <td>1.000000e+00</td>\n",
       "      <td>1.000000e+00</td>\n",
       "      <td>1.000000e+00</td>\n",
       "      <td>1.000000e+00</td>\n",
       "      <td>1.000000e+00</td>\n",
       "      <td>1.000000e+00</td>\n",
       "      <td>1.000000e+00</td>\n",
       "      <td>1.000000e+00</td>\n",
       "      <td>1.000000e+00</td>\n",
       "      <td>1.000000e+00</td>\n",
       "      <td>...</td>\n",
       "      <td>1.000000e+00</td>\n",
       "      <td>1.000000e+00</td>\n",
       "      <td>1.000000e+00</td>\n",
       "      <td>1.000000e+00</td>\n",
       "      <td>1.000000e+00</td>\n",
       "      <td>1.000000e+00</td>\n",
       "      <td>1.000000e+00</td>\n",
       "      <td>1.000000e+00</td>\n",
       "      <td>1.000000e+00</td>\n",
       "      <td>1.000000e+00</td>\n",
       "    </tr>\n",
       "    <tr>\n",
       "      <td>min</td>\n",
       "      <td>-1.258401e+00</td>\n",
       "      <td>-2.623405e+00</td>\n",
       "      <td>-2.101247e+00</td>\n",
       "      <td>-1.862880e+00</td>\n",
       "      <td>-3.520522e-01</td>\n",
       "      <td>-9.155311e-01</td>\n",
       "      <td>-3.049417e-01</td>\n",
       "      <td>-3.704314e+00</td>\n",
       "      <td>-3.970267e+00</td>\n",
       "      <td>-6.590156e-01</td>\n",
       "      <td>...</td>\n",
       "      <td>-2.167495e+00</td>\n",
       "      <td>-2.316914e+00</td>\n",
       "      <td>-4.439058e-01</td>\n",
       "      <td>-6.906510e-01</td>\n",
       "      <td>-1.508760e+00</td>\n",
       "      <td>-1.463784e+00</td>\n",
       "      <td>-1.614257e+00</td>\n",
       "      <td>-2.244317e+00</td>\n",
       "      <td>-2.703197e+00</td>\n",
       "      <td>-8.422606e-01</td>\n",
       "    </tr>\n",
       "    <tr>\n",
       "      <td>25%</td>\n",
       "      <td>-5.942175e-01</td>\n",
       "      <td>-4.112514e-01</td>\n",
       "      <td>-4.757266e-01</td>\n",
       "      <td>-7.083297e-01</td>\n",
       "      <td>-2.429067e-01</td>\n",
       "      <td>-9.155311e-01</td>\n",
       "      <td>-3.049417e-01</td>\n",
       "      <td>-6.299719e-01</td>\n",
       "      <td>-5.607873e-01</td>\n",
       "      <td>-6.590156e-01</td>\n",
       "      <td>...</td>\n",
       "      <td>-8.102234e-01</td>\n",
       "      <td>-7.247493e-01</td>\n",
       "      <td>-2.807861e-01</td>\n",
       "      <td>-6.906510e-01</td>\n",
       "      <td>-8.620023e-01</td>\n",
       "      <td>-8.765826e-01</td>\n",
       "      <td>-8.204474e-01</td>\n",
       "      <td>-7.677515e-01</td>\n",
       "      <td>-5.368399e-01</td>\n",
       "      <td>-1.533866e-01</td>\n",
       "    </tr>\n",
       "    <tr>\n",
       "      <td>50%</td>\n",
       "      <td>-2.457932e-01</td>\n",
       "      <td>-4.112514e-01</td>\n",
       "      <td>1.744818e-01</td>\n",
       "      <td>-1.855143e-01</td>\n",
       "      <td>-1.806552e-01</td>\n",
       "      <td>1.093901e-02</td>\n",
       "      <td>-3.049417e-01</td>\n",
       "      <td>-6.299719e-01</td>\n",
       "      <td>-5.607873e-01</td>\n",
       "      <td>-6.590156e-01</td>\n",
       "      <td>...</td>\n",
       "      <td>-1.209286e-01</td>\n",
       "      <td>-2.139723e-01</td>\n",
       "      <td>-1.883919e-01</td>\n",
       "      <td>-6.906510e-01</td>\n",
       "      <td>-1.131243e-01</td>\n",
       "      <td>-1.512158e-01</td>\n",
       "      <td>-1.811983e-01</td>\n",
       "      <td>1.316157e-02</td>\n",
       "      <td>-1.659137e-01</td>\n",
       "      <td>-1.042341e-01</td>\n",
       "    </tr>\n",
       "    <tr>\n",
       "      <td>75%</td>\n",
       "      <td>2.850095e-01</td>\n",
       "      <td>6.948254e-01</td>\n",
       "      <td>4.995859e-01</td>\n",
       "      <td>5.115728e-01</td>\n",
       "      <td>-1.065957e-01</td>\n",
       "      <td>9.374092e-01</td>\n",
       "      <td>-3.049417e-01</td>\n",
       "      <td>9.071993e-01</td>\n",
       "      <td>2.915825e-01</td>\n",
       "      <td>6.060414e-01</td>\n",
       "      <td>...</td>\n",
       "      <td>6.323214e-01</td>\n",
       "      <td>5.448965e-01</td>\n",
       "      <td>-9.808756e-02</td>\n",
       "      <td>1.447842e+00</td>\n",
       "      <td>6.697935e-01</td>\n",
       "      <td>6.777747e-01</td>\n",
       "      <td>6.411222e-01</td>\n",
       "      <td>7.475686e-01</td>\n",
       "      <td>3.368438e-01</td>\n",
       "      <td>-3.129271e-02</td>\n",
       "    </tr>\n",
       "    <tr>\n",
       "      <td>max</td>\n",
       "      <td>1.948918e+01</td>\n",
       "      <td>8.437363e+00</td>\n",
       "      <td>7.651878e+00</td>\n",
       "      <td>1.248187e+01</td>\n",
       "      <td>3.951112e+01</td>\n",
       "      <td>3.716820e+00</td>\n",
       "      <td>4.926055e+00</td>\n",
       "      <td>2.444371e+00</td>\n",
       "      <td>4.553432e+00</td>\n",
       "      <td>1.022951e+01</td>\n",
       "      <td>...</td>\n",
       "      <td>6.388288e+00</td>\n",
       "      <td>6.163444e+00</td>\n",
       "      <td>3.147422e+01</td>\n",
       "      <td>1.447842e+00</td>\n",
       "      <td>2.439869e+00</td>\n",
       "      <td>2.543003e+00</td>\n",
       "      <td>5.471505e+00</td>\n",
       "      <td>6.429050e+00</td>\n",
       "      <td>1.544390e+01</td>\n",
       "      <td>6.746980e+01</td>\n",
       "    </tr>\n",
       "  </tbody>\n",
       "</table>\n",
       "<p>8 rows × 23 columns</p>\n",
       "</div>"
      ],
      "text/plain": [
       "              price      bedrooms     bathrooms   sqft_living      sqft_lot  \\\n",
       "count  2.159700e+04  2.159700e+04  2.159700e+04  2.159700e+04  2.159700e+04   \n",
       "mean  -5.372992e-17  3.508381e-16 -2.207430e-15 -1.857928e-16  2.098202e-16   \n",
       "std    1.000000e+00  1.000000e+00  1.000000e+00  1.000000e+00  1.000000e+00   \n",
       "min   -1.258401e+00 -2.623405e+00 -2.101247e+00 -1.862880e+00 -3.520522e-01   \n",
       "25%   -5.942175e-01 -4.112514e-01 -4.757266e-01 -7.083297e-01 -2.429067e-01   \n",
       "50%   -2.457932e-01 -4.112514e-01  1.744818e-01 -1.855143e-01 -1.806552e-01   \n",
       "75%    2.850095e-01  6.948254e-01  4.995859e-01  5.115728e-01 -1.065957e-01   \n",
       "max    1.948918e+01  8.437363e+00  7.651878e+00  1.248187e+01  3.951112e+01   \n",
       "\n",
       "             floors          view     condition         grade  sqft_basement  \\\n",
       "count  2.159700e+04  2.159700e+04  2.159700e+04  2.159700e+04   2.159700e+04   \n",
       "mean  -1.925871e-14 -1.646217e-15  2.583457e-15  1.586436e-14  -6.619092e-15   \n",
       "std    1.000000e+00  1.000000e+00  1.000000e+00  1.000000e+00   1.000000e+00   \n",
       "min   -9.155311e-01 -3.049417e-01 -3.704314e+00 -3.970267e+00  -6.590156e-01   \n",
       "25%   -9.155311e-01 -3.049417e-01 -6.299719e-01 -5.607873e-01  -6.590156e-01   \n",
       "50%    1.093901e-02 -3.049417e-01 -6.299719e-01 -5.607873e-01  -6.590156e-01   \n",
       "75%    9.374092e-01 -3.049417e-01  9.071993e-01  2.915825e-01   6.060414e-01   \n",
       "max    3.716820e+00  4.926055e+00  2.444371e+00  4.553432e+00   1.022951e+01   \n",
       "\n",
       "       ...          long  sqft_living15    sqft_lot15     year_sold  \\\n",
       "count  ...  2.159700e+04   2.159700e+04  2.159700e+04  2.159700e+04   \n",
       "mean   ... -4.654050e-12  -1.936580e-16 -1.840605e-16  1.187230e-13   \n",
       "std    ...  1.000000e+00   1.000000e+00  1.000000e+00  1.000000e+00   \n",
       "min    ... -2.167495e+00  -2.316914e+00 -4.439058e-01 -6.906510e-01   \n",
       "25%    ... -8.102234e-01  -7.247493e-01 -2.807861e-01 -6.906510e-01   \n",
       "50%    ... -1.209286e-01  -2.139723e-01 -1.883919e-01 -6.906510e-01   \n",
       "75%    ...  6.323214e-01   5.448965e-01 -9.808756e-02  1.447842e+00   \n",
       "max    ...  6.388288e+00   6.163444e+00  3.147422e+01  1.447842e+00   \n",
       "\n",
       "                age      yrs_reno  dist_to_Seattle  dist_to_Renton  \\\n",
       "count  2.159700e+04  2.159700e+04     2.159700e+04    2.159700e+04   \n",
       "mean  -6.064613e-16 -6.553282e-17    -8.318412e-15    8.570293e-15   \n",
       "std    1.000000e+00  1.000000e+00     1.000000e+00    1.000000e+00   \n",
       "min   -1.508760e+00 -1.463784e+00    -1.614257e+00   -2.244317e+00   \n",
       "25%   -8.620023e-01 -8.765826e-01    -8.204474e-01   -7.677515e-01   \n",
       "50%   -1.131243e-01 -1.512158e-01    -1.811983e-01    1.316157e-02   \n",
       "75%    6.697935e-01  6.777747e-01     6.411222e-01    7.475686e-01   \n",
       "max    2.439869e+00  2.543003e+00     5.471505e+00    6.429050e+00   \n",
       "\n",
       "       rel_size_living  rel_size_lot  \n",
       "count     2.159700e+04  2.159700e+04  \n",
       "mean     -6.459943e-15  2.863982e-15  \n",
       "std       1.000000e+00  1.000000e+00  \n",
       "min      -2.703197e+00 -8.422606e-01  \n",
       "25%      -5.368399e-01 -1.533866e-01  \n",
       "50%      -1.659137e-01 -1.042341e-01  \n",
       "75%       3.368438e-01 -3.129271e-02  \n",
       "max       1.544390e+01  6.746980e+01  \n",
       "\n",
       "[8 rows x 23 columns]"
      ]
     },
     "execution_count": 41,
     "metadata": {},
     "output_type": "execute_result"
    }
   ],
   "source": [
    "scaled_con_data = pd.DataFrame([])\n",
    "for col in con_data.columns:\n",
    "    scaled_con_data[col] = scale(col) \n",
    "scaled_con_data.describe()"
   ]
  },
  {
   "cell_type": "code",
   "execution_count": 42,
   "metadata": {},
   "outputs": [],
   "source": [
    "model_data = scaled_con_data.join(cat_data, how='outer')\n",
    "model_data.head()\n",
    "\n",
    "#Save complete dataset for visualising later.\n",
    "data_fin = model_data.join(groups, how='outer')"
   ]
  },
  {
   "cell_type": "markdown",
   "metadata": {},
   "source": [
    "# Build a Baseline Model"
   ]
  },
  {
   "cell_type": "code",
   "execution_count": 43,
   "metadata": {},
   "outputs": [
    {
     "data": {
      "text/plain": [
       "count    2.159700e+04\n",
       "mean    -5.372992e-17\n",
       "std      1.000000e+00\n",
       "min     -1.258401e+00\n",
       "25%     -5.942175e-01\n",
       "50%     -2.457932e-01\n",
       "75%      2.850095e-01\n",
       "max      1.948918e+01\n",
       "Name: price, dtype: float64"
      ]
     },
     "execution_count": 43,
     "metadata": {},
     "output_type": "execute_result"
    }
   ],
   "source": [
    "#Drop dependent variables\n",
    "X = model_data.drop('price', axis=1)\n",
    "y = model_data['price']\n",
    "y.describe()"
   ]
  },
  {
   "cell_type": "code",
   "execution_count": 44,
   "metadata": {},
   "outputs": [],
   "source": [
    "(X_train,X_test,\n",
    " y_train,y_test)=train_test_split(X,y,test_size=.2,\n",
    "                                  random_state=37)"
   ]
  },
  {
   "cell_type": "markdown",
   "metadata": {},
   "source": [
    "To begin I'll fit a model with all the data in order to establish a baseline for future models."
   ]
  },
  {
   "cell_type": "code",
   "execution_count": 45,
   "metadata": {},
   "outputs": [],
   "source": [
    "linreg = LinearRegression()\n",
    "model1 = linreg.fit(X_train,y_train)\n",
    "crossval = KFold(n_splits=10, shuffle=True)"
   ]
  },
  {
   "cell_type": "code",
   "execution_count": 46,
   "metadata": {},
   "outputs": [
    {
     "data": {
      "text/plain": [
       "numpy.ndarray"
      ]
     },
     "execution_count": 46,
     "metadata": {},
     "output_type": "execute_result"
    }
   ],
   "source": [
    "type(model1.coef_)"
   ]
  },
  {
   "cell_type": "code",
   "execution_count": 47,
   "metadata": {},
   "outputs": [],
   "source": [
    "def report(model):\n",
    "    \"\"\"\n",
    "    Return relevant statistics for a model\n",
    "    \n",
    "    Parameters:\n",
    "    model: Fitted LinearRegression object\n",
    "    \"\"\"\n",
    "    pred_y_train = model.predict(X_train)\n",
    "    pred_y_test = model.predict(X_test)\n",
    "    \n",
    "    train_mse = mean_squared_error(y_train, pred_y_train)\n",
    "    test_mse = mean_squared_error(y_test, pred_y_test)\n",
    "    \n",
    "    coefs = []\n",
    "    high_coefs = []\n",
    "    \n",
    "    for i in range(0, len(model.coef_)):\n",
    "        coefs.append((model.coef_[i],X.columns[i]))\n",
    "    \n",
    "    for coef in coefs:\n",
    "        if abs(coef[0]) > abs(np.quantile(model.coef_, .05)):\n",
    "            high_coefs.append(coef)\n",
    "    \n",
    "    print('High Impact Variables:\\n')\n",
    "    \n",
    "    for variable in high_coefs:\n",
    "        print('Variable: {}\\nCoefficient: {}\\n'\n",
    "              .format(variable[1],variable[0]))\n",
    "\n",
    "    print('\\nTrain MSE: {}\\nTest MSE: {}\\nDifference:{}\\n'\n",
    "          .format((train_mse),(test_mse),\n",
    "                  (train_mse-test_mse)))\n",
    "    print('Test R^2: {}\\n'\n",
    "          .format((r2_score(y_test,pred_y_test))))\n",
    "    print('CrossVal R^2: {}'\n",
    "          .format(np.mean(cross_val_score(model,X_train,\n",
    "                                          y_train,\n",
    "                                          scoring='r2',\n",
    "                                          cv=crossval))))\n",
    "    plotdf = pd.DataFrame([])\n",
    "    plotdf['test_resids'] = pred_y_test-y_test\n",
    "    plotdf['y_test'] = y_test\n",
    "    sns.jointplot(x = 'y_test', y = 'test_resids',\n",
    "                  data=plotdf)"
   ]
  },
  {
   "cell_type": "code",
   "execution_count": 48,
   "metadata": {
    "scrolled": false
   },
   "outputs": [
    {
     "name": "stdout",
     "output_type": "stream",
     "text": [
      "High Impact Variables:\n",
      "\n",
      "Variable: yr_built\n",
      "Coefficient: -613840620573.1442\n",
      "\n",
      "Variable: yr_renovated\n",
      "Coefficient: -260604560832.80823\n",
      "\n",
      "Variable: age\n",
      "Coefficient: -613883470693.3959\n",
      "\n",
      "Variable: yrs_reno\n",
      "Coefficient: -260653892735.51376\n",
      "\n",
      "Variable: Feb\n",
      "Coefficient: -21597495985.422497\n",
      "\n",
      "Variable: Jan\n",
      "Coefficient: -21597495985.4346\n",
      "\n",
      "Variable: Bellevue\n",
      "Coefficient: 53024353568.701485\n",
      "\n",
      "Variable: Federal Way\n",
      "Coefficient: 53024353568.744156\n",
      "\n",
      "Variable: Kent\n",
      "Coefficient: 53024353568.74689\n",
      "\n",
      "Variable: Renton\n",
      "Coefficient: 53024353568.67581\n",
      "\n",
      "Variable: Seattle\n",
      "Coefficient: 53024353568.69329\n",
      "\n",
      "Variable: Tacoma\n",
      "Coefficient: 53024353568.771355\n",
      "\n",
      "\n",
      "Train MSE: 0.18008630542291482\n",
      "Test MSE: 0.18423922266260462\n",
      "Difference:-0.004152917239689802\n",
      "\n",
      "Test R^2: 0.8243475249458074\n",
      "\n",
      "CrossVal R^2: 0.8136314577197504\n"
     ]
    },
    {
     "data": {
      "image/png": "[encoded data removed]",
      "text/plain": [
       "<Figure size 432x432 with 3 Axes>"
      ]
     },
     "metadata": {
      "needs_background": "light"
     },
     "output_type": "display_data"
    }
   ],
   "source": [
    "report(model1)"
   ]
  },
  {
   "cell_type": "markdown",
   "metadata": {},
   "source": [
    "Based on the MSE and R-squared, the model seems fairly accurate. However, based on the scatterplot of residuals, it is clear that the model is not generalizable, especially for high value homes.\n",
    "\n",
    "# Train the Model\n",
    "In order to train the model and verify it's validity I will conduct the following steps:\n",
    "\n",
    "1. Find and include interactions.\n",
    "2. Find and include polynomial features.\n",
    "3. Satisfy Assumptions.\n",
    "4. Validate Model\n",
    "\n",
    "During this process I will continually test the models and eliminate variables that do not serve the model.\n",
    "\n",
    "## Find and Include Interactions"
   ]
  },
  {
   "cell_type": "code",
   "execution_count": 54,
   "metadata": {},
   "outputs": [
    {
     "name": "stdout",
     "output_type": "stream",
     "text": [
      "<class 'pandas.core.frame.DataFrame'>\n",
      "Int64Index: 17277 entries, 12153 to 1935\n",
      "Columns: 111 entries, bedrooms to Tacoma\n",
      "dtypes: float64(22), uint8(89)\n",
      "memory usage: 5.1 MB\n"
     ]
    }
   ],
   "source": [
    "X_train.info()"
   ]
  },
  {
   "cell_type": "code",
   "execution_count": 59,
   "metadata": {
    "scrolled": true
   },
   "outputs": [
    {
     "data": {
      "text/plain": [
       "12153    2.201703\n",
       "7456    -0.205455\n",
       "1175     0.721833\n",
       "4737    -0.071756\n",
       "10775    7.223511\n",
       "           ...   \n",
       "4118     2.201703\n",
       "988     -0.071756\n",
       "9036     0.121234\n",
       "20843   -0.071756\n",
       "1935    -0.205455\n",
       "Length: 17277, dtype: float64"
      ]
     },
     "execution_count": 59,
     "metadata": {},
     "output_type": "execute_result"
    }
   ],
   "source": [
    "con_data_train = (X_train.select_dtypes(exclude='uint8'))\n",
    "con_data_train['bedrooms']*con_data_train['bathrooms']"
   ]
  },
  {
   "cell_type": "code",
   "execution_count": 65,
   "metadata": {
    "scrolled": true
   },
   "outputs": [
    {
     "data": {
      "text/plain": [
       "str"
      ]
     },
     "execution_count": 65,
     "metadata": {},
     "output_type": "execute_result"
    }
   ],
   "source": [
    "combos = list(combinations(con_data_train.columns, 2))\n",
    "type(combos[0][0])"
   ]
  },
  {
   "cell_type": "code",
   "execution_count": 68,
   "metadata": {},
   "outputs": [
    {
     "data": {
      "text/plain": [
       "12153   -1.517328\n",
       "7456    -0.411251\n",
       "1175    -1.517328\n",
       "4737    -0.411251\n",
       "10775    4.013056\n",
       "           ...   \n",
       "4118    -1.517328\n",
       "988     -0.411251\n",
       "9036     0.694825\n",
       "20843   -0.411251\n",
       "1935    -0.411251\n",
       "Name: bedrooms, Length: 17277, dtype: float64"
      ]
     },
     "execution_count": 68,
     "metadata": {},
     "output_type": "execute_result"
    }
   ],
   "source": [
    "con_data_train.loc[:,'bedrooms']"
   ]
  },
  {
   "cell_type": "code",
   "execution_count": 73,
   "metadata": {},
   "outputs": [
    {
     "name": "stdout",
     "output_type": "stream",
     "text": [
      "[(0.15014319836614934, 'sqft_living', 'dist_to_Seattle'), (0.15283966417292377, 'sqft_living', 'grade'), (0.16013813864746798, 'grade', 'dist_to_Seattle'), (0.16075188748248836, 'bathrooms', 'sqft_living'), (0.161669769271221, 'bathrooms', 'grade'), (0.16192026718275707, 'sqft_living15', 'dist_to_Seattle'), (0.16781791268477894, 'bathrooms', 'dist_to_Seattle'), (0.1678637757884959, 'sqft_living', 'sqft_basement'), (0.16794186921068074, 'sqft_living', 'interaction'), (0.16805932864925482, 'grade', 'sqft_basement')]\n"
     ]
    }
   ],
   "source": [
    "con_data_train = (X_train.select_dtypes(exclude='uint8'))\n",
    "combos = list(combinations(con_data_train.columns, 2))\n",
    "inters = [(1,0,0)]*10\n",
    "temp_X = X_train.loc[:]\n",
    "for combo in combos:\n",
    "    temp_X['interaction'] = (con_data_train.loc[:, combo[0]]\n",
    "                             *con_data_train.loc[:, combo[1]])\n",
    "    linreg = LinearRegression()\n",
    "    model = linreg.fit(temp_X, y_train)\n",
    "    y_pred = model.predict(temp_X)\n",
    "    score = mean_squared_error(y_train, y_pred)\n",
    "    if score < inters[-1][0]:\n",
    "        inters.append((score, combo[0], combo[1]))\n",
    "        inters = sorted(inters)[:10]\n",
    "print(inters) "
   ]
  },
  {
   "cell_type": "code",
   "execution_count": null,
   "metadata": {},
   "outputs": [],
   "source": [
    "def find_inters(n, model):\n",
    "    \"\"\"\n",
    "    Returns n most predictive interactions based on MSE.\n",
    "    \n",
    "    Parameters:\n",
    "    n: int. the number of interactions selected.\n",
    "    X: pandas dataframe. independent variables being selected\n",
    "    from\n",
    "    \"\"\"\n",
    "    con_data_train = (X_train.select_dtypes(exclude='uint8'))\n",
    "    combos = list(combinations(con_data_train.columns, 2))\n",
    "    inters = [(1,0,0)]*n\n",
    "    temp_X = X_train\n",
    "    for combo in combos:\n",
    "        temp_X['interaction']=(con_data_train[combo[0]]\n",
    "                              *con_data_train[combo[1]])\n",
    "        linreg = LinearRegression()\n",
    "        model = linreg.fit(temp_X, y_train)\n",
    "        y_pred = model.predict(temp_X)\n",
    "        score = mean_squared_error(y_train, y_pred)\n",
    "        if score < inters[-1][0]:\n",
    "            inters.append((score, combo[0], combo[1]))\n",
    "            inters = sorted(inters)[:n]\n",
    "    return inters"
   ]
  },
  {
   "cell_type": "code",
   "execution_count": null,
   "metadata": {},
   "outputs": [],
   "source": [
    "print(find_inters(10,model1))"
   ]
  },
  {
   "cell_type": "code",
   "execution_count": null,
   "metadata": {},
   "outputs": [],
   "source": [
    "def optimize_variables(X,y):\n",
    "    \"\"\"\n",
    "    Forward selects variables by adjusted R^2.\n",
    "    \n",
    "    Parameters:\n",
    "    X: pandas dataframe. independent variables.\n",
    "    y: pandas series. dependent variable.\n",
    "    \n",
    "    Returns:\n",
    "    Optimized model. \n",
    "    \"\"\"\n",
    "current_score, best_score = 0, 0\n",
    "remaining = set(X.columns)\n",
    "selected = pd.DataFrame()\n",
    "while remaining and not current_score > best_score:\n",
    "    scores_with_candidates = []\n",
    "    for candidate in remaining:\n",
    "        test_x = selected.join(X[str(candidate)], how='outer')\n",
    "        score = sm.OLS(y,test_x).fit().rsquared_adj\n",
    "        scores_with_candidates.append((score,candidate))\n",
    "    scores_with_candidates.sort()\n",
    "    best_score, best_candidate = scores_with_candidates.pop()\n",
    "    if current_score < best_score:\n",
    "        remaining.remove(best_candidate)\n",
    "        selected = selected.join(X[str(best_candidate)], how='outer')\n",
    "        current_score = best_score\n",
    "print('Selected Columns: {}'.format(selected.columns))\n",
    "best_vars = sm.add_constant(selected)\n",
    "return sm.OLS(y, best_vars).fit()"
   ]
  },
  {
   "cell_type": "code",
   "execution_count": null,
   "metadata": {
    "scrolled": true
   },
   "outputs": [],
   "source": [
    "def isolate(col):\n",
    "    ind_var = pd.DataFrame(X[col]) \n",
    "    frozen_var = X.drop(col, axis=1)\n",
    "    for fro_col in frozen_var.columns:\n",
    "        frozen_var[fro_col] = frozen_var[fro_col].mean()\n",
    "    iso_X = ind_var.join(frozen_var, how='outer')\n",
    "    return iso_X"
   ]
  }
 ],
 "metadata": {
  "kernelspec": {
   "display_name": "learn-env",
   "language": "python",
   "name": "learn-env"
  },
  "language_info": {
   "codemirror_mode": {
    "name": "ipython",
    "version": 3
   },
   "file_extension": ".py",
   "mimetype": "text/x-python",
   "name": "python",
   "nbconvert_exporter": "python",
   "pygments_lexer": "ipython3",
   "version": "3.7.4"
  }
 },
 "nbformat": 4,
 "nbformat_minor": 2
}
